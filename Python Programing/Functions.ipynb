{
 "cells": [
  {
   "cell_type": "code",
   "execution_count": 1,
   "id": "f799e986",
   "metadata": {},
   "outputs": [],
   "source": [
    "def maximum(a,b):   #function definition\n",
    "    if a>b:\n",
    "        big=a\n",
    "    else:\n",
    "        big=b\n",
    "    return big\n"
   ]
  },
  {
   "cell_type": "code",
   "execution_count": 2,
   "id": "af8a7161",
   "metadata": {},
   "outputs": [
    {
     "data": {
      "text/plain": [
       "20"
      ]
     },
     "execution_count": 2,
     "metadata": {},
     "output_type": "execute_result"
    }
   ],
   "source": [
    "maximum(10,20)      #function call"
   ]
  },
  {
   "cell_type": "code",
   "execution_count": 8,
   "id": "ee35844f",
   "metadata": {},
   "outputs": [
    {
     "data": {
      "text/plain": [
       "10"
      ]
     },
     "execution_count": 8,
     "metadata": {},
     "output_type": "execute_result"
    }
   ],
   "source": [
    "max_num=maximum(10,8)\n",
    "max_num"
   ]
  },
  {
   "cell_type": "code",
   "execution_count": 12,
   "id": "6c3a94de",
   "metadata": {},
   "outputs": [],
   "source": [
    "def maximu(a,b):   #function definition\n",
    "    if a>b:\n",
    "        print('Hello')\n",
    "    else:\n",
    "        print('World')\n",
    "    #return None"
   ]
  },
  {
   "cell_type": "code",
   "execution_count": 13,
   "id": "5f308a42",
   "metadata": {},
   "outputs": [
    {
     "name": "stdout",
     "output_type": "stream",
     "text": [
      "Hello\n"
     ]
    }
   ],
   "source": [
    "maximu(10,8)"
   ]
  },
  {
   "cell_type": "code",
   "execution_count": 14,
   "id": "a2abb6b0",
   "metadata": {},
   "outputs": [
    {
     "name": "stdout",
     "output_type": "stream",
     "text": [
      "Hello\n",
      "None\n"
     ]
    }
   ],
   "source": [
    "print(maximu(10,8))"
   ]
  },
  {
   "cell_type": "code",
   "execution_count": 17,
   "id": "3f3125d2",
   "metadata": {},
   "outputs": [
    {
     "name": "stdout",
     "output_type": "stream",
     "text": [
      "larger number is :  5\n"
     ]
    }
   ],
   "source": [
    "def max(num1,num2):\n",
    "    if num1>num2:\n",
    "        result=num1\n",
    "    else:\n",
    "        result=num2\n",
    "    return result\n",
    "def main():\n",
    "    i=5\n",
    "    j=2\n",
    "    k=max(i,j)\n",
    "    print('larger number is : ',k)\n",
    "main()\n"
   ]
  },
  {
   "cell_type": "code",
   "execution_count": 18,
   "id": "8e7410f6",
   "metadata": {},
   "outputs": [
    {
     "name": "stdout",
     "output_type": "stream",
     "text": [
      "larger number is :  5\n"
     ]
    }
   ],
   "source": [
    "def max(num1,num2):\n",
    "    if num1>num2:\n",
    "        result=num1\n",
    "    else:\n",
    "        result=num2\n",
    "    return result\n",
    "print('larger number is : ',max(5,2))"
   ]
  },
  {
   "cell_type": "markdown",
   "id": "a5d58135",
   "metadata": {},
   "source": [
    "## Function Arguements"
   ]
  },
  {
   "cell_type": "markdown",
   "id": "0b0188cc",
   "metadata": {},
   "source": [
    "### Arbitary Arguement"
   ]
  },
  {
   "cell_type": "code",
   "execution_count": 1,
   "id": "3be8b5d2",
   "metadata": {},
   "outputs": [
    {
     "name": "stdout",
     "output_type": "stream",
     "text": [
      "('sachin', 'charlie', 'joseph', 'rohit')\n",
      "Hello, sachin\n",
      "Hello, charlie\n",
      "Hello, joseph\n",
      "Hello, rohit\n"
     ]
    }
   ],
   "source": [
    "def greet(*names):\n",
    "    print(names)\n",
    "    for name in names:\n",
    "        print('Hello, {0}'.format(name))\n",
    "greet('sachin','charlie','joseph','rohit')"
   ]
  },
  {
   "cell_type": "markdown",
   "id": "a336f663",
   "metadata": {},
   "source": [
    "### Scope and life time of variables"
   ]
  },
  {
   "cell_type": "code",
   "execution_count": 3,
   "id": "49b81afd",
   "metadata": {},
   "outputs": [
    {
     "name": "stdout",
     "output_type": "stream",
     "text": [
      "100\n",
      "This is a global variable\n",
      "This is a global variable\n"
     ]
    },
    {
     "ename": "NameError",
     "evalue": "name 'local_var' is not defined",
     "output_type": "error",
     "traceback": [
      "\u001b[1;31m---------------------------------------------------------------------------\u001b[0m",
      "\u001b[1;31mNameError\u001b[0m                                 Traceback (most recent call last)",
      "Input \u001b[1;32mIn [3]\u001b[0m, in \u001b[0;36m<cell line: 13>\u001b[1;34m()\u001b[0m\n\u001b[0;32m      9\u001b[0m test_life_time()\n\u001b[0;32m     11\u001b[0m \u001b[38;5;28mprint\u001b[39m(global_var)\n\u001b[1;32m---> 13\u001b[0m \u001b[38;5;28mprint\u001b[39m(\u001b[43mlocal_var\u001b[49m)\n",
      "\u001b[1;31mNameError\u001b[0m: name 'local_var' is not defined"
     ]
    }
   ],
   "source": [
    "global_var='This is a global variable'\n",
    "\n",
    "def test_life_time():\n",
    "    local_var=100\n",
    "    print(local_var)\n",
    "    print(global_var)\n",
    "    \n",
    "#calling function\n",
    "test_life_time()\n",
    "\n",
    "print(global_var)\n",
    "\n",
    "print(local_var) #variable is not defined"
   ]
  },
  {
   "cell_type": "code",
   "execution_count": 4,
   "id": "e2c9e7c6",
   "metadata": {},
   "outputs": [
    {
     "name": "stdout",
     "output_type": "stream",
     "text": [
      "2\n",
      "2\n"
     ]
    }
   ],
   "source": [
    "var=1 #global variable\n",
    "def increase():\n",
    "    global var\n",
    "    var+=1\n",
    "    print(var)\n",
    "\n",
    "increase()\n",
    "print(var)"
   ]
  },
  {
   "cell_type": "markdown",
   "id": "b9daebb6",
   "metadata": {},
   "source": [
    "## Buit in functions"
   ]
  },
  {
   "cell_type": "markdown",
   "id": "8ba4cbc0",
   "metadata": {},
   "source": [
    "### abs()"
   ]
  },
  {
   "cell_type": "code",
   "execution_count": 7,
   "id": "f318a097",
   "metadata": {},
   "outputs": [
    {
     "data": {
      "text/plain": [
       "200"
      ]
     },
     "execution_count": 7,
     "metadata": {},
     "output_type": "execute_result"
    }
   ],
   "source": [
    "num=-200\n",
    "abs(num)"
   ]
  },
  {
   "cell_type": "markdown",
   "id": "a416f866",
   "metadata": {},
   "source": [
    "### all()"
   ]
  },
  {
   "cell_type": "code",
   "execution_count": 8,
   "id": "ca279ed3",
   "metadata": {},
   "outputs": [],
   "source": [
    "lists=[1,2,3,'python']"
   ]
  },
  {
   "cell_type": "code",
   "execution_count": 9,
   "id": "022f275f",
   "metadata": {},
   "outputs": [
    {
     "data": {
      "text/plain": [
       "True"
      ]
     },
     "execution_count": 9,
     "metadata": {},
     "output_type": "execute_result"
    }
   ],
   "source": [
    "all(lists)"
   ]
  },
  {
   "cell_type": "code",
   "execution_count": 10,
   "id": "a9bd7a9d",
   "metadata": {},
   "outputs": [
    {
     "data": {
      "text/plain": [
       "False"
      ]
     },
     "execution_count": 10,
     "metadata": {},
     "output_type": "execute_result"
    }
   ],
   "source": [
    "lists=[1,2,3,'python',0]\n",
    "all(lists)"
   ]
  },
  {
   "cell_type": "code",
   "execution_count": 13,
   "id": "b80d4d79",
   "metadata": {},
   "outputs": [
    {
     "data": {
      "text/plain": [
       "False"
      ]
     },
     "execution_count": 13,
     "metadata": {},
     "output_type": "execute_result"
    }
   ],
   "source": [
    "lists=[1,2,3,'python',None]\n",
    "all(lists)"
   ]
  },
  {
   "cell_type": "code",
   "execution_count": 14,
   "id": "88e281a3",
   "metadata": {},
   "outputs": [
    {
     "data": {
      "text/plain": [
       "False"
      ]
     },
     "execution_count": 14,
     "metadata": {},
     "output_type": "execute_result"
    }
   ],
   "source": [
    "lists=[1,2,3,'python',False]\n",
    "all(lists)"
   ]
  },
  {
   "cell_type": "code",
   "execution_count": 15,
   "id": "588a0119",
   "metadata": {},
   "outputs": [
    {
     "data": {
      "text/plain": [
       "True"
      ]
     },
     "execution_count": 15,
     "metadata": {},
     "output_type": "execute_result"
    }
   ],
   "source": [
    "lists=[]\n",
    "all(lists)"
   ]
  },
  {
   "cell_type": "markdown",
   "id": "30b145e1",
   "metadata": {},
   "source": [
    "### dir()"
   ]
  },
  {
   "cell_type": "code",
   "execution_count": 16,
   "id": "ad77e9d2",
   "metadata": {},
   "outputs": [
    {
     "data": {
      "text/plain": [
       "['__add__',\n",
       " '__class__',\n",
       " '__class_getitem__',\n",
       " '__contains__',\n",
       " '__delattr__',\n",
       " '__delitem__',\n",
       " '__dir__',\n",
       " '__doc__',\n",
       " '__eq__',\n",
       " '__format__',\n",
       " '__ge__',\n",
       " '__getattribute__',\n",
       " '__getitem__',\n",
       " '__gt__',\n",
       " '__hash__',\n",
       " '__iadd__',\n",
       " '__imul__',\n",
       " '__init__',\n",
       " '__init_subclass__',\n",
       " '__iter__',\n",
       " '__le__',\n",
       " '__len__',\n",
       " '__lt__',\n",
       " '__mul__',\n",
       " '__ne__',\n",
       " '__new__',\n",
       " '__reduce__',\n",
       " '__reduce_ex__',\n",
       " '__repr__',\n",
       " '__reversed__',\n",
       " '__rmul__',\n",
       " '__setattr__',\n",
       " '__setitem__',\n",
       " '__sizeof__',\n",
       " '__str__',\n",
       " '__subclasshook__',\n",
       " 'append',\n",
       " 'clear',\n",
       " 'copy',\n",
       " 'count',\n",
       " 'extend',\n",
       " 'index',\n",
       " 'insert',\n",
       " 'pop',\n",
       " 'remove',\n",
       " 'reverse',\n",
       " 'sort']"
      ]
     },
     "execution_count": 16,
     "metadata": {},
     "output_type": "execute_result"
    }
   ],
   "source": [
    "lists=[]\n",
    "dir(lists)"
   ]
  },
  {
   "cell_type": "markdown",
   "id": "860bee1a",
   "metadata": {},
   "source": [
    "### divmod()"
   ]
  },
  {
   "cell_type": "code",
   "execution_count": 17,
   "id": "637bba69",
   "metadata": {},
   "outputs": [
    {
     "data": {
      "text/plain": [
       "(4, 1)"
      ]
     },
     "execution_count": 17,
     "metadata": {},
     "output_type": "execute_result"
    }
   ],
   "source": [
    "divmod(9,2)"
   ]
  },
  {
   "cell_type": "markdown",
   "id": "6944ce9f",
   "metadata": {},
   "source": [
    "### enumerate()"
   ]
  },
  {
   "cell_type": "code",
   "execution_count": 18,
   "id": "6d8d0a71",
   "metadata": {},
   "outputs": [
    {
     "name": "stdout",
     "output_type": "stream",
     "text": [
      "0 1\n",
      "1 2\n",
      "2 3\n",
      "3 4\n",
      "4 5\n"
     ]
    }
   ],
   "source": [
    "num=[1,2,3,4,5]\n",
    "for index,num in enumerate(num):\n",
    "    print(index,num)"
   ]
  },
  {
   "cell_type": "code",
   "execution_count": 19,
   "id": "ec955521",
   "metadata": {},
   "outputs": [
    {
     "name": "stdout",
     "output_type": "stream",
     "text": [
      "1 1\n",
      "2 2\n",
      "3 3\n",
      "4 4\n",
      "5 5\n"
     ]
    }
   ],
   "source": [
    "num=[1,2,3,4,5]\n",
    "for index,num in enumerate(num,start=1):\n",
    "    print(index,num)"
   ]
  },
  {
   "cell_type": "code",
   "execution_count": 20,
   "id": "07152eea",
   "metadata": {},
   "outputs": [
    {
     "name": "stdout",
     "output_type": "stream",
     "text": [
      "0 p\n",
      "1 y\n",
      "2 t\n",
      "3 h\n",
      "4 o\n",
      "5 n\n"
     ]
    }
   ],
   "source": [
    "num='python'\n",
    "for index,num in enumerate(num):\n",
    "    print(index,num)"
   ]
  },
  {
   "cell_type": "markdown",
   "id": "fb337b23",
   "metadata": {},
   "source": [
    "### zip()"
   ]
  },
  {
   "cell_type": "code",
   "execution_count": 22,
   "id": "0adb9384",
   "metadata": {},
   "outputs": [
    {
     "data": {
      "text/plain": [
       "[('python', 10), ('math', 20), ('english', 30)]"
      ]
     },
     "execution_count": 22,
     "metadata": {},
     "output_type": "execute_result"
    }
   ],
   "source": [
    "list1=['python','math','english']\n",
    "list2=[10,20,30]\n",
    "zipped=list(zip(list1,list2))\n",
    "zipped"
   ]
  },
  {
   "cell_type": "code",
   "execution_count": 23,
   "id": "b76d95ed",
   "metadata": {},
   "outputs": [
    {
     "data": {
      "text/plain": [
       "{'python': 10, 'math': 20, 'english': 30}"
      ]
     },
     "execution_count": 23,
     "metadata": {},
     "output_type": "execute_result"
    }
   ],
   "source": [
    "list1=['python','math','english']\n",
    "list2=[10,20,30]\n",
    "zipped=dict(zip(list1,list2))\n",
    "zipped"
   ]
  },
  {
   "cell_type": "code",
   "execution_count": 24,
   "id": "1f9ba339",
   "metadata": {},
   "outputs": [
    {
     "data": {
      "text/plain": [
       "[('python', 10), ('math', 20), ('english', 30)]"
      ]
     },
     "execution_count": 24,
     "metadata": {},
     "output_type": "execute_result"
    }
   ],
   "source": [
    "list1=['python','math','english']\n",
    "list2=[10,20,30,40]\n",
    "zipped=list(zip(list1,list2)) \n",
    "zipped"
   ]
  },
  {
   "cell_type": "markdown",
   "id": "c6666121",
   "metadata": {},
   "source": [
    "### filter()"
   ]
  },
  {
   "cell_type": "code",
   "execution_count": 25,
   "id": "a2ed4acf",
   "metadata": {},
   "outputs": [
    {
     "data": {
      "text/plain": [
       "[1, 2, 3, 4, 5, 6, 7, 8, 9]"
      ]
     },
     "execution_count": 25,
     "metadata": {},
     "output_type": "execute_result"
    }
   ],
   "source": [
    "def find_positive(num):\n",
    "    if num>0:\n",
    "        return num\n",
    "    \n",
    "list1=list(range(-10,10))\n",
    "positive=list(filter(find_positive,list1))\n",
    "positive\n",
    "    "
   ]
  },
  {
   "cell_type": "markdown",
   "id": "2ef52c25",
   "metadata": {},
   "source": [
    "### isinstance()"
   ]
  },
  {
   "cell_type": "code",
   "execution_count": null,
   "id": "3e63e166",
   "metadata": {},
   "outputs": [],
   "source": [
    "list1=[1,2,3,4]\n",
    "list2=isinstance()"
   ]
  },
  {
   "cell_type": "markdown",
   "id": "ff0f4c61",
   "metadata": {},
   "source": [
    "### map()"
   ]
  },
  {
   "cell_type": "code",
   "execution_count": 26,
   "id": "8f954fb7",
   "metadata": {},
   "outputs": [
    {
     "data": {
      "text/plain": [
       "[1, 4, 9, 16, 25, 36, 49, 64, 81]"
      ]
     },
     "execution_count": 26,
     "metadata": {},
     "output_type": "execute_result"
    }
   ],
   "source": [
    "def squared(num):\n",
    "    return num ** 2\n",
    "list1=list(range(1,10))\n",
    "mapped=list(map(squared,list1))\n",
    "mapped"
   ]
  },
  {
   "cell_type": "code",
   "execution_count": 27,
   "id": "3c4a1747",
   "metadata": {},
   "outputs": [
    {
     "data": {
      "text/plain": [
       "[1, 8, 27, 64, 125, 216, 343, 512, 729]"
      ]
     },
     "execution_count": 27,
     "metadata": {},
     "output_type": "execute_result"
    }
   ],
   "source": [
    "def pow(num):\n",
    "    return num ** 3\n",
    "list1=list(range(1,10))\n",
    "mapped=list(map(pow,list1))\n",
    "mapped"
   ]
  },
  {
   "cell_type": "code",
   "execution_count": 30,
   "id": "547b980d",
   "metadata": {},
   "outputs": [
    {
     "data": {
      "text/plain": [
       "[3, 4, 5, 6, 7, 8, 9, 10, 11]"
      ]
     },
     "execution_count": 30,
     "metadata": {},
     "output_type": "execute_result"
    }
   ],
   "source": [
    "def add(num):\n",
    "    return num + 2\n",
    "list1=list(range(1,10))\n",
    "mapped=list(map(add,list1))\n",
    "mapped"
   ]
  },
  {
   "cell_type": "markdown",
   "id": "852d47af",
   "metadata": {},
   "source": [
    "### reduce()"
   ]
  },
  {
   "cell_type": "markdown",
   "id": "14b8500b",
   "metadata": {},
   "source": [
    "### anonymous/lambda function"
   ]
  },
  {
   "cell_type": "code",
   "execution_count": 31,
   "id": "ff4c55eb",
   "metadata": {},
   "outputs": [
    {
     "data": {
      "text/plain": [
       "25"
      ]
     },
     "execution_count": 31,
     "metadata": {},
     "output_type": "execute_result"
    }
   ],
   "source": [
    "def sq(num):\n",
    "    return num**2\n",
    "sq(5)"
   ]
  },
  {
   "cell_type": "code",
   "execution_count": 32,
   "id": "0ecd6cd4",
   "metadata": {},
   "outputs": [
    {
     "data": {
      "text/plain": [
       "<function __main__.<lambda>(num)>"
      ]
     },
     "execution_count": 32,
     "metadata": {},
     "output_type": "execute_result"
    }
   ],
   "source": [
    "lambda  num : num**2"
   ]
  },
  {
   "cell_type": "code",
   "execution_count": 33,
   "id": "83acb412",
   "metadata": {},
   "outputs": [
    {
     "name": "stdout",
     "output_type": "stream",
     "text": [
      "[1, 4, 9, 16]\n"
     ]
    }
   ],
   "source": [
    "number=[1,2,3,4]\n",
    "sq=list(map(lambda num : num**2,number))\n",
    "print(sq)"
   ]
  },
  {
   "cell_type": "code",
   "execution_count": 34,
   "id": "a4a951c8",
   "metadata": {},
   "outputs": [
    {
     "name": "stdout",
     "output_type": "stream",
     "text": [
      "[2, 4]\n"
     ]
    }
   ],
   "source": [
    "number=[1,2,3,4]\n",
    "sq=list(filter(lambda num : num%2==0,number))\n",
    "print(sq)"
   ]
  },
  {
   "cell_type": "code",
   "execution_count": 2,
   "id": "09ace141",
   "metadata": {},
   "outputs": [
    {
     "name": "stdout",
     "output_type": "stream",
     "text": [
      "2\n",
      "2\n"
     ]
    }
   ],
   "source": [
    "var=1\n",
    "def increase():\n",
    "    global var\n",
    "    var=var+1\n",
    "    print(var)\n",
    "increase()\n",
    "print(var)"
   ]
  },
  {
   "cell_type": "code",
   "execution_count": null,
   "id": "35916ae2",
   "metadata": {},
   "outputs": [],
   "source": []
  }
 ],
 "metadata": {
  "kernelspec": {
   "display_name": "Python 3 (ipykernel)",
   "language": "python",
   "name": "python3"
  },
  "language_info": {
   "codemirror_mode": {
    "name": "ipython",
    "version": 3
   },
   "file_extension": ".py",
   "mimetype": "text/x-python",
   "name": "python",
   "nbconvert_exporter": "python",
   "pygments_lexer": "ipython3",
   "version": "3.9.12"
  }
 },
 "nbformat": 4,
 "nbformat_minor": 5
}
