{
 "cells": [
  {
   "cell_type": "code",
   "execution_count": 8,
   "id": "dc7ece0b",
   "metadata": {},
   "outputs": [
    {
     "name": "stdout",
     "output_type": "stream",
     "text": [
      "5\n",
      "* \n",
      "* * \n",
      "* * * \n",
      "* * * * \n",
      "* * * * * \n"
     ]
    }
   ],
   "source": [
    "rows=int(input())\n",
    "for row in range(1,rows+1):\n",
    "    for i in range(row):\n",
    "        print('*',end=' ')\n",
    "    print()   #print('end\\n')\n",
    "    "
   ]
  },
  {
   "cell_type": "code",
   "execution_count": 11,
   "id": "2f84cb20",
   "metadata": {},
   "outputs": [
    {
     "name": "stdout",
     "output_type": "stream",
     "text": [
      "hello world\n"
     ]
    }
   ],
   "source": [
    "print('hello world')"
   ]
  },
  {
   "cell_type": "code",
   "execution_count": 12,
   "id": "0b1ffa9e",
   "metadata": {},
   "outputs": [
    {
     "name": "stdout",
     "output_type": "stream",
     "text": [
      "hello world\n",
      "\n"
     ]
    }
   ],
   "source": [
    "print('hello world')\n",
    "print()"
   ]
  },
  {
   "cell_type": "code",
   "execution_count": 25,
   "id": "4bff013e",
   "metadata": {},
   "outputs": [
    {
     "name": "stdout",
     "output_type": "stream",
     "text": [
      "5\n",
      "1 \n",
      "2 2 \n",
      "3 3 3 \n",
      "4 4 4 4 \n",
      "5 5 5 5 5 \n"
     ]
    }
   ],
   "source": [
    "rows=int(input())\n",
    "for row in range(1,rows+1):\n",
    "    for i in range(row):\n",
    "        print(row,end=' ')\n",
    "    print()"
   ]
  },
  {
   "cell_type": "code",
   "execution_count": 37,
   "id": "3773aaae",
   "metadata": {},
   "outputs": [
    {
     "name": "stdout",
     "output_type": "stream",
     "text": [
      "5\n",
      "1 \n",
      "1 2 \n",
      "1 2 3 \n",
      "1 2 3 4 \n",
      "1 2 3 4 5 \n"
     ]
    }
   ],
   "source": [
    "rows=int(input())\n",
    "for row in range(1,rows+1):\n",
    "    for i in range(1,row+1):\n",
    "        print(i,end=' ')\n",
    "    print()"
   ]
  },
  {
   "cell_type": "code",
   "execution_count": 49,
   "id": "61f8abaf",
   "metadata": {},
   "outputs": [
    {
     "name": "stdout",
     "output_type": "stream",
     "text": [
      "5\n",
      "1 \n",
      "2 3 \n",
      "4 5 6 \n",
      "7 8 9 10 \n",
      "11 12 13 14 15 \n"
     ]
    }
   ],
   "source": [
    "rows=int(input())\n",
    "num=1\n",
    "for row in range(1,rows+1):\n",
    "    for i in range(1,row+1):\n",
    "        print(num,end=' ')\n",
    "        num=num+1\n",
    "    print()"
   ]
  },
  {
   "cell_type": "markdown",
   "id": "f09e1365",
   "metadata": {},
   "source": [
    "### WAP to check prime no"
   ]
  },
  {
   "cell_type": "code",
   "execution_count": 2,
   "id": "f95343ea",
   "metadata": {},
   "outputs": [
    {
     "name": "stdout",
     "output_type": "stream",
     "text": [
      "6\n",
      "6 is not a prime number\n"
     ]
    }
   ],
   "source": [
    "num=int(input())\n",
    "flag=0\n",
    "for i in range(2,num):\n",
    "    if num%i==0:\n",
    "        flag=1\n",
    "        break\n",
    "if flag==0:\n",
    "    print(num, 'is a prime number')\n",
    "else:\n",
    "    print(num, 'is not a prime number')"
   ]
  },
  {
   "cell_type": "code",
   "execution_count": 33,
   "id": "847fbbf4",
   "metadata": {},
   "outputs": [
    {
     "name": "stdout",
     "output_type": "stream",
     "text": [
      "Enter mark of a student: 71\n",
      "Grade of student is :  A\n"
     ]
    }
   ],
   "source": [
    "mark=int(input('Enter mark of a student: '))\n",
    "if mark>=35 and mark<=100:\n",
    "    if mark>=35 and mark <=40:\n",
    "        grade='D'\n",
    "    elif mark>=41 and mark<=50:\n",
    "        grade='C'\n",
    "    elif mark>=51 and mark<=60:\n",
    "        grade='B'\n",
    "    elif mark>=61 and mark<=70:\n",
    "        grade='B+'\n",
    "    elif mark>=71 and mark<=80:\n",
    "        grade='A'\n",
    "    elif mark>=81 and mark<=90:\n",
    "        grade='A+'\n",
    "    else:\n",
    "        grade='O'\n",
    "elif mark<0 or mark>100:\n",
    "    grade='ERROR'\n",
    "else:\n",
    "    grade='FAIL'\n",
    "print('Grade of student is : ',grade)\n",
    "    "
   ]
  },
  {
   "cell_type": "code",
   "execution_count": 48,
   "id": "3703c5d0",
   "metadata": {},
   "outputs": [
    {
     "name": "stdout",
     "output_type": "stream",
     "text": [
      "['n', 'o', 'h', 't', 'y', 'P']\n"
     ]
    }
   ],
   "source": [
    "seqString = 'Python'\n",
    "print(list(reversed(seqString)))\n"
   ]
  },
  {
   "cell_type": "markdown",
   "id": "97f2db15",
   "metadata": {},
   "source": [
    "### Factorial Number"
   ]
  },
  {
   "cell_type": "code",
   "execution_count": 52,
   "id": "1e1fa2c6",
   "metadata": {},
   "outputs": [
    {
     "name": "stdout",
     "output_type": "stream",
     "text": [
      "Enter the value to compute the factorial : 9\n",
      "Factorial of a number is :  362880\n"
     ]
    }
   ],
   "source": [
    "num=int(input('Enter the value to compute the factorial : '))\n",
    "fact=1\n",
    "i=1\n",
    "while(i<=num):\n",
    "    fact=fact*i\n",
    "    i+=1\n",
    "print('Factorial of a number is : ',fact)"
   ]
  },
  {
   "cell_type": "markdown",
   "id": "179ef2fb",
   "metadata": {},
   "source": [
    "### Factorial Number using Recursion"
   ]
  },
  {
   "cell_type": "code",
   "execution_count": 54,
   "id": "6507f806",
   "metadata": {},
   "outputs": [
    {
     "name": "stdout",
     "output_type": "stream",
     "text": [
      "Enter number : 9\n",
      "Factorial of a number is :  362880\n"
     ]
    }
   ],
   "source": [
    "def fact(n):\n",
    "    if n==1:\n",
    "        return n\n",
    "    else:\n",
    "        return n*fact(n-1)\n",
    "num=int(input('Enter number : '))\n",
    "print('Factorial of a number is : ',fact(num))"
   ]
  },
  {
   "cell_type": "code",
   "execution_count": 56,
   "id": "e3bf3935",
   "metadata": {},
   "outputs": [
    {
     "name": "stdout",
     "output_type": "stream",
     "text": [
      "5\n"
     ]
    }
   ],
   "source": [
    "lists=[2, 3, 6, 6, 5]\n",
    "list1=list(set(lists))\n",
    "list1.sort()\n",
    "print(list1[-2])"
   ]
  },
  {
   "cell_type": "code",
   "execution_count": null,
   "id": "3cd00751",
   "metadata": {},
   "outputs": [],
   "source": []
  }
 ],
 "metadata": {
  "kernelspec": {
   "display_name": "Python 3 (ipykernel)",
   "language": "python",
   "name": "python3"
  },
  "language_info": {
   "codemirror_mode": {
    "name": "ipython",
    "version": 3
   },
   "file_extension": ".py",
   "mimetype": "text/x-python",
   "name": "python",
   "nbconvert_exporter": "python",
   "pygments_lexer": "ipython3",
   "version": "3.9.12"
  }
 },
 "nbformat": 4,
 "nbformat_minor": 5
}
