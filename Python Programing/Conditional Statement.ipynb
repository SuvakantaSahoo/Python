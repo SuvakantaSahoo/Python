{
 "cells": [
  {
   "cell_type": "markdown",
   "id": "caf9f98d",
   "metadata": {},
   "source": [
    "## if and if_else statement"
   ]
  },
  {
   "cell_type": "code",
   "execution_count": null,
   "id": "0f18c996",
   "metadata": {},
   "outputs": [],
   "source": [
    "#Syntax\n",
    "if (condition):\n",
    "    statement1\n",
    "    statement2\n",
    "\n",
    "print()\n",
    "    \n",
    "    \n",
    "    "
   ]
  },
  {
   "cell_type": "code",
   "execution_count": null,
   "id": "bcb39013",
   "metadata": {},
   "outputs": [],
   "source": [
    "if True:                #execute every time\n",
    "    statement1\n",
    "    statement2\n",
    "\n",
    "print()"
   ]
  },
  {
   "cell_type": "code",
   "execution_count": null,
   "id": "b6481d27",
   "metadata": {},
   "outputs": [],
   "source": [
    "if False:               #never execute\n",
    "    statement1\n",
    "    statement2\n",
    "\n",
    "print()"
   ]
  },
  {
   "cell_type": "code",
   "execution_count": 19,
   "id": "f1242e76",
   "metadata": {},
   "outputs": [
    {
     "name": "stdout",
     "output_type": "stream",
     "text": [
      "Enter number: 7\n"
     ]
    }
   ],
   "source": [
    "num=int(input('Enter number: ').strip())\n"
   ]
  },
  {
   "cell_type": "code",
   "execution_count": 3,
   "id": "800d9426",
   "metadata": {},
   "outputs": [
    {
     "data": {
      "text/plain": [
       "int"
      ]
     },
     "execution_count": 3,
     "metadata": {},
     "output_type": "execute_result"
    }
   ],
   "source": [
    "type(num)"
   ]
  },
  {
   "cell_type": "code",
   "execution_count": 4,
   "id": "68e75832",
   "metadata": {},
   "outputs": [
    {
     "name": "stdout",
     "output_type": "stream",
     "text": [
      "You have entered a number less than 15\n"
     ]
    }
   ],
   "source": [
    "if num<15:\n",
    "    print('You have entered a number less than 15')\n"
   ]
  },
  {
   "cell_type": "code",
   "execution_count": 6,
   "id": "ca19ee8c",
   "metadata": {},
   "outputs": [
    {
     "name": "stdout",
     "output_type": "stream",
     "text": [
      "You have entered a number less than 15\n"
     ]
    }
   ],
   "source": [
    "if num<10 and num>5:\n",
    "    print('You have entered a number less than 15')"
   ]
  },
  {
   "cell_type": "code",
   "execution_count": 8,
   "id": "cb3824bc",
   "metadata": {},
   "outputs": [
    {
     "name": "stdout",
     "output_type": "stream",
     "text": [
      "You have entered a number less than 15\n"
     ]
    }
   ],
   "source": [
    "if num<10 or num>5:\n",
    "    print('You have entered a number less than 15')"
   ]
  },
  {
   "cell_type": "code",
   "execution_count": 9,
   "id": "de2d828e",
   "metadata": {},
   "outputs": [
    {
     "name": "stdout",
     "output_type": "stream",
     "text": [
      "This will execute always\n"
     ]
    }
   ],
   "source": [
    "if num<10 and num>5:\n",
    "    print('You have entered a number less than 15')\n",
    "print('This will execute always')"
   ]
  },
  {
   "cell_type": "code",
   "execution_count": 10,
   "id": "5cd572e0",
   "metadata": {},
   "outputs": [
    {
     "name": "stdout",
     "output_type": "stream",
     "text": [
      "exrcute this statement\n"
     ]
    }
   ],
   "source": [
    "if num<10 and num>5:\n",
    "    print('You have entered a number less than 15')\n",
    "else:\n",
    "    print('exrcute this statement')"
   ]
  },
  {
   "cell_type": "code",
   "execution_count": 11,
   "id": "438b18e3",
   "metadata": {},
   "outputs": [
    {
     "name": "stdout",
     "output_type": "stream",
     "text": [
      "exrcute this statement\n"
     ]
    }
   ],
   "source": [
    "if num<10 and num>=5:\n",
    "    print('You have entered a number less than 15')\n",
    "else:\n",
    "    print('exrcute this statement')"
   ]
  },
  {
   "cell_type": "code",
   "execution_count": 13,
   "id": "c9053881",
   "metadata": {},
   "outputs": [
    {
     "name": "stdout",
     "output_type": "stream",
     "text": [
      "You have entered a number less than 15\n"
     ]
    }
   ],
   "source": [
    "if num<10 and num>=5:\n",
    "    print('You have entered a number less than 15')\n",
    "else:\n",
    "    print('exrcute this statement')"
   ]
  },
  {
   "cell_type": "code",
   "execution_count": 14,
   "id": "fe56eb10",
   "metadata": {},
   "outputs": [
    {
     "name": "stdout",
     "output_type": "stream",
     "text": [
      "Odd number\n"
     ]
    }
   ],
   "source": [
    "if num%2==0:\n",
    "    print('Even number')\n",
    "else:\n",
    "    print('Odd number')"
   ]
  },
  {
   "cell_type": "code",
   "execution_count": 16,
   "id": "d167523c",
   "metadata": {},
   "outputs": [
    {
     "name": "stdout",
     "output_type": "stream",
     "text": [
      "Even number\n"
     ]
    }
   ],
   "source": [
    "if num%2==0:\n",
    "    print('Even number')\n",
    "else:\n",
    "    print('Odd number')"
   ]
  },
  {
   "cell_type": "code",
   "execution_count": 18,
   "id": "a692d1ba",
   "metadata": {},
   "outputs": [
    {
     "name": "stdout",
     "output_type": "stream",
     "text": [
      "Even number\n"
     ]
    }
   ],
   "source": [
    "if num%2==1:\n",
    "    print('Odd number')\n",
    "else:\n",
    "    print('Even number')"
   ]
  },
  {
   "cell_type": "code",
   "execution_count": 20,
   "id": "d4bf362a",
   "metadata": {},
   "outputs": [
    {
     "name": "stdout",
     "output_type": "stream",
     "text": [
      "Odd number\n"
     ]
    }
   ],
   "source": [
    "if num%2==1:\n",
    "    print('Odd number')\n",
    "else:\n",
    "    print('Even number')"
   ]
  },
  {
   "cell_type": "code",
   "execution_count": null,
   "id": "eb84a33d",
   "metadata": {},
   "outputs": [],
   "source": [
    "#False= False and 0\n",
    "#True= Any value apart from False and 0"
   ]
  },
  {
   "cell_type": "code",
   "execution_count": 1,
   "id": "613602b2",
   "metadata": {},
   "outputs": [
    {
     "name": "stdout",
     "output_type": "stream",
     "text": [
      "70\n",
      "[25, 35, 65, 55, 70]\n"
     ]
    }
   ],
   "source": [
    "# using membership test\n",
    "mylist=[25,35,65,55,70]\n",
    "if(70 in mylist):\n",
    "    print(70)\n",
    "print(mylist)"
   ]
  },
  {
   "cell_type": "code",
   "execution_count": 4,
   "id": "77a8c3c7",
   "metadata": {},
   "outputs": [
    {
     "name": "stdout",
     "output_type": "stream",
     "text": [
      "[25, 35, 65, 55]\n"
     ]
    }
   ],
   "source": [
    "mylist=[25,35,65,55,70]\n",
    "if(70 in mylist):\n",
    "    mylist.remove(70)\n",
    "print(mylist)"
   ]
  },
  {
   "cell_type": "code",
   "execution_count": 6,
   "id": "5fdc7c78",
   "metadata": {},
   "outputs": [
    {
     "name": "stdout",
     "output_type": "stream",
     "text": [
      "[25, 35, 65, 55, 70, 80]\n"
     ]
    }
   ],
   "source": [
    "mylist=[25,35,65,55,70]\n",
    "if(80 not in mylist):\n",
    "    mylist.append(80)\n",
    "print(mylist)"
   ]
  },
  {
   "cell_type": "code",
   "execution_count": 7,
   "id": "2f7a186c",
   "metadata": {},
   "outputs": [
    {
     "name": "stdout",
     "output_type": "stream",
     "text": [
      "enter the mark : 56\n",
      "Student is pass\n"
     ]
    }
   ],
   "source": [
    "cutoff_score=35\n",
    "marks_score=int(input(\"enter the mark : \"))\n",
    "if(marks_score>=cutoff_score):\n",
    "    print('Student is pass')\n",
    "else:\n",
    "    print('Student is fail')"
   ]
  },
  {
   "cell_type": "code",
   "execution_count": 8,
   "id": "1cb1d661",
   "metadata": {},
   "outputs": [
    {
     "name": "stdout",
     "output_type": "stream",
     "text": [
      "enter the mark : 31\n",
      "Student is fail\n"
     ]
    }
   ],
   "source": [
    "cutoff_score=35\n",
    "marks_score=int(input(\"enter the mark : \"))\n",
    "if(marks_score>=cutoff_score):\n",
    "    print('Student is pass')\n",
    "else:\n",
    "    print('Student is fail')\n",
    "    "
   ]
  },
  {
   "cell_type": "markdown",
   "id": "c3a7e8b4",
   "metadata": {},
   "source": [
    "## Elif or Else-if"
   ]
  },
  {
   "cell_type": "code",
   "execution_count": 10,
   "id": "6a7eea37",
   "metadata": {},
   "outputs": [
    {
     "name": "stdout",
     "output_type": "stream",
     "text": [
      "Enter the mark : 86\n",
      "Pass with dictintion\n"
     ]
    }
   ],
   "source": [
    "cutoffmark=35\n",
    "dictintionmark=75\n",
    "markscore=int(input('Enter the mark : '))\n",
    "if(markscore<=cutoffmark):\n",
    "    print('Fail')\n",
    "elif(markscore>=dictintionmark):\n",
    "    print('Pass with dictintion')\n",
    "else:\n",
    "    print('Pass')"
   ]
  },
  {
   "cell_type": "code",
   "execution_count": 11,
   "id": "4219d382",
   "metadata": {},
   "outputs": [
    {
     "name": "stdout",
     "output_type": "stream",
     "text": [
      "Enter the mark : 8\n",
      "Fail\n"
     ]
    }
   ],
   "source": [
    "cutoffmark=35\n",
    "dictintionmark=75\n",
    "markscore=int(input('Enter the mark : '))\n",
    "if(markscore<=cutoffmark):\n",
    "    print('Fail')\n",
    "elif(markscore>=dictintionmark):\n",
    "    print('Pass with dictintion')\n",
    "else:\n",
    "    print('Pass')"
   ]
  },
  {
   "cell_type": "code",
   "execution_count": 12,
   "id": "11f247f6",
   "metadata": {},
   "outputs": [
    {
     "name": "stdout",
     "output_type": "stream",
     "text": [
      "Enter the mark : 69\n",
      "Pass\n"
     ]
    }
   ],
   "source": [
    "cutoffmark=35\n",
    "dictintionmark=75\n",
    "markscore=int(input('Enter the mark : '))\n",
    "if(markscore<=cutoffmark):\n",
    "    print('Fail')\n",
    "elif(markscore>=dictintionmark):\n",
    "    print('Pass with dictintion')\n",
    "else:\n",
    "    print('Pass')"
   ]
  },
  {
   "cell_type": "markdown",
   "id": "522e990d",
   "metadata": {},
   "source": [
    "## Nested if & if-else"
   ]
  },
  {
   "cell_type": "code",
   "execution_count": 13,
   "id": "aa897b27",
   "metadata": {},
   "outputs": [
    {
     "name": "stdout",
     "output_type": "stream",
     "text": [
      "Enter the mark : 36\n",
      "Pass\n"
     ]
    }
   ],
   "source": [
    "cutoffmark=35\n",
    "dictintionmark=75\n",
    "markscore=int(input('Enter the mark : '))\n",
    "if(markscore>=cutoffmark):\n",
    "    print('Pass')\n",
    "    if(markscore>=dictintionmark):\n",
    "        print('Pass with dintiction')\n",
    "    \n"
   ]
  },
  {
   "cell_type": "code",
   "execution_count": 14,
   "id": "0b59b9fd",
   "metadata": {},
   "outputs": [
    {
     "name": "stdout",
     "output_type": "stream",
     "text": [
      "Enter the mark : 89\n",
      "Pass\n",
      "Pass with dintiction\n"
     ]
    }
   ],
   "source": [
    "cutoffmark=35\n",
    "dictintionmark=75\n",
    "markscore=int(input('Enter the mark : '))\n",
    "if(markscore>=cutoffmark):\n",
    "    print('Pass')\n",
    "    if(markscore>=dictintionmark):\n",
    "        print('Pass with dintiction')"
   ]
  },
  {
   "cell_type": "code",
   "execution_count": 18,
   "id": "82f9a7c6",
   "metadata": {},
   "outputs": [
    {
     "name": "stdout",
     "output_type": "stream",
     "text": [
      "Enter the mark : 11\n"
     ]
    }
   ],
   "source": [
    "cutoffmark=35\n",
    "dictintionmark=75\n",
    "markscore=int(input('Enter the mark : '))\n",
    "if(markscore>=cutoffmark):\n",
    "    print('Pass')\n",
    "    if(markscore>=dictintionmark):\n",
    "        print('Pass with dintiction')\n",
    "        if(markscore<=cutoffmark):\n",
    "            print('fail')"
   ]
  },
  {
   "cell_type": "code",
   "execution_count": 19,
   "id": "24f7956e",
   "metadata": {},
   "outputs": [
    {
     "name": "stdout",
     "output_type": "stream",
     "text": [
      "Enter a word :   Innomatics\n",
      "Your word starts with a vowel\n"
     ]
    }
   ],
   "source": [
    "word=input('Enter a word : ').strip().capitalize()\n",
    "vowels=['a','e','i','o','u']\n",
    "if(word[0].lower() in vowels):\n",
    "    print('Your word starts with a vowel')\n",
    "else:\n",
    "    print('Your word not starts with a vowel')"
   ]
  },
  {
   "cell_type": "code",
   "execution_count": 20,
   "id": "9c4ca6d0",
   "metadata": {},
   "outputs": [
    {
     "name": "stdout",
     "output_type": "stream",
     "text": [
      "Enter a word :   Capital\n",
      "Your word not starts with a vowel\n"
     ]
    }
   ],
   "source": [
    "word=input('Enter a word : ').strip().capitalize()\n",
    "vowels=['a','e','i','o','u']\n",
    "if(word[0].lower() in vowels):\n",
    "    print('Your word starts with a vowel')\n",
    "else:\n",
    "    print('Your word not starts with a vowel')"
   ]
  },
  {
   "cell_type": "code",
   "execution_count": 21,
   "id": "aae79af2",
   "metadata": {},
   "outputs": [
    {
     "name": "stdout",
     "output_type": "stream",
     "text": [
      "Enter a word : Area\n",
      "Your word starts with a vowel\n"
     ]
    }
   ],
   "source": [
    "word=input('Enter a word : ').strip().lower()\n",
    "vowels=['a','e','i','o','u']\n",
    "if(word[0] in vowels):\n",
    "    print('Your word starts with a vowel')\n",
    "else:\n",
    "    print('Your word not starts with a vowel')   "
   ]
  },
  {
   "cell_type": "code",
   "execution_count": 22,
   "id": "459a5dd3",
   "metadata": {},
   "outputs": [
    {
     "name": "stdout",
     "output_type": "stream",
     "text": [
      "Enter a word : key\n",
      "Your word not starts with a vowel\n"
     ]
    }
   ],
   "source": [
    "word=input('Enter a word : ').strip().lower()\n",
    "vowels=['a','e','i','o','u']\n",
    "if(word[0] in vowels):\n",
    "    print('Your word starts with a vowel')\n",
    "else:\n",
    "    print('Your word not starts with a vowel')"
   ]
  },
  {
   "cell_type": "markdown",
   "id": "5c800003",
   "metadata": {},
   "source": [
    "## While loop"
   ]
  },
  {
   "cell_type": "code",
   "execution_count": 25,
   "id": "afe76a82",
   "metadata": {},
   "outputs": [
    {
     "name": "stdout",
     "output_type": "stream",
     "text": [
      "10\n",
      "x still less than y\n",
      "11\n",
      "x still less than y\n",
      "12\n",
      "x still less than y\n",
      "13\n",
      "x still less than y\n",
      "14\n",
      "x still less than y\n",
      "15\n",
      "x still less than y\n",
      "16\n",
      "x still less than y\n",
      "17\n",
      "x still less than y\n",
      "18\n",
      "x still less than y\n",
      "19\n",
      "x still less than y\n",
      "x now greater than or equal to y: 20\n"
     ]
    }
   ],
   "source": [
    "x=10\n",
    "y=20\n",
    "while (x<y):\n",
    "    print(x)\n",
    "    print('x still less than y')\n",
    "    x +=1\n",
    "print('x now greater than or equal to y:',x)"
   ]
  },
  {
   "cell_type": "code",
   "execution_count": 1,
   "id": "863a2efa",
   "metadata": {},
   "outputs": [
    {
     "name": "stdout",
     "output_type": "stream",
     "text": [
      "Enter a number : 10\n",
      "**********\n",
      "*********\n",
      "********\n",
      "*******\n",
      "******\n",
      "*****\n",
      "****\n",
      "***\n",
      "**\n",
      "*\n"
     ]
    }
   ],
   "source": [
    "num=int(input('Enter a number : '))\n",
    "while num>0:\n",
    "    print('*' * num)\n",
    "    num-=1"
   ]
  },
  {
   "cell_type": "code",
   "execution_count": 5,
   "id": "7a12708a",
   "metadata": {},
   "outputs": [
    {
     "name": "stdout",
     "output_type": "stream",
     "text": [
      "Enter a number : 1\n",
      "*\n",
      "**\n",
      "***\n",
      "****\n",
      "*****\n",
      "******\n",
      "*******\n",
      "********\n",
      "*********\n",
      "**********\n"
     ]
    }
   ],
   "source": [
    "num=int(input('Enter a number : '))\n",
    "while num<=10:\n",
    "    print('*' * num)\n",
    "    num+=1"
   ]
  },
  {
   "cell_type": "markdown",
   "id": "9b033154",
   "metadata": {},
   "source": [
    "# Controlflow Statement"
   ]
  },
  {
   "cell_type": "markdown",
   "id": "0e70ce40",
   "metadata": {},
   "source": [
    "## Continue"
   ]
  },
  {
   "cell_type": "code",
   "execution_count": 19,
   "id": "b7e6bf1f",
   "metadata": {},
   "outputs": [
    {
     "name": "stdout",
     "output_type": "stream",
     "text": [
      "Enter a number : 11\n",
      "**********\n",
      "********\n",
      "*******\n",
      "*****\n",
      "****\n",
      "**\n",
      "*\n"
     ]
    }
   ],
   "source": [
    "num=int(input('Enter a number : '))\n",
    "while num>0:\n",
    "    num-=1\n",
    "    if num%3==0:\n",
    "         continue\n",
    "    print('*'*num)\n",
    "\n"
   ]
  },
  {
   "cell_type": "markdown",
   "id": "3e8376cf",
   "metadata": {},
   "source": [
    "## Break"
   ]
  },
  {
   "cell_type": "markdown",
   "id": "b1b3ee4c",
   "metadata": {},
   "source": [
    "## Pass"
   ]
  },
  {
   "cell_type": "markdown",
   "id": "f5d8456b",
   "metadata": {},
   "source": [
    "## For loop"
   ]
  },
  {
   "cell_type": "code",
   "execution_count": 20,
   "id": "bf5b89da",
   "metadata": {},
   "outputs": [
    {
     "name": "stdout",
     "output_type": "stream",
     "text": [
      "10\n",
      "20\n",
      "30\n",
      "40\n",
      "50\n"
     ]
    }
   ],
   "source": [
    "list1=[10,20,30,40,50]\n",
    "for num in list1:\n",
    "    print(num)"
   ]
  },
  {
   "cell_type": "code",
   "execution_count": 25,
   "id": "926a00a7",
   "metadata": {},
   "outputs": [
    {
     "name": "stdout",
     "output_type": "stream",
     "text": [
      "P\n",
      "y\n",
      "t\n",
      "h\n",
      "o\n",
      "n\n"
     ]
    }
   ],
   "source": [
    "text='Python'\n",
    "for char in text:\n",
    "    print(char)"
   ]
  },
  {
   "cell_type": "markdown",
   "id": "0e230ea2",
   "metadata": {},
   "source": [
    "## range()"
   ]
  },
  {
   "cell_type": "code",
   "execution_count": 26,
   "id": "987b210d",
   "metadata": {},
   "outputs": [
    {
     "name": "stdout",
     "output_type": "stream",
     "text": [
      "0\n",
      "1\n",
      "2\n",
      "3\n",
      "4\n",
      "5\n",
      "6\n",
      "7\n",
      "8\n",
      "9\n"
     ]
    }
   ],
   "source": [
    "for i  in range(10):\n",
    "    print(i)"
   ]
  },
  {
   "cell_type": "code",
   "execution_count": 27,
   "id": "7a162040",
   "metadata": {},
   "outputs": [
    {
     "name": "stdout",
     "output_type": "stream",
     "text": [
      "1\n",
      "2\n",
      "3\n",
      "4\n",
      "5\n",
      "6\n",
      "7\n",
      "8\n",
      "9\n"
     ]
    }
   ],
   "source": [
    "for i  in range(1,10):\n",
    "    print(i)"
   ]
  },
  {
   "cell_type": "code",
   "execution_count": 28,
   "id": "a04c4a74",
   "metadata": {},
   "outputs": [
    {
     "name": "stdout",
     "output_type": "stream",
     "text": [
      "1\n",
      "3\n",
      "5\n",
      "7\n",
      "9\n"
     ]
    }
   ],
   "source": [
    "for i  in range(1,10,2):\n",
    "    print(i)"
   ]
  },
  {
   "cell_type": "code",
   "execution_count": 29,
   "id": "a11b14d3",
   "metadata": {},
   "outputs": [
    {
     "name": "stdout",
     "output_type": "stream",
     "text": [
      "hello\n",
      "hello\n",
      "hello\n",
      "hello\n",
      "hello\n",
      "hello\n",
      "hello\n",
      "hello\n",
      "hello\n",
      "hello\n"
     ]
    }
   ],
   "source": [
    "for i  in range(10):\n",
    "    print('hello')"
   ]
  },
  {
   "cell_type": "code",
   "execution_count": 30,
   "id": "af043af7",
   "metadata": {},
   "outputs": [
    {
     "name": "stdout",
     "output_type": "stream",
     "text": [
      "Even number :  [10, 12, 14, 16, 18]\n",
      "Odd number :  [11, 13, 15, 17]\n"
     ]
    }
   ],
   "source": [
    "list1=[10,11,12,13,14,15,16,17,18]\n",
    "\n",
    "even=[]\n",
    "odd=[]\n",
    "for i in list1:\n",
    "    if i%2==0:\n",
    "        even.append(i)\n",
    "    else:\n",
    "        odd.append(i)\n",
    "print('Even number : ',even)\n",
    "print('Odd number : ',odd)\n",
    "    "
   ]
  },
  {
   "cell_type": "code",
   "execution_count": 31,
   "id": "4838c41b",
   "metadata": {},
   "outputs": [
    {
     "name": "stdout",
     "output_type": "stream",
     "text": [
      "[10, 11, 13, 14, 16, 18]\n"
     ]
    }
   ],
   "source": [
    "list1=[10,11,12,13,14,15,16,17,18]\n",
    "unwanted_num=[12,15,17]\n",
    "for i in list1:\n",
    "    if i in unwanted_num:\n",
    "        list1.remove(i)\n",
    "print(list1)"
   ]
  },
  {
   "cell_type": "markdown",
   "id": "c234f28e",
   "metadata": {},
   "source": [
    "# List Comprehensions"
   ]
  },
  {
   "cell_type": "code",
   "execution_count": 33,
   "id": "dc05c0cb",
   "metadata": {},
   "outputs": [
    {
     "name": "stdout",
     "output_type": "stream",
     "text": [
      "[100, 121, 144, 169, 196, 225, 256, 289, 324]\n"
     ]
    }
   ],
   "source": [
    "list1=[10,11,12,13,14,15,16,17,18]\n",
    "sq=[]\n",
    "for i in list1:\n",
    "    sq.append(i**2)\n",
    "print(sq)"
   ]
  },
  {
   "cell_type": "code",
   "execution_count": 36,
   "id": "fefa8908",
   "metadata": {},
   "outputs": [
    {
     "name": "stdout",
     "output_type": "stream",
     "text": [
      "[100, 121, 144, 169, 196, 225, 256, 289, 324]\n"
     ]
    }
   ],
   "source": [
    "list1=[10,11,12,13,14,15,16,17,18]\n",
    "sq=[i**2 for i in list1]\n",
    "print(sq)"
   ]
  },
  {
   "cell_type": "code",
   "execution_count": 38,
   "id": "351af68e",
   "metadata": {},
   "outputs": [
    {
     "name": "stdout",
     "output_type": "stream",
     "text": [
      "[14, 15, 17, 18]\n"
     ]
    }
   ],
   "source": [
    "list1=[-10,-11,-12,-13,14,15,-16,17,18]\n",
    "positive=[i for i in list1 if i>0]\n",
    "print(positive)"
   ]
  },
  {
   "cell_type": "code",
   "execution_count": 39,
   "id": "a9c41151",
   "metadata": {},
   "outputs": [
    {
     "name": "stdout",
     "output_type": "stream",
     "text": [
      "[-10, -11, -12, 15, -16, 17]\n"
     ]
    }
   ],
   "source": [
    "list1=[-10,-11,-12,-13,14,15,-16,17,18]\n",
    "unwantednum=[-13,14,18]\n",
    "filternum=[i for i in list1 if i not in unwantednum]\n",
    "print(filternum)"
   ]
  },
  {
   "cell_type": "code",
   "execution_count": 44,
   "id": "a3efc821",
   "metadata": {},
   "outputs": [
    {
     "name": "stdout",
     "output_type": "stream",
     "text": [
      "[-10, -11, -12, 14, -16, 17]\n"
     ]
    }
   ],
   "source": [
    "list1=[-10,-11,-12,-13,14,15,-16,17,18]\n",
    "unwantednum=[-13,15,18]\n",
    "for i in list1:\n",
    "    if i in unwantednum:\n",
    "        list1.remove(i)\n",
    "print(list1)"
   ]
  },
  {
   "cell_type": "code",
   "execution_count": 46,
   "id": "52b98514",
   "metadata": {},
   "outputs": [
    {
     "data": {
      "text/plain": [
       "[[10, 100],\n",
       " [11, 121],\n",
       " [12, 144],\n",
       " [13, 169],\n",
       " [14, 196],\n",
       " [15, 225],\n",
       " [16, 256],\n",
       " [17, 289],\n",
       " [18, 324]]"
      ]
     },
     "execution_count": 46,
     "metadata": {},
     "output_type": "execute_result"
    }
   ],
   "source": [
    "list1=[10,11,12,13,14,15,16,17,18]\n",
    "sq=[[i,i**2] for i in list1]\n",
    "sq"
   ]
  },
  {
   "cell_type": "code",
   "execution_count": null,
   "id": "cd6b8fa4",
   "metadata": {},
   "outputs": [],
   "source": []
  }
 ],
 "metadata": {
  "kernelspec": {
   "display_name": "Python 3 (ipykernel)",
   "language": "python",
   "name": "python3"
  },
  "language_info": {
   "codemirror_mode": {
    "name": "ipython",
    "version": 3
   },
   "file_extension": ".py",
   "mimetype": "text/x-python",
   "name": "python",
   "nbconvert_exporter": "python",
   "pygments_lexer": "ipython3",
   "version": "3.9.12"
  }
 },
 "nbformat": 4,
 "nbformat_minor": 5
}
