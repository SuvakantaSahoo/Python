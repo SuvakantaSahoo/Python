{
 "cells": [
  {
   "cell_type": "code",
   "execution_count": 2,
   "id": "07ce01bb",
   "metadata": {},
   "outputs": [],
   "source": [
    "class student:\n",
    "    def __init__ (self,new_name):      #___init__ is short for initialisation\n",
    "        self.name=new_name"
   ]
  },
  {
   "cell_type": "code",
   "execution_count": 3,
   "id": "6c8398a1",
   "metadata": {},
   "outputs": [
    {
     "data": {
      "text/plain": [
       "'Rohit'"
      ]
     },
     "execution_count": 3,
     "metadata": {},
     "output_type": "execute_result"
    }
   ],
   "source": [
    "s1=student('Rohit')\n",
    "s1.name"
   ]
  },
  {
   "cell_type": "code",
   "execution_count": 4,
   "id": "6ef8efdd",
   "metadata": {},
   "outputs": [
    {
     "data": {
      "text/plain": [
       "'Suvam'"
      ]
     },
     "execution_count": 4,
     "metadata": {},
     "output_type": "execute_result"
    }
   ],
   "source": [
    "s2=student('Suvam')\n",
    "s2.name"
   ]
  },
  {
   "cell_type": "code",
   "execution_count": 10,
   "id": "e77d8650",
   "metadata": {},
   "outputs": [],
   "source": [
    "class student:\n",
    "    def __init__ (self,new_name,age,rollno):      #___init__ is short for initialisation\n",
    "        self.name=new_name\n",
    "        self.age=age\n",
    "        self.rollno=rollno"
   ]
  },
  {
   "cell_type": "code",
   "execution_count": 11,
   "id": "b9f7e878",
   "metadata": {},
   "outputs": [],
   "source": [
    "s1=student('Rohit',22,104)"
   ]
  },
  {
   "cell_type": "code",
   "execution_count": 12,
   "id": "ac1ca0d1",
   "metadata": {},
   "outputs": [
    {
     "data": {
      "text/plain": [
       "('Rohit', 22, 104)"
      ]
     },
     "execution_count": 12,
     "metadata": {},
     "output_type": "execute_result"
    }
   ],
   "source": [
    "s1.name,s1.age,s1.rollno"
   ]
  },
  {
   "cell_type": "code",
   "execution_count": 27,
   "id": "a97a7d55",
   "metadata": {},
   "outputs": [],
   "source": [
    "class student:\n",
    "    def __init__ (self,new_name,age,rollno):     \n",
    "        self.name=new_name\n",
    "        self.age=age\n",
    "        self.rollno=rollno\n",
    "    def __str__(self):\n",
    "        return f'Name is {self.name},Roll number is {self.rollno},Age is {self.age}'"
   ]
  },
  {
   "cell_type": "code",
   "execution_count": 28,
   "id": "a71c9b7c",
   "metadata": {},
   "outputs": [],
   "source": [
    "s1=student('Rohit',23,105)"
   ]
  },
  {
   "cell_type": "code",
   "execution_count": 29,
   "id": "0162791a",
   "metadata": {},
   "outputs": [
    {
     "name": "stdout",
     "output_type": "stream",
     "text": [
      "Name is Rohit,Roll number is 105,Age is 23\n"
     ]
    }
   ],
   "source": [
    "print(s1)"
   ]
  },
  {
   "cell_type": "code",
   "execution_count": 32,
   "id": "f7e9d0f7",
   "metadata": {},
   "outputs": [
    {
     "name": "stdout",
     "output_type": "stream",
     "text": [
      "Name is Rohit,Roll number is 105,Age is 23\n"
     ]
    }
   ],
   "source": [
    "class student:\n",
    "    def __init__ (self,new_name,age,rollno=105):     \n",
    "        self.name=new_name\n",
    "        self.age=age\n",
    "        self.rollno=rollno\n",
    "    def __str__(self):\n",
    "        return f'Name is {self.name},Roll number is {self.rollno},Age is {self.age}'\n",
    "    \n",
    "s1=student('Rohit',23)\n",
    "print(s1)"
   ]
  },
  {
   "cell_type": "code",
   "execution_count": 47,
   "id": "a1ea41a9",
   "metadata": {},
   "outputs": [],
   "source": [
    "class student:\n",
    "    counter=0\n",
    "    def __init__ (self,new_name):     \n",
    "        self.name=new_name\n",
    "        #student.counter+=1\n",
    "        self.rollno= 21"
   ]
  },
  {
   "cell_type": "code",
   "execution_count": 48,
   "id": "f1009bfa",
   "metadata": {},
   "outputs": [
    {
     "name": "stdout",
     "output_type": "stream",
     "text": [
      "21\n"
     ]
    }
   ],
   "source": [
    "s1=student('Rohit')\n",
    "print(s1.rollno)"
   ]
  },
  {
   "cell_type": "code",
   "execution_count": 51,
   "id": "b7b44e59",
   "metadata": {},
   "outputs": [],
   "source": [
    "class student:\n",
    "    counter=0\n",
    "    def __init__ (self,new_name):     \n",
    "        self.name=new_name\n",
    "        student.counter+=1\n",
    "        self.rollno= student.counter"
   ]
  },
  {
   "cell_type": "code",
   "execution_count": 52,
   "id": "63384d14",
   "metadata": {},
   "outputs": [
    {
     "name": "stdout",
     "output_type": "stream",
     "text": [
      "1\n"
     ]
    }
   ],
   "source": [
    "s1=student('Rohit')\n",
    "print(s1.rollno)"
   ]
  },
  {
   "cell_type": "code",
   "execution_count": 53,
   "id": "3a860f14",
   "metadata": {},
   "outputs": [
    {
     "name": "stdout",
     "output_type": "stream",
     "text": [
      "2\n"
     ]
    }
   ],
   "source": [
    "s2=student('Suvam')\n",
    "print(s2.rollno)"
   ]
  },
  {
   "cell_type": "code",
   "execution_count": 54,
   "id": "095723df",
   "metadata": {},
   "outputs": [],
   "source": [
    "class student:\n",
    "    counter=0\n",
    "    def __init__(self,newname):\n",
    "        self.name=newname\n",
    "        student.counter+=1\n",
    "        self.rollno=student.counter\n",
    "    def intro(self):\n",
    "        print(f'Hello my name is {self.name}')\n",
    "    def __str__(self):\n",
    "        return f'{self.rollno},{self.name}'"
   ]
  },
  {
   "cell_type": "code",
   "execution_count": 55,
   "id": "4d8920a3",
   "metadata": {},
   "outputs": [],
   "source": [
    "s=student('suvam')"
   ]
  },
  {
   "cell_type": "code",
   "execution_count": 56,
   "id": "85c57c41",
   "metadata": {},
   "outputs": [
    {
     "name": "stdout",
     "output_type": "stream",
     "text": [
      "1,suvam\n"
     ]
    }
   ],
   "source": [
    "print(s)"
   ]
  },
  {
   "cell_type": "code",
   "execution_count": 57,
   "id": "967cfcc6",
   "metadata": {},
   "outputs": [
    {
     "name": "stdout",
     "output_type": "stream",
     "text": [
      "Hello my name is suvam\n"
     ]
    }
   ],
   "source": [
    "s.intro()"
   ]
  },
  {
   "cell_type": "code",
   "execution_count": 61,
   "id": "d6c130b0",
   "metadata": {},
   "outputs": [],
   "source": [
    "class account:\n",
    "    counter=1000\n",
    "    def __init__(self,opbalance=0):\n",
    "        account.counter+=1\n",
    "        self.id=account.counter\n",
    "        self.bal=opbalance\n",
    "    def __str__(self):\n",
    "        return f'Account {self.id} has Rs. {self.bal}'"
   ]
  },
  {
   "cell_type": "code",
   "execution_count": 62,
   "id": "f4045c7d",
   "metadata": {},
   "outputs": [],
   "source": [
    "a1=account(100)\n",
    "a2=account(200)"
   ]
  },
  {
   "cell_type": "code",
   "execution_count": 63,
   "id": "0c6b5427",
   "metadata": {},
   "outputs": [
    {
     "name": "stdout",
     "output_type": "stream",
     "text": [
      "Account 1001 has Rs. 100\n",
      "Account 1002 has Rs. 200\n"
     ]
    }
   ],
   "source": [
    "print(a1)\n",
    "print(a2)"
   ]
  },
  {
   "cell_type": "code",
   "execution_count": 7,
   "id": "f333cf1d",
   "metadata": {},
   "outputs": [],
   "source": [
    "class account:\n",
    "    counter=1000\n",
    "    def __init__(self,opbalance=0):\n",
    "        account.counter+=1\n",
    "        self.id=account.counter\n",
    "        self.bal=opbalance\n",
    "    def deposite(self,amount):\n",
    "        if amount>0:\n",
    "            self.bal+=amount\n",
    "    def withdraw(self,amount):\n",
    "        if amount>0 and self.bal>=amount:\n",
    "            self.bal-=amount\n",
    "    def __str__(self):\n",
    "        return f'Account {self.id} has Rs. {self.bal}'"
   ]
  },
  {
   "cell_type": "code",
   "execution_count": 8,
   "id": "fdbc78a4",
   "metadata": {},
   "outputs": [
    {
     "name": "stdout",
     "output_type": "stream",
     "text": [
      "Account 1001 has Rs. 150\n",
      "Account 1002 has Rs. 200\n"
     ]
    }
   ],
   "source": [
    "a1=account(100)\n",
    "a2=account(200)\n",
    "a1.deposite(50)\n",
    "print(a1)\n",
    "print(a2)"
   ]
  },
  {
   "cell_type": "code",
   "execution_count": 9,
   "id": "5c3fcb35",
   "metadata": {},
   "outputs": [
    {
     "name": "stdout",
     "output_type": "stream",
     "text": [
      "Account 1003 has Rs. 150\n",
      "Account 1004 has Rs. 200\n",
      "Account 1003 has Rs. 150\n",
      "Account 1004 has Rs. 165\n"
     ]
    }
   ],
   "source": [
    "a1=account(100)\n",
    "a2=account(200)\n",
    "a1.deposite(50)\n",
    "print(a1)\n",
    "print(a2)\n",
    "a2.withdraw(35)\n",
    "print(a1)\n",
    "print(a2)"
   ]
  },
  {
   "cell_type": "code",
   "execution_count": null,
   "id": "5a1f39d8",
   "metadata": {},
   "outputs": [],
   "source": []
  }
 ],
 "metadata": {
  "kernelspec": {
   "display_name": "Python 3 (ipykernel)",
   "language": "python",
   "name": "python3"
  },
  "language_info": {
   "codemirror_mode": {
    "name": "ipython",
    "version": 3
   },
   "file_extension": ".py",
   "mimetype": "text/x-python",
   "name": "python",
   "nbconvert_exporter": "python",
   "pygments_lexer": "ipython3",
   "version": "3.9.12"
  }
 },
 "nbformat": 4,
 "nbformat_minor": 5
}
