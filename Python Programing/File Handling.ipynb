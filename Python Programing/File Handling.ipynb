{
 "cells": [
  {
   "cell_type": "markdown",
   "id": "342e12f5",
   "metadata": {},
   "source": [
    "## Opening a file"
   ]
  },
  {
   "cell_type": "code",
   "execution_count": 26,
   "id": "742cef20",
   "metadata": {},
   "outputs": [],
   "source": [
    "file=open('textfile.txt') "
   ]
  },
  {
   "cell_type": "code",
   "execution_count": 4,
   "id": "321aa81f",
   "metadata": {},
   "outputs": [],
   "source": [
    "file=open('textfile.txt','r') "
   ]
  },
  {
   "cell_type": "code",
   "execution_count": 3,
   "id": "9e7b98e3",
   "metadata": {},
   "outputs": [],
   "source": [
    "file=open('textfile.txt','r+')"
   ]
  },
  {
   "cell_type": "code",
   "execution_count": 6,
   "id": "0600cac2",
   "metadata": {},
   "outputs": [],
   "source": [
    "ft=open('textfile.txt','r+',encoding='utf-8')"
   ]
  },
  {
   "cell_type": "markdown",
   "id": "2536db9e",
   "metadata": {},
   "source": [
    "### File object properties"
   ]
  },
  {
   "cell_type": "code",
   "execution_count": 7,
   "id": "4844f93c",
   "metadata": {},
   "outputs": [
    {
     "name": "stdout",
     "output_type": "stream",
     "text": [
      "textfile.txt\n"
     ]
    }
   ],
   "source": [
    "print(ft.name)"
   ]
  },
  {
   "cell_type": "code",
   "execution_count": 8,
   "id": "4f2a8f7a",
   "metadata": {},
   "outputs": [
    {
     "name": "stdout",
     "output_type": "stream",
     "text": [
      "True\n"
     ]
    }
   ],
   "source": [
    "print(ft.readable())"
   ]
  },
  {
   "cell_type": "code",
   "execution_count": 10,
   "id": "856613e1",
   "metadata": {},
   "outputs": [
    {
     "name": "stdout",
     "output_type": "stream",
     "text": [
      "True\n"
     ]
    }
   ],
   "source": [
    "print(ft.writable())"
   ]
  },
  {
   "cell_type": "code",
   "execution_count": 22,
   "id": "b90ba0ee",
   "metadata": {},
   "outputs": [],
   "source": [
    "file.close()"
   ]
  },
  {
   "cell_type": "code",
   "execution_count": 23,
   "id": "914f9800",
   "metadata": {},
   "outputs": [
    {
     "name": "stdout",
     "output_type": "stream",
     "text": [
      "True\n"
     ]
    }
   ],
   "source": [
    "print(file.closed)"
   ]
  },
  {
   "cell_type": "code",
   "execution_count": 12,
   "id": "a95645e0",
   "metadata": {},
   "outputs": [
    {
     "name": "stdout",
     "output_type": "stream",
     "text": [
      "False\n"
     ]
    }
   ],
   "source": [
    "print(file.writable())"
   ]
  },
  {
   "cell_type": "code",
   "execution_count": 13,
   "id": "0f1aca53",
   "metadata": {},
   "outputs": [],
   "source": [
    "ft1=open('sample.txt','w')"
   ]
  },
  {
   "cell_type": "code",
   "execution_count": 16,
   "id": "92551564",
   "metadata": {},
   "outputs": [],
   "source": [
    "ft2=open('text.txt','a')"
   ]
  },
  {
   "cell_type": "code",
   "execution_count": 17,
   "id": "867cd67d",
   "metadata": {},
   "outputs": [
    {
     "name": "stdout",
     "output_type": "stream",
     "text": [
      "True\n"
     ]
    }
   ],
   "source": [
    "print(ft2.writable())"
   ]
  },
  {
   "cell_type": "code",
   "execution_count": 18,
   "id": "429d39a0",
   "metadata": {},
   "outputs": [
    {
     "name": "stdout",
     "output_type": "stream",
     "text": [
      "False\n"
     ]
    }
   ],
   "source": [
    "print(ft2.readable())"
   ]
  },
  {
   "cell_type": "code",
   "execution_count": 19,
   "id": "002bfab8",
   "metadata": {},
   "outputs": [
    {
     "name": "stdout",
     "output_type": "stream",
     "text": [
      "text.txt\n"
     ]
    }
   ],
   "source": [
    "print(ft2.name)"
   ]
  },
  {
   "cell_type": "code",
   "execution_count": 24,
   "id": "389841a4",
   "metadata": {},
   "outputs": [
    {
     "data": {
      "text/plain": [
       "['_CHUNK_SIZE',\n",
       " '__class__',\n",
       " '__del__',\n",
       " '__delattr__',\n",
       " '__dict__',\n",
       " '__dir__',\n",
       " '__doc__',\n",
       " '__enter__',\n",
       " '__eq__',\n",
       " '__exit__',\n",
       " '__format__',\n",
       " '__ge__',\n",
       " '__getattribute__',\n",
       " '__gt__',\n",
       " '__hash__',\n",
       " '__init__',\n",
       " '__init_subclass__',\n",
       " '__iter__',\n",
       " '__le__',\n",
       " '__lt__',\n",
       " '__ne__',\n",
       " '__new__',\n",
       " '__next__',\n",
       " '__reduce__',\n",
       " '__reduce_ex__',\n",
       " '__repr__',\n",
       " '__setattr__',\n",
       " '__sizeof__',\n",
       " '__str__',\n",
       " '__subclasshook__',\n",
       " '_checkClosed',\n",
       " '_checkReadable',\n",
       " '_checkSeekable',\n",
       " '_checkWritable',\n",
       " '_finalizing',\n",
       " 'buffer',\n",
       " 'close',\n",
       " 'closed',\n",
       " 'detach',\n",
       " 'encoding',\n",
       " 'errors',\n",
       " 'fileno',\n",
       " 'flush',\n",
       " 'isatty',\n",
       " 'line_buffering',\n",
       " 'mode',\n",
       " 'name',\n",
       " 'newlines',\n",
       " 'read',\n",
       " 'readable',\n",
       " 'readline',\n",
       " 'readlines',\n",
       " 'reconfigure',\n",
       " 'seek',\n",
       " 'seekable',\n",
       " 'tell',\n",
       " 'truncate',\n",
       " 'writable',\n",
       " 'write',\n",
       " 'write_through',\n",
       " 'writelines']"
      ]
     },
     "execution_count": 24,
     "metadata": {},
     "output_type": "execute_result"
    }
   ],
   "source": [
    "dir(file)"
   ]
  },
  {
   "cell_type": "code",
   "execution_count": 25,
   "id": "a6c6b03d",
   "metadata": {},
   "outputs": [],
   "source": [
    "try:                        #a safer way to close the file\n",
    "    f=open('textfile.txt') \n",
    "finally:\n",
    "    f.close()"
   ]
  },
  {
   "cell_type": "code",
   "execution_count": 28,
   "id": "feacaf35",
   "metadata": {},
   "outputs": [
    {
     "data": {
      "text/plain": [
       "False"
      ]
     },
     "execution_count": 28,
     "metadata": {},
     "output_type": "execute_result"
    }
   ],
   "source": [
    "file.writable()"
   ]
  },
  {
   "cell_type": "code",
   "execution_count": 34,
   "id": "d02c82d7",
   "metadata": {},
   "outputs": [],
   "source": [
    " f=open('textfile.txt','a')"
   ]
  },
  {
   "cell_type": "code",
   "execution_count": 30,
   "id": "9174351d",
   "metadata": {},
   "outputs": [
    {
     "data": {
      "text/plain": [
       "30"
      ]
     },
     "execution_count": 30,
     "metadata": {},
     "output_type": "execute_result"
    }
   ],
   "source": [
    "f.write('This is a python  basic class')"
   ]
  },
  {
   "cell_type": "code",
   "execution_count": 35,
   "id": "43f6ee42",
   "metadata": {},
   "outputs": [
    {
     "data": {
      "text/plain": [
       "29"
      ]
     },
     "execution_count": 35,
     "metadata": {},
     "output_type": "execute_result"
    }
   ],
   "source": [
    "f.write('This is a python  basic class')"
   ]
  },
  {
   "cell_type": "code",
   "execution_count": 38,
   "id": "b0c19082",
   "metadata": {},
   "outputs": [],
   "source": [
    " f=open('textfile.txt','r+')"
   ]
  },
  {
   "cell_type": "code",
   "execution_count": 39,
   "id": "d2fb6567",
   "metadata": {},
   "outputs": [
    {
     "data": {
      "text/plain": [
       "14"
      ]
     },
     "execution_count": 39,
     "metadata": {},
     "output_type": "execute_result"
    }
   ],
   "source": [
    "f.write('This is python')"
   ]
  },
  {
   "cell_type": "code",
   "execution_count": 57,
   "id": "a66d77c3",
   "metadata": {},
   "outputs": [],
   "source": [
    " f=open('textfile.txt','w+')"
   ]
  },
  {
   "cell_type": "code",
   "execution_count": 58,
   "id": "91661caa",
   "metadata": {},
   "outputs": [
    {
     "data": {
      "text/plain": [
       "14"
      ]
     },
     "execution_count": 58,
     "metadata": {},
     "output_type": "execute_result"
    }
   ],
   "source": [
    "f.write('This is python')"
   ]
  },
  {
   "cell_type": "code",
   "execution_count": 63,
   "id": "08df94cd",
   "metadata": {},
   "outputs": [],
   "source": [
    "f=open('textfile.txt','r+')"
   ]
  },
  {
   "cell_type": "code",
   "execution_count": 65,
   "id": "86d26578",
   "metadata": {},
   "outputs": [
    {
     "data": {
      "text/plain": [
       "18"
      ]
     },
     "execution_count": 65,
     "metadata": {},
     "output_type": "execute_result"
    }
   ],
   "source": [
    "f.write('This is innomatics')"
   ]
  },
  {
   "cell_type": "code",
   "execution_count": 68,
   "id": "fada7807",
   "metadata": {},
   "outputs": [],
   "source": [
    "f=open('textfile.txt','a')"
   ]
  },
  {
   "cell_type": "code",
   "execution_count": 69,
   "id": "ae9d0ad5",
   "metadata": {},
   "outputs": [
    {
     "data": {
      "text/plain": [
       "15"
      ]
     },
     "execution_count": 69,
     "metadata": {},
     "output_type": "execute_result"
    }
   ],
   "source": [
    "f.write('\\nThis is python')"
   ]
  },
  {
   "cell_type": "code",
   "execution_count": 70,
   "id": "3ba049f2",
   "metadata": {},
   "outputs": [],
   "source": [
    "f.close()"
   ]
  },
  {
   "cell_type": "markdown",
   "id": "c6d28e2c",
   "metadata": {},
   "source": [
    "### Reading from file"
   ]
  },
  {
   "cell_type": "code",
   "execution_count": 112,
   "id": "fd083185",
   "metadata": {},
   "outputs": [],
   "source": [
    "f=open('textfile.txt')\n"
   ]
  },
  {
   "cell_type": "code",
   "execution_count": 81,
   "id": "dda15c3f",
   "metadata": {},
   "outputs": [
    {
     "data": {
      "text/plain": [
       "'This is innomaticsThis is innomatics\\nThis is python\\nThis is python'"
      ]
     },
     "execution_count": 81,
     "metadata": {},
     "output_type": "execute_result"
    }
   ],
   "source": [
    "f.read()"
   ]
  },
  {
   "cell_type": "code",
   "execution_count": 82,
   "id": "a36ddde0",
   "metadata": {},
   "outputs": [
    {
     "data": {
      "text/plain": [
       "''"
      ]
     },
     "execution_count": 82,
     "metadata": {},
     "output_type": "execute_result"
    }
   ],
   "source": [
    "f.read(5)"
   ]
  },
  {
   "cell_type": "code",
   "execution_count": 84,
   "id": "7a2f453a",
   "metadata": {},
   "outputs": [
    {
     "data": {
      "text/plain": [
       "'This '"
      ]
     },
     "execution_count": 84,
     "metadata": {},
     "output_type": "execute_result"
    }
   ],
   "source": [
    "f.read(5)"
   ]
  },
  {
   "cell_type": "code",
   "execution_count": 85,
   "id": "d31641e1",
   "metadata": {},
   "outputs": [
    {
     "data": {
      "text/plain": [
       "'is innomat'"
      ]
     },
     "execution_count": 85,
     "metadata": {},
     "output_type": "execute_result"
    }
   ],
   "source": [
    "f.read(10)"
   ]
  },
  {
   "cell_type": "code",
   "execution_count": 86,
   "id": "de2f05bc",
   "metadata": {},
   "outputs": [
    {
     "data": {
      "text/plain": [
       "51"
      ]
     },
     "execution_count": 86,
     "metadata": {},
     "output_type": "execute_result"
    }
   ],
   "source": [
    "len(f.read())"
   ]
  },
  {
   "cell_type": "code",
   "execution_count": 90,
   "id": "b5c3fe12",
   "metadata": {},
   "outputs": [
    {
     "data": {
      "text/plain": [
       "'This is innomaticsThis is innomatics\\n'"
      ]
     },
     "execution_count": 90,
     "metadata": {},
     "output_type": "execute_result"
    }
   ],
   "source": [
    "f.readline()"
   ]
  },
  {
   "cell_type": "code",
   "execution_count": 91,
   "id": "8c2ab396",
   "metadata": {},
   "outputs": [
    {
     "data": {
      "text/plain": [
       "'This is python\\n'"
      ]
     },
     "execution_count": 91,
     "metadata": {},
     "output_type": "execute_result"
    }
   ],
   "source": [
    "f.readline()"
   ]
  },
  {
   "cell_type": "code",
   "execution_count": 94,
   "id": "4045876f",
   "metadata": {},
   "outputs": [
    {
     "data": {
      "text/plain": [
       "0"
      ]
     },
     "execution_count": 94,
     "metadata": {},
     "output_type": "execute_result"
    }
   ],
   "source": [
    "f.seek(0)"
   ]
  },
  {
   "cell_type": "code",
   "execution_count": 95,
   "id": "06cf888e",
   "metadata": {},
   "outputs": [
    {
     "data": {
      "text/plain": [
       "'This is innomaticsThis is innomatics\\nThis is python\\nThis is python'"
      ]
     },
     "execution_count": 95,
     "metadata": {},
     "output_type": "execute_result"
    }
   ],
   "source": [
    "f.read()"
   ]
  },
  {
   "cell_type": "code",
   "execution_count": 97,
   "id": "d85c66ae",
   "metadata": {},
   "outputs": [
    {
     "data": {
      "text/plain": [
       "'nomaticsThis is innomatics\\n'"
      ]
     },
     "execution_count": 97,
     "metadata": {},
     "output_type": "execute_result"
    }
   ],
   "source": [
    "f.seek(10)\n",
    "f.readline()"
   ]
  },
  {
   "cell_type": "code",
   "execution_count": 100,
   "id": "cb0783aa",
   "metadata": {},
   "outputs": [
    {
     "data": {
      "text/plain": [
       "'nomaticsThis is innomatics\\nThis is python\\nThis is python'"
      ]
     },
     "execution_count": 100,
     "metadata": {},
     "output_type": "execute_result"
    }
   ],
   "source": [
    "f.seek(10)\n",
    "f.read()"
   ]
  },
  {
   "cell_type": "code",
   "execution_count": 102,
   "id": "1f6afee6",
   "metadata": {},
   "outputs": [
    {
     "data": {
      "text/plain": [
       "['This is innomaticsThis is innomatics\\n',\n",
       " 'This is python\\n',\n",
       " 'This is python']"
      ]
     },
     "execution_count": 102,
     "metadata": {},
     "output_type": "execute_result"
    }
   ],
   "source": [
    "f.readlines()"
   ]
  },
  {
   "cell_type": "code",
   "execution_count": 105,
   "id": "ccb46612",
   "metadata": {},
   "outputs": [
    {
     "data": {
      "text/plain": [
       "0"
      ]
     },
     "execution_count": 105,
     "metadata": {},
     "output_type": "execute_result"
    }
   ],
   "source": [
    "f.tell() #it will tell us where is our cursor is right now"
   ]
  },
  {
   "cell_type": "code",
   "execution_count": 113,
   "id": "860c7f93",
   "metadata": {},
   "outputs": [],
   "source": [
    "f.close()"
   ]
  },
  {
   "cell_type": "markdown",
   "id": "92709fab",
   "metadata": {},
   "source": [
    "### Using open() function and 'with' keyword"
   ]
  },
  {
   "cell_type": "code",
   "execution_count": 109,
   "id": "1322df2c",
   "metadata": {},
   "outputs": [
    {
     "name": "stdout",
     "output_type": "stream",
     "text": [
      "['This is innomaticsThis is innomatics\\n', 'This is python\\n', 'This is python']\n"
     ]
    }
   ],
   "source": [
    "#file=open('textfile.txt','r')\n",
    "with open('textfile.txt','r') as new_file:\n",
    "    print(new_file.readlines())"
   ]
  },
  {
   "cell_type": "markdown",
   "id": "d8a91ed3",
   "metadata": {},
   "source": [
    "### Renaming and Deleting files in python"
   ]
  },
  {
   "cell_type": "code",
   "execution_count": 115,
   "id": "c98921d6",
   "metadata": {},
   "outputs": [],
   "source": [
    "new_file.close()"
   ]
  },
  {
   "cell_type": "code",
   "execution_count": 117,
   "id": "eedd411a",
   "metadata": {},
   "outputs": [
    {
     "data": {
      "text/plain": [
       "True"
      ]
     },
     "execution_count": 117,
     "metadata": {},
     "output_type": "execute_result"
    }
   ],
   "source": [
    "new_file.closed"
   ]
  },
  {
   "cell_type": "code",
   "execution_count": 1,
   "id": "1d3c9039",
   "metadata": {},
   "outputs": [],
   "source": [
    "import os\n",
    "os.rename('text.txt','newfile.txt')"
   ]
  },
  {
   "cell_type": "markdown",
   "id": "158f4bf8",
   "metadata": {},
   "source": [
    "### Directory"
   ]
  },
  {
   "cell_type": "code",
   "execution_count": 14,
   "id": "70039335",
   "metadata": {},
   "outputs": [
    {
     "data": {
      "text/plain": [
       "'C:\\\\Program Files (x86)\\\\Online Services\\\\Priceline'"
      ]
     },
     "execution_count": 14,
     "metadata": {},
     "output_type": "execute_result"
    }
   ],
   "source": [
    "import os\n",
    "os.getcwd() #finding current working directory"
   ]
  },
  {
   "cell_type": "code",
   "execution_count": 15,
   "id": "d856f7be",
   "metadata": {},
   "outputs": [],
   "source": [
    "os.chdir('/Program Files (x86)/Adobe/Reader 11.0')"
   ]
  },
  {
   "cell_type": "code",
   "execution_count": 16,
   "id": "ff6a6742",
   "metadata": {},
   "outputs": [
    {
     "data": {
      "text/plain": [
       "'C:\\\\Program Files (x86)\\\\Adobe\\\\Reader 11.0'"
      ]
     },
     "execution_count": 16,
     "metadata": {},
     "output_type": "execute_result"
    }
   ],
   "source": [
    "os.getcwd()"
   ]
  },
  {
   "cell_type": "code",
   "execution_count": 5,
   "id": "3f3ff62a",
   "metadata": {},
   "outputs": [
    {
     "data": {
      "text/plain": [
       "['agoda.ico', 'booking.ico', 'priceline.ico']"
      ]
     },
     "execution_count": 5,
     "metadata": {},
     "output_type": "execute_result"
    }
   ],
   "source": [
    "os.listdir(os.getcwd())"
   ]
  },
  {
   "cell_type": "code",
   "execution_count": 10,
   "id": "3132789c",
   "metadata": {},
   "outputs": [
    {
     "data": {
      "text/plain": [
       "['agoda.ico', 'booking.ico', 'priceline.ico']"
      ]
     },
     "execution_count": 10,
     "metadata": {},
     "output_type": "execute_result"
    }
   ],
   "source": [
    "os.listdir('C:\\Program Files (x86)\\Online Services\\Priceline')"
   ]
  },
  {
   "cell_type": "markdown",
   "id": "9926f40b",
   "metadata": {},
   "source": [
    "### Making new directory"
   ]
  },
  {
   "cell_type": "code",
   "execution_count": 12,
   "id": "e4926718",
   "metadata": {},
   "outputs": [
    {
     "ename": "PermissionError",
     "evalue": "[WinError 5] Access is denied: 'new_folder'",
     "output_type": "error",
     "traceback": [
      "\u001b[1;31m---------------------------------------------------------------------------\u001b[0m",
      "\u001b[1;31mPermissionError\u001b[0m                           Traceback (most recent call last)",
      "Input \u001b[1;32mIn [12]\u001b[0m, in \u001b[0;36m<cell line: 1>\u001b[1;34m()\u001b[0m\n\u001b[1;32m----> 1\u001b[0m \u001b[43mos\u001b[49m\u001b[38;5;241;43m.\u001b[39;49m\u001b[43mmkdir\u001b[49m\u001b[43m(\u001b[49m\u001b[38;5;124;43m'\u001b[39;49m\u001b[38;5;124;43mnew_folder\u001b[39;49m\u001b[38;5;124;43m'\u001b[39;49m\u001b[43m)\u001b[49m\n",
      "\u001b[1;31mPermissionError\u001b[0m: [WinError 5] Access is denied: 'new_folder'"
     ]
    }
   ],
   "source": [
    "os.mkdir('new_folder') #create a new folder inside the directory"
   ]
  },
  {
   "cell_type": "code",
   "execution_count": 13,
   "id": "117f1e99",
   "metadata": {},
   "outputs": [
    {
     "ename": "FileNotFoundError",
     "evalue": "[WinError 2] The system cannot find the file specified: 'test'",
     "output_type": "error",
     "traceback": [
      "\u001b[1;31m---------------------------------------------------------------------------\u001b[0m",
      "\u001b[1;31mFileNotFoundError\u001b[0m                         Traceback (most recent call last)",
      "Input \u001b[1;32mIn [13]\u001b[0m, in \u001b[0;36m<cell line: 1>\u001b[1;34m()\u001b[0m\n\u001b[1;32m----> 1\u001b[0m \u001b[43mos\u001b[49m\u001b[38;5;241;43m.\u001b[39;49m\u001b[43mrmdir\u001b[49m\u001b[43m(\u001b[49m\u001b[38;5;124;43m'\u001b[39;49m\u001b[38;5;124;43mtest\u001b[39;49m\u001b[38;5;124;43m'\u001b[39;49m\u001b[43m)\u001b[49m\n",
      "\u001b[1;31mFileNotFoundError\u001b[0m: [WinError 2] The system cannot find the file specified: 'test'"
     ]
    }
   ],
   "source": [
    "os.rmdir('test') #removes folder inside the directory"
   ]
  },
  {
   "cell_type": "code",
   "execution_count": null,
   "id": "0c8ed198",
   "metadata": {},
   "outputs": [],
   "source": []
  }
 ],
 "metadata": {
  "kernelspec": {
   "display_name": "Python 3 (ipykernel)",
   "language": "python",
   "name": "python3"
  },
  "language_info": {
   "codemirror_mode": {
    "name": "ipython",
    "version": 3
   },
   "file_extension": ".py",
   "mimetype": "text/x-python",
   "name": "python",
   "nbconvert_exporter": "python",
   "pygments_lexer": "ipython3",
   "version": "3.9.12"
  }
 },
 "nbformat": 4,
 "nbformat_minor": 5
}
