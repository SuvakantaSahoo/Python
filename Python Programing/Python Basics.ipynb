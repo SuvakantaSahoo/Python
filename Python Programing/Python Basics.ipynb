{
 "cells": [
  {
   "cell_type": "code",
   "execution_count": 2,
   "id": "89e2d125",
   "metadata": {},
   "outputs": [
    {
     "name": "stdout",
     "output_type": "stream",
     "text": [
      "Hello World\n"
     ]
    }
   ],
   "source": [
    " print('Hello World')"
   ]
  },
  {
   "cell_type": "markdown",
   "id": "d53da9db",
   "metadata": {},
   "source": [
    "Python is a versatile language and powerful languaage. #Shift + Enter"
   ]
  },
  {
   "cell_type": "code",
   "execution_count": null,
   "id": "e9dfe18f",
   "metadata": {},
   "outputs": [],
   "source": []
  },
  {
   "cell_type": "code",
   "execution_count": null,
   "id": "0c8528c6",
   "metadata": {},
   "outputs": [],
   "source": []
  },
  {
   "attachments": {
    "python-logo-master-v3-TM-flattened.png": {
     "image/png": "[encoded data removed]"
    }
   },
   "cell_type": "markdown",
   "id": "a388e02b",
   "metadata": {},
   "source": [
    "![python-logo-master-v3-TM-flattened.png](attachment:python-logo-master-v3-TM-flattened.png)\n",
    "\n",
    "\n",
    "\n",
    "\n",
    "\n",
    "\n"
   ]
  },
  {
   "cell_type": "markdown",
   "id": "25864580",
   "metadata": {},
   "source": [
    "https://www.bing.com/search?q=python+(programming+language)&filters=dtbk:%22MCFvdmVydmlldyFvdmVydmlldyFlNjVkMzc2Mi1kY2M2LTEzZDYtY2M3MS01ZTA5Yjc1MjYzOTg%3d%22+sid:%22e65d3762-dcc6-13d6-cc71-5e09b7526398%22+tphint:%22f%22&FORM=DEPNAV"
   ]
  },
  {
   "cell_type": "markdown",
   "id": "1fe05de5",
   "metadata": {},
   "source": [
    "# Heading Syntax: '#' text"
   ]
  },
  {
   "cell_type": "markdown",
   "id": "2a1f2a67",
   "metadata": {},
   "source": [
    "# Python basics\n",
    "\n",
    "## Variables\n",
    "\n",
    "### Declaring variables"
   ]
  },
  {
   "cell_type": "markdown",
   "id": "52013c93",
   "metadata": {},
   "source": [
    "# Python basics\n",
    "\n",
    "## Variables\n",
    "\n",
    "### Declaring variables"
   ]
  },
  {
   "cell_type": "markdown",
   "id": "ce18ffa5",
   "metadata": {},
   "source": [
    "# Blockquote (>)"
   ]
  },
  {
   "cell_type": "markdown",
   "id": "f8817494",
   "metadata": {},
   "source": [
    "## Python\n",
    "\n",
    "> Python is a powerful language"
   ]
  },
  {
   "cell_type": "markdown",
   "id": "39d22a89",
   "metadata": {},
   "source": [
    "## Python\n",
    "\n",
    "> Python is a powerful language"
   ]
  },
  {
   "cell_type": "markdown",
   "id": "1515fedc",
   "metadata": {},
   "source": [
    "# Text highlighting (blacktics `  )"
   ]
  },
  {
   "cell_type": "markdown",
   "id": "a33ba71c",
   "metadata": {},
   "source": [
    "We are studying `python"
   ]
  },
  {
   "cell_type": "markdown",
   "id": "a123391d",
   "metadata": {},
   "source": [
    "# Horizontal rule( --- )"
   ]
  },
  {
   "cell_type": "markdown",
   "id": "f0600709",
   "metadata": {},
   "source": [
    "statement1\n",
    "\n",
    "statement2\n",
    "\n",
    "---\n",
    "\n",
    "statement3"
   ]
  },
  {
   "cell_type": "markdown",
   "id": "adcace8e",
   "metadata": {},
   "source": [
    "statement1\n",
    "\n",
    "statement2\n",
    "\n",
    "---\n",
    "statement3"
   ]
  },
  {
   "cell_type": "markdown",
   "id": "77b04cd4",
   "metadata": {},
   "source": [
    "# Text emphasis( **Bold**  or *Italic* ) "
   ]
  },
  {
   "cell_type": "markdown",
   "id": "ff69408f",
   "metadata": {},
   "source": [
    "**Python** is programming language"
   ]
  },
  {
   "cell_type": "markdown",
   "id": "9d5214f0",
   "metadata": {},
   "source": [
    "**Python** is programming language"
   ]
  },
  {
   "cell_type": "markdown",
   "id": "34641c03",
   "metadata": {},
   "source": [
    "Python is *programming* language"
   ]
  },
  {
   "cell_type": "markdown",
   "id": "5dce92c0",
   "metadata": {},
   "source": [
    "Python is *programming* language"
   ]
  },
  {
   "cell_type": "markdown",
   "id": "22cf880a",
   "metadata": {},
   "source": [
    "# Lists\n",
    "\n",
    "## Ordered list\n",
    "## Unordered list"
   ]
  },
  {
   "cell_type": "markdown",
   "id": "34760cd3",
   "metadata": {},
   "source": [
    "### Unordered list( +, -, or * )\n",
    "\n",
    "- item1\n",
    "- item2\n",
    "+ item3\n",
    "* item4"
   ]
  },
  {
   "cell_type": "markdown",
   "id": "0e952bfe",
   "metadata": {},
   "source": [
    "- item1\n",
    "- item2\n",
    "+ item3\n",
    "* item4"
   ]
  },
  {
   "cell_type": "markdown",
   "id": "70301ed0",
   "metadata": {},
   "source": [
    "### Ordered list\n",
    "\n",
    "1. statement1\n",
    "2. statement2\n",
    "3. statement3"
   ]
  },
  {
   "cell_type": "markdown",
   "id": "71dfa87c",
   "metadata": {},
   "source": [
    "1. statement1\n",
    "2. statement2\n",
    "3. statement3"
   ]
  },
  {
   "cell_type": "markdown",
   "id": "c332733f",
   "metadata": {},
   "source": [
    "# Hypertext\n",
    "\n",
    "#### Syntax : [Text] (url)"
   ]
  },
  {
   "cell_type": "markdown",
   "id": "ff80d767",
   "metadata": {},
   "source": [
    "click [here](https://colab.research.google.com/drive/1LdWz-1z_zNkgWcsY2O8d5ouOb22JG946#scrollTo=Xz9YSPITOOM8) to go to the Google colab"
   ]
  },
  {
   "cell_type": "markdown",
   "id": "8d22c3dd",
   "metadata": {},
   "source": [
    "click [here](https://colab.research.google.com/drive/1LdWz-1z_zNkgWcsY2O8d5ouOb22JG946#scrollTo=Xz9YSPITOOM8)"
   ]
  },
  {
   "cell_type": "markdown",
   "id": "78124b77",
   "metadata": {},
   "source": [
    "# Image( ! )\n",
    "\n",
    "![python](https://www.python.org/static/community_logos/python-logo-master-v3-TM.png)"
   ]
  },
  {
   "cell_type": "markdown",
   "id": "5d317311",
   "metadata": {},
   "source": [
    "![python](https://www.python.org/static/community_logos/python-logo-master-v3-TM.png)"
   ]
  },
  {
   "cell_type": "markdown",
   "id": "e60a2543",
   "metadata": {},
   "source": [
    "#  Variables & Literals(data types)\n",
    "\n",
    "cannot use keywords as a variable\n",
    "cant use space bet variable name \n",
    "cant use number at first\n",
    "can only use alphabet, numerics and underscore as a variable\n",
    "make the variable name CamelCase such as 'firstName'"
   ]
  },
  {
   "cell_type": "code",
   "execution_count": null,
   "id": "83a7a695",
   "metadata": {},
   "outputs": [],
   "source": [
    "int num = 10"
   ]
  },
  {
   "cell_type": "code",
   "execution_count": 1,
   "id": "f7611d55",
   "metadata": {},
   "outputs": [
    {
     "name": "stdout",
     "output_type": "stream",
     "text": [
      "12.56\n"
     ]
    }
   ],
   "source": [
    "num=10\n",
    "num='python'\n",
    "num=12.56\n",
    "print(num)\n"
   ]
  },
  {
   "cell_type": "code",
   "execution_count": 1,
   "id": "40946f2b",
   "metadata": {},
   "outputs": [],
   "source": [
    "# declaring a variable (comment)\n",
    "num= 12"
   ]
  },
  {
   "cell_type": "code",
   "execution_count": 23,
   "id": "1f0d35db",
   "metadata": {},
   "outputs": [
    {
     "data": {
      "text/plain": [
       "'this is a multiple line comment'"
      ]
     },
     "execution_count": 23,
     "metadata": {},
     "output_type": "execute_result"
    }
   ],
   "source": [
    "\"\"\"this is a multiple line comment\"\"\" #comment"
   ]
  },
  {
   "cell_type": "code",
   "execution_count": 24,
   "id": "7d02417f",
   "metadata": {},
   "outputs": [
    {
     "data": {
      "text/plain": [
       "'this is a multiple line comment'"
      ]
     },
     "execution_count": 24,
     "metadata": {},
     "output_type": "execute_result"
    }
   ],
   "source": [
    "'''this is a multiple line comment''' #comment"
   ]
  },
  {
   "cell_type": "code",
   "execution_count": 2,
   "id": "282e823e",
   "metadata": {},
   "outputs": [
    {
     "data": {
      "text/plain": [
       "int"
      ]
     },
     "execution_count": 2,
     "metadata": {},
     "output_type": "execute_result"
    }
   ],
   "source": [
    "type(num)"
   ]
  },
  {
   "cell_type": "code",
   "execution_count": 3,
   "id": "f1ae33a0",
   "metadata": {},
   "outputs": [],
   "source": [
    "num=13.4\n"
   ]
  },
  {
   "cell_type": "code",
   "execution_count": 4,
   "id": "a840c43a",
   "metadata": {},
   "outputs": [
    {
     "data": {
      "text/plain": [
       "float"
      ]
     },
     "execution_count": 4,
     "metadata": {},
     "output_type": "execute_result"
    }
   ],
   "source": [
    "type(num)"
   ]
  },
  {
   "cell_type": "code",
   "execution_count": 5,
   "id": "e2d98c21",
   "metadata": {},
   "outputs": [],
   "source": [
    "num='python'"
   ]
  },
  {
   "cell_type": "code",
   "execution_count": 6,
   "id": "6a7a211f",
   "metadata": {},
   "outputs": [
    {
     "data": {
      "text/plain": [
       "str"
      ]
     },
     "execution_count": 6,
     "metadata": {},
     "output_type": "execute_result"
    }
   ],
   "source": [
    "type(num)"
   ]
  },
  {
   "cell_type": "code",
   "execution_count": 7,
   "id": "f185acf4",
   "metadata": {},
   "outputs": [],
   "source": [
    "num=True"
   ]
  },
  {
   "cell_type": "code",
   "execution_count": 8,
   "id": "7bb457d4",
   "metadata": {},
   "outputs": [
    {
     "data": {
      "text/plain": [
       "bool"
      ]
     },
     "execution_count": 8,
     "metadata": {},
     "output_type": "execute_result"
    }
   ],
   "source": [
    "type(num)"
   ]
  },
  {
   "cell_type": "code",
   "execution_count": 1,
   "id": "78a72a34",
   "metadata": {},
   "outputs": [],
   "source": [
    "num1,num2,num3,num4=10,20,30,'python'"
   ]
  },
  {
   "cell_type": "code",
   "execution_count": 16,
   "id": "944562e3",
   "metadata": {},
   "outputs": [
    {
     "ename": "ValueError",
     "evalue": "not enough values to unpack (expected 4, got 3)",
     "output_type": "error",
     "traceback": [
      "\u001b[1;31m---------------------------------------------------------------------------\u001b[0m",
      "\u001b[1;31mValueError\u001b[0m                                Traceback (most recent call last)",
      "Input \u001b[1;32mIn [16]\u001b[0m, in \u001b[0;36m<cell line: 1>\u001b[1;34m()\u001b[0m\n\u001b[1;32m----> 1\u001b[0m num1,num2,num3,num4\u001b[38;5;241m=\u001b[39m\u001b[38;5;241m10\u001b[39m,\u001b[38;5;241m20\u001b[39m,\u001b[38;5;241m30\u001b[39m\n",
      "\u001b[1;31mValueError\u001b[0m: not enough values to unpack (expected 4, got 3)"
     ]
    }
   ],
   "source": [
    "num1,num2,num3,num4=10,20,30"
   ]
  },
  {
   "cell_type": "code",
   "execution_count": 11,
   "id": "9ddb9f21",
   "metadata": {},
   "outputs": [],
   "source": [
    "var1=var2=var3=10"
   ]
  },
  {
   "cell_type": "code",
   "execution_count": 13,
   "id": "d33030c8",
   "metadata": {},
   "outputs": [
    {
     "data": {
      "text/plain": [
       "2137758132816"
      ]
     },
     "execution_count": 13,
     "metadata": {},
     "output_type": "execute_result"
    }
   ],
   "source": [
    "id(var1) #to know the address"
   ]
  },
  {
   "cell_type": "code",
   "execution_count": 14,
   "id": "3ab5ab4c",
   "metadata": {},
   "outputs": [
    {
     "data": {
      "text/plain": [
       "2137758132816"
      ]
     },
     "execution_count": 14,
     "metadata": {},
     "output_type": "execute_result"
    }
   ],
   "source": [
    "id(var2)"
   ]
  },
  {
   "cell_type": "code",
   "execution_count": 17,
   "id": "8904a9d8",
   "metadata": {},
   "outputs": [
    {
     "name": "stdout",
     "output_type": "stream",
     "text": [
      "data science with python\n"
     ]
    }
   ],
   "source": [
    "# display message\n",
    "print('data science with python')"
   ]
  },
  {
   "cell_type": "code",
   "execution_count": 18,
   "id": "0ff7b60f",
   "metadata": {},
   "outputs": [
    {
     "name": "stdout",
     "output_type": "stream",
     "text": [
      "10\n"
     ]
    }
   ],
   "source": [
    "print(var1)"
   ]
  },
  {
   "cell_type": "markdown",
   "id": "ea3a3f34",
   "metadata": {},
   "source": [
    "# Type Conversion"
   ]
  },
  {
   "cell_type": "code",
   "execution_count": 25,
   "id": "8c7a16f8",
   "metadata": {},
   "outputs": [
    {
     "data": {
      "text/plain": [
       "100"
      ]
     },
     "execution_count": 25,
     "metadata": {},
     "output_type": "execute_result"
    }
   ],
   "source": [
    "int(\"100\")"
   ]
  },
  {
   "cell_type": "code",
   "execution_count": 26,
   "id": "bf25d497",
   "metadata": {},
   "outputs": [
    {
     "data": {
      "text/plain": [
       "100.0"
      ]
     },
     "execution_count": 26,
     "metadata": {},
     "output_type": "execute_result"
    }
   ],
   "source": [
    "float(\"100\")"
   ]
  },
  {
   "cell_type": "code",
   "execution_count": 27,
   "id": "9865a118",
   "metadata": {},
   "outputs": [
    {
     "data": {
      "text/plain": [
       "'100'"
      ]
     },
     "execution_count": 27,
     "metadata": {},
     "output_type": "execute_result"
    }
   ],
   "source": [
    "str('100')"
   ]
  },
  {
   "cell_type": "code",
   "execution_count": 28,
   "id": "244502d8",
   "metadata": {},
   "outputs": [
    {
     "ename": "ValueError",
     "evalue": "invalid literal for int() with base 10: '100s'",
     "output_type": "error",
     "traceback": [
      "\u001b[1;31m---------------------------------------------------------------------------\u001b[0m",
      "\u001b[1;31mValueError\u001b[0m                                Traceback (most recent call last)",
      "Input \u001b[1;32mIn [28]\u001b[0m, in \u001b[0;36m<cell line: 1>\u001b[1;34m()\u001b[0m\n\u001b[1;32m----> 1\u001b[0m \u001b[38;5;28;43mint\u001b[39;49m\u001b[43m(\u001b[49m\u001b[38;5;124;43m'\u001b[39;49m\u001b[38;5;124;43m100s\u001b[39;49m\u001b[38;5;124;43m'\u001b[39;49m\u001b[43m)\u001b[49m\n",
      "\u001b[1;31mValueError\u001b[0m: invalid literal for int() with base 10: '100s'"
     ]
    }
   ],
   "source": [
    "int('100s')"
   ]
  },
  {
   "cell_type": "code",
   "execution_count": 29,
   "id": "e4d002cb",
   "metadata": {},
   "outputs": [
    {
     "ename": "ValueError",
     "evalue": "could not convert string to float: '100s'",
     "output_type": "error",
     "traceback": [
      "\u001b[1;31m---------------------------------------------------------------------------\u001b[0m",
      "\u001b[1;31mValueError\u001b[0m                                Traceback (most recent call last)",
      "Input \u001b[1;32mIn [29]\u001b[0m, in \u001b[0;36m<cell line: 1>\u001b[1;34m()\u001b[0m\n\u001b[1;32m----> 1\u001b[0m \u001b[38;5;28;43mfloat\u001b[39;49m\u001b[43m(\u001b[49m\u001b[38;5;124;43m'\u001b[39;49m\u001b[38;5;124;43m100s\u001b[39;49m\u001b[38;5;124;43m'\u001b[39;49m\u001b[43m)\u001b[49m\n",
      "\u001b[1;31mValueError\u001b[0m: could not convert string to float: '100s'"
     ]
    }
   ],
   "source": [
    "float('100s')"
   ]
  },
  {
   "cell_type": "code",
   "execution_count": 32,
   "id": "c3c4ec2d",
   "metadata": {},
   "outputs": [
    {
     "data": {
      "text/plain": [
       "'100'"
      ]
     },
     "execution_count": 32,
     "metadata": {},
     "output_type": "execute_result"
    }
   ],
   "source": [
    "str(100)"
   ]
  },
  {
   "cell_type": "code",
   "execution_count": 35,
   "id": "bc9c892f",
   "metadata": {},
   "outputs": [
    {
     "data": {
      "text/plain": [
       "100"
      ]
     },
     "execution_count": 35,
     "metadata": {},
     "output_type": "execute_result"
    }
   ],
   "source": [
    "int(100.26)"
   ]
  },
  {
   "cell_type": "code",
   "execution_count": 33,
   "id": "192f6ddb",
   "metadata": {},
   "outputs": [
    {
     "name": "stdout",
     "output_type": "stream",
     "text": [
      "<class 'int'>\n"
     ]
    }
   ],
   "source": [
    "print(int)"
   ]
  },
  {
   "cell_type": "code",
   "execution_count": 36,
   "id": "7184c58d",
   "metadata": {},
   "outputs": [
    {
     "data": {
      "text/plain": [
       "0"
      ]
     },
     "execution_count": 36,
     "metadata": {},
     "output_type": "execute_result"
    }
   ],
   "source": [
    "int(0)"
   ]
  },
  {
   "cell_type": "code",
   "execution_count": 37,
   "id": "8aaa0a88",
   "metadata": {},
   "outputs": [
    {
     "data": {
      "text/plain": [
       "-1"
      ]
     },
     "execution_count": 37,
     "metadata": {},
     "output_type": "execute_result"
    }
   ],
   "source": [
    "int(-1)"
   ]
  },
  {
   "cell_type": "code",
   "execution_count": 38,
   "id": "8ea17c71",
   "metadata": {},
   "outputs": [
    {
     "data": {
      "text/plain": [
       "-1.0"
      ]
     },
     "execution_count": 38,
     "metadata": {},
     "output_type": "execute_result"
    }
   ],
   "source": [
    "float(-1)"
   ]
  },
  {
   "cell_type": "code",
   "execution_count": 51,
   "id": "99c01885",
   "metadata": {},
   "outputs": [
    {
     "data": {
      "text/plain": [
       "'please enter the value:'"
      ]
     },
     "execution_count": 51,
     "metadata": {},
     "output_type": "execute_result"
    }
   ],
   "source": [
    "str('please enter the value:')"
   ]
  },
  {
   "cell_type": "code",
   "execution_count": 39,
   "id": "42a66f5b",
   "metadata": {},
   "outputs": [
    {
     "data": {
      "text/plain": [
       "False"
      ]
     },
     "execution_count": 39,
     "metadata": {},
     "output_type": "execute_result"
    }
   ],
   "source": [
    "bool(0)"
   ]
  },
  {
   "cell_type": "code",
   "execution_count": 40,
   "id": "29b93c09",
   "metadata": {},
   "outputs": [
    {
     "data": {
      "text/plain": [
       "True"
      ]
     },
     "execution_count": 40,
     "metadata": {},
     "output_type": "execute_result"
    }
   ],
   "source": [
    "bool(2)"
   ]
  },
  {
   "cell_type": "code",
   "execution_count": 41,
   "id": "29758eb1",
   "metadata": {},
   "outputs": [
    {
     "data": {
      "text/plain": [
       "True"
      ]
     },
     "execution_count": 41,
     "metadata": {},
     "output_type": "execute_result"
    }
   ],
   "source": [
    "bool(-5)"
   ]
  },
  {
   "cell_type": "markdown",
   "id": "5af06462",
   "metadata": {},
   "source": [
    "# Input/Output"
   ]
  },
  {
   "cell_type": "code",
   "execution_count": 43,
   "id": "f43871a2",
   "metadata": {},
   "outputs": [
    {
     "name": "stdout",
     "output_type": "stream",
     "text": [
      "please enter the value:2022\n"
     ]
    }
   ],
   "source": [
    "currentYear=int(input('please enter the value:'))"
   ]
  },
  {
   "cell_type": "code",
   "execution_count": 44,
   "id": "41132215",
   "metadata": {},
   "outputs": [
    {
     "data": {
      "text/plain": [
       "int"
      ]
     },
     "execution_count": 44,
     "metadata": {},
     "output_type": "execute_result"
    }
   ],
   "source": [
    "type(currentYear)"
   ]
  },
  {
   "cell_type": "code",
   "execution_count": 47,
   "id": "71409a88",
   "metadata": {},
   "outputs": [
    {
     "name": "stdout",
     "output_type": "stream",
     "text": [
      "please enter the value:20.5\n"
     ]
    }
   ],
   "source": [
    "currentYear=float(input('please enter the value:'))"
   ]
  },
  {
   "cell_type": "code",
   "execution_count": 46,
   "id": "4194ae46",
   "metadata": {},
   "outputs": [
    {
     "data": {
      "text/plain": [
       "float"
      ]
     },
     "execution_count": 46,
     "metadata": {},
     "output_type": "execute_result"
    }
   ],
   "source": [
    "type(currentYear)"
   ]
  },
  {
   "cell_type": "code",
   "execution_count": 70,
   "id": "4bf3fb8d",
   "metadata": {},
   "outputs": [
    {
     "name": "stdout",
     "output_type": "stream",
     "text": [
      "please enter the value:\n"
     ]
    }
   ],
   "source": [
    "currentYear=str('please enter the value:')\n",
    "print(currentYear)"
   ]
  },
  {
   "cell_type": "code",
   "execution_count": 74,
   "id": "68c1b2dc",
   "metadata": {},
   "outputs": [
    {
     "name": "stdout",
     "output_type": "stream",
     "text": [
      "please enter the value:\n"
     ]
    }
   ],
   "source": [
    "currentYear='please enter the value:'\n",
    "print(currentYear)"
   ]
  },
  {
   "cell_type": "code",
   "execution_count": 49,
   "id": "dddecf32",
   "metadata": {},
   "outputs": [
    {
     "data": {
      "text/plain": [
       "str"
      ]
     },
     "execution_count": 49,
     "metadata": {},
     "output_type": "execute_result"
    }
   ],
   "source": [
    "type(currentYear)"
   ]
  },
  {
   "cell_type": "code",
   "execution_count": 59,
   "id": "01d2ffbc",
   "metadata": {},
   "outputs": [
    {
     "name": "stdout",
     "output_type": "stream",
     "text": [
      "2022\n"
     ]
    }
   ],
   "source": [
    "currentYear=input()"
   ]
  },
  {
   "cell_type": "code",
   "execution_count": 61,
   "id": "71e0da40",
   "metadata": {},
   "outputs": [
    {
     "data": {
      "text/plain": [
       "str"
      ]
     },
     "execution_count": 61,
     "metadata": {},
     "output_type": "execute_result"
    }
   ],
   "source": [
    "type(currentYear)"
   ]
  },
  {
   "cell_type": "code",
   "execution_count": 60,
   "id": "c222d45d",
   "metadata": {},
   "outputs": [
    {
     "ename": "TypeError",
     "evalue": "can only concatenate str (not \"int\") to str",
     "output_type": "error",
     "traceback": [
      "\u001b[1;31m---------------------------------------------------------------------------\u001b[0m",
      "\u001b[1;31mTypeError\u001b[0m                                 Traceback (most recent call last)",
      "Input \u001b[1;32mIn [60]\u001b[0m, in \u001b[0;36m<cell line: 1>\u001b[1;34m()\u001b[0m\n\u001b[1;32m----> 1\u001b[0m \u001b[43mcurrentYear\u001b[49m\u001b[38;5;241;43m+\u001b[39;49m\u001b[38;5;241;43m20\u001b[39;49m\n",
      "\u001b[1;31mTypeError\u001b[0m: can only concatenate str (not \"int\") to str"
     ]
    }
   ],
   "source": [
    "currentYear+20"
   ]
  },
  {
   "cell_type": "code",
   "execution_count": 62,
   "id": "7fbc404a",
   "metadata": {},
   "outputs": [
    {
     "name": "stdout",
     "output_type": "stream",
     "text": [
      "please enter the value:2022\n"
     ]
    }
   ],
   "source": [
    "currentYear=int(input('please enter the value:'))"
   ]
  },
  {
   "cell_type": "code",
   "execution_count": 63,
   "id": "ebc56c58",
   "metadata": {},
   "outputs": [
    {
     "data": {
      "text/plain": [
       "2034"
      ]
     },
     "execution_count": 63,
     "metadata": {},
     "output_type": "execute_result"
    }
   ],
   "source": [
    "currentYear+12"
   ]
  },
  {
   "cell_type": "markdown",
   "id": "591ea14a",
   "metadata": {},
   "source": [
    "# Arithmetic Operators"
   ]
  },
  {
   "cell_type": "code",
   "execution_count": 68,
   "id": "b40cd6e3",
   "metadata": {},
   "outputs": [],
   "source": [
    "num1=10\n",
    "num2=6"
   ]
  },
  {
   "cell_type": "code",
   "execution_count": 69,
   "id": "bdfc5b84",
   "metadata": {},
   "outputs": [
    {
     "name": "stdout",
     "output_type": "stream",
     "text": [
      "16\n",
      "4\n",
      "60\n",
      "1.6666666666666667\n",
      "1000000\n",
      "1\n",
      "4\n"
     ]
    }
   ],
   "source": [
    "print(num1+num2)\n",
    "print(num1-num2)\n",
    "print(num1*num2)\n",
    "print(num1/num2)\n",
    "print(num1**num2) # power\n",
    "print(num1//num2) # give integer value only\n",
    "print(num1%num2)  # give reminder"
   ]
  },
  {
   "cell_type": "markdown",
   "id": "52c27de1",
   "metadata": {},
   "source": [
    "# Relational Operators"
   ]
  },
  {
   "cell_type": "code",
   "execution_count": 54,
   "id": "1342da2e",
   "metadata": {},
   "outputs": [
    {
     "name": "stdout",
     "output_type": "stream",
     "text": [
      "False\n",
      "True\n",
      "False\n",
      "True\n",
      "False\n",
      "True\n"
     ]
    }
   ],
   "source": [
    "print(num1>num2)\n",
    "print(num<num2)\n",
    "print(num1==num2)\n",
    "print(num1!=num2)\n",
    "print(num1>=num2)\n",
    "print(num1<=num2)"
   ]
  },
  {
   "cell_type": "markdown",
   "id": "c28ea649",
   "metadata": {},
   "source": [
    "# Logical Operator"
   ]
  },
  {
   "cell_type": "code",
   "execution_count": 1,
   "id": "61bf4837",
   "metadata": {},
   "outputs": [
    {
     "name": "stdout",
     "output_type": "stream",
     "text": [
      "False\n"
     ]
    }
   ],
   "source": [
    "x = True\n",
    "y= False\n",
    "\n",
    "print(x and y)"
   ]
  },
  {
   "cell_type": "code",
   "execution_count": 2,
   "id": "8a57cd7a",
   "metadata": {},
   "outputs": [
    {
     "name": "stdout",
     "output_type": "stream",
     "text": [
      "True\n"
     ]
    }
   ],
   "source": [
    "x = True\n",
    "y= True\n",
    "\n",
    "print(x and y)"
   ]
  },
  {
   "cell_type": "code",
   "execution_count": 3,
   "id": "d86d03c4",
   "metadata": {},
   "outputs": [
    {
     "name": "stdout",
     "output_type": "stream",
     "text": [
      "True\n"
     ]
    }
   ],
   "source": [
    "x = True\n",
    "y= False\n",
    "\n",
    "print(x or y)"
   ]
  },
  {
   "cell_type": "code",
   "execution_count": 4,
   "id": "10409df2",
   "metadata": {},
   "outputs": [
    {
     "name": "stdout",
     "output_type": "stream",
     "text": [
      "False\n"
     ]
    }
   ],
   "source": [
    "x = False\n",
    "y= False\n",
    "\n",
    "print(x and y)"
   ]
  },
  {
   "cell_type": "code",
   "execution_count": 5,
   "id": "6d66a2b9",
   "metadata": {},
   "outputs": [
    {
     "name": "stdout",
     "output_type": "stream",
     "text": [
      "False\n"
     ]
    }
   ],
   "source": [
    "x = True\n",
    "y= False\n",
    "\n",
    "print(not x)"
   ]
  },
  {
   "cell_type": "code",
   "execution_count": 6,
   "id": "61a90d29",
   "metadata": {},
   "outputs": [
    {
     "name": "stdout",
     "output_type": "stream",
     "text": [
      "True\n"
     ]
    }
   ],
   "source": [
    "x = True\n",
    "y= False\n",
    "\n",
    "print(not y)"
   ]
  },
  {
   "cell_type": "markdown",
   "id": "2cb857e5",
   "metadata": {},
   "source": [
    "# Identity Operators"
   ]
  },
  {
   "cell_type": "code",
   "execution_count": 8,
   "id": "280dcd6d",
   "metadata": {},
   "outputs": [
    {
     "name": "stdout",
     "output_type": "stream",
     "text": [
      "True\n"
     ]
    }
   ],
   "source": [
    "var1=10\n",
    "var2=10\n",
    "\n",
    "\n",
    "print(var1 is var2) "
   ]
  },
  {
   "cell_type": "code",
   "execution_count": 10,
   "id": "4578f748",
   "metadata": {},
   "outputs": [
    {
     "name": "stdout",
     "output_type": "stream",
     "text": [
      "True\n"
     ]
    }
   ],
   "source": [
    "var3='Python'\n",
    "var4='Python'\n",
    "\n",
    "\n",
    "print(var3 is var4) "
   ]
  },
  {
   "cell_type": "code",
   "execution_count": 11,
   "id": "2595a1ee",
   "metadata": {},
   "outputs": [
    {
     "name": "stdout",
     "output_type": "stream",
     "text": [
      "False\n"
     ]
    }
   ],
   "source": [
    "var5=[10,20,30]\n",
    "var6=[10,20,30]\n",
    "\n",
    "print(var5 is var6)\n"
   ]
  },
  {
   "cell_type": "code",
   "execution_count": 12,
   "id": "a55c62ec",
   "metadata": {},
   "outputs": [
    {
     "name": "stdout",
     "output_type": "stream",
     "text": [
      "True\n"
     ]
    }
   ],
   "source": [
    "var5=[10,20,30]\n",
    "var6=var5\n",
    "\n",
    "print(var5 is var6)"
   ]
  },
  {
   "cell_type": "markdown",
   "id": "f0492500",
   "metadata": {},
   "source": [
    "# Assignment Operators"
   ]
  },
  {
   "cell_type": "code",
   "execution_count": 13,
   "id": "9e4c6011",
   "metadata": {},
   "outputs": [
    {
     "name": "stdout",
     "output_type": "stream",
     "text": [
      "15\n"
     ]
    }
   ],
   "source": [
    "num1=10\n",
    "num2=5\n",
    "\n",
    "#num1=num1+num2\n",
    "\n",
    "num1 += num2\n",
    "\n",
    "print(num1)"
   ]
  },
  {
   "cell_type": "code",
   "execution_count": 14,
   "id": "a7032834",
   "metadata": {},
   "outputs": [
    {
     "name": "stdout",
     "output_type": "stream",
     "text": [
      "15.86\n"
     ]
    }
   ],
   "source": [
    "num1=10.5\n",
    "num2=5.36\n",
    "\n",
    "#num1=num1+num2\n",
    "\n",
    "num1 += num2\n",
    "\n",
    "print(num1)"
   ]
  },
  {
   "cell_type": "code",
   "execution_count": 15,
   "id": "ae201e93",
   "metadata": {},
   "outputs": [
    {
     "name": "stdout",
     "output_type": "stream",
     "text": [
      "5\n"
     ]
    }
   ],
   "source": [
    "num1=10\n",
    "num2=5\n",
    "\n",
    "#num1=num1-num2\n",
    "\n",
    "num1 -= num2\n",
    "\n",
    "print(num1)"
   ]
  },
  {
   "cell_type": "code",
   "execution_count": 16,
   "id": "6899e198",
   "metadata": {},
   "outputs": [
    {
     "name": "stdout",
     "output_type": "stream",
     "text": [
      "9\n"
     ]
    }
   ],
   "source": [
    "num1=10\n",
    "num2=5\n",
    "\n",
    "#num1=num1-num2\n",
    "\n",
    "num1 -= 1\n",
    "\n",
    "print(num1)"
   ]
  },
  {
   "cell_type": "code",
   "execution_count": 17,
   "id": "b41ed918",
   "metadata": {},
   "outputs": [
    {
     "name": "stdout",
     "output_type": "stream",
     "text": [
      "11.15\n"
     ]
    }
   ],
   "source": [
    "num1=10.5\n",
    "num2=5.36\n",
    "\n",
    "#num1=num1+num2\n",
    "\n",
    "num1 += .65\n",
    "\n",
    "print(num1)"
   ]
  },
  {
   "cell_type": "code",
   "execution_count": 18,
   "id": "ce9190fc",
   "metadata": {},
   "outputs": [
    {
     "name": "stdout",
     "output_type": "stream",
     "text": [
      "56.28\n"
     ]
    }
   ],
   "source": [
    "num1=10.5\n",
    "num2=5.36\n",
    "\n",
    "#num1=num1*num2\n",
    "\n",
    "num1 *= num2\n",
    "\n",
    "print(num1)"
   ]
  },
  {
   "cell_type": "code",
   "execution_count": 20,
   "id": "d9bab7de",
   "metadata": {},
   "outputs": [
    {
     "name": "stdout",
     "output_type": "stream",
     "text": [
      "1.958955223880597\n"
     ]
    }
   ],
   "source": [
    "num1=10.5\n",
    "num2=5.36\n",
    "\n",
    "#num1=num1/num2\n",
    "\n",
    "num1 /= num2\n",
    "\n",
    "print(num1)"
   ]
  },
  {
   "cell_type": "code",
   "execution_count": 21,
   "id": "b37796ca",
   "metadata": {},
   "outputs": [
    {
     "name": "stdout",
     "output_type": "stream",
     "text": [
      "297560.0637049139\n"
     ]
    }
   ],
   "source": [
    "num1=10.5\n",
    "num2=5.36\n",
    "\n",
    "#num1=num1**num2\n",
    "\n",
    "num1 **= num2\n",
    "\n",
    "print(num1)"
   ]
  },
  {
   "cell_type": "code",
   "execution_count": 22,
   "id": "db43fb45",
   "metadata": {},
   "outputs": [
    {
     "name": "stdout",
     "output_type": "stream",
     "text": [
      "1.0\n"
     ]
    }
   ],
   "source": [
    "num1=10.5\n",
    "num2=5.36\n",
    "\n",
    "#num1=num1//num2\n",
    "\n",
    "num1 //= num2\n",
    "\n",
    "print(num1)"
   ]
  },
  {
   "cell_type": "code",
   "execution_count": null,
   "id": "0c49ce92",
   "metadata": {},
   "outputs": [],
   "source": []
  }
 ],
 "metadata": {
  "kernelspec": {
   "display_name": "Python 3 (ipykernel)",
   "language": "python",
   "name": "python3"
  },
  "language_info": {
   "codemirror_mode": {
    "name": "ipython",
    "version": 3
   },
   "file_extension": ".py",
   "mimetype": "text/x-python",
   "name": "python",
   "nbconvert_exporter": "python",
   "pygments_lexer": "ipython3",
   "version": "3.9.12"
  }
 },
 "nbformat": 4,
 "nbformat_minor": 5
}
