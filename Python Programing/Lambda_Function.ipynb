{
  "nbformat": 4,
  "nbformat_minor": 0,
  "metadata": {
    "colab": {
      "provenance": []
    },
    "kernelspec": {
      "name": "python3",
      "display_name": "Python 3"
    },
    "language_info": {
      "name": "python"
    },
    "gpuClass": "standard"
  },
  "cells": [
    {
      "cell_type": "code",
      "execution_count": 1,
      "metadata": {
        "colab": {
          "base_uri": "https://localhost:8080/"
        },
        "id": "5Xma765RpuKd",
        "outputId": "42bf0071-beee-47f4-9282-f7c27b30d8fe"
      },
      "outputs": [
        {
          "output_type": "execute_result",
          "data": {
            "text/plain": [
              "20"
            ]
          },
          "metadata": {},
          "execution_count": 1
        }
      ],
      "source": [
        "multiply=lambda x,y:x*y\n",
        "multiply(4,5)"
      ]
    },
    {
      "cell_type": "code",
      "source": [
        "power=lambda x,y:x**y\n",
        "power(4,2)"
      ],
      "metadata": {
        "colab": {
          "base_uri": "https://localhost:8080/"
        },
        "id": "4hhddAy6sAto",
        "outputId": "72749021-0ecc-41dc-996f-610b3c3ed752"
      },
      "execution_count": 2,
      "outputs": [
        {
          "output_type": "execute_result",
          "data": {
            "text/plain": [
              "16"
            ]
          },
          "metadata": {},
          "execution_count": 2
        }
      ]
    },
    {
      "cell_type": "code",
      "source": [
        "# Map function with lambda expression\n",
        "\n",
        "some_num=[2,3,4,5]\n",
        "\n",
        "double=list(map(lambda x:x+x,some_num))\n",
        "double\n"
      ],
      "metadata": {
        "colab": {
          "base_uri": "https://localhost:8080/"
        },
        "id": "UpwmbWw3sKOQ",
        "outputId": "e8781b74-b6b9-4e65-c846-6721312210db"
      },
      "execution_count": 3,
      "outputs": [
        {
          "output_type": "execute_result",
          "data": {
            "text/plain": [
              "[4, 6, 8, 10]"
            ]
          },
          "metadata": {},
          "execution_count": 3
        }
      ]
    },
    {
      "cell_type": "code",
      "source": [
        "string=['My','Python']\n",
        "\n",
        "cap=list(map(lambda x:str.upper(x),string))\n",
        "cap"
      ],
      "metadata": {
        "colab": {
          "base_uri": "https://localhost:8080/"
        },
        "id": "hZnqYvextCYU",
        "outputId": "62c4641f-d241-4230-cbc2-d28e00053715"
      },
      "execution_count": 4,
      "outputs": [
        {
          "output_type": "execute_result",
          "data": {
            "text/plain": [
              "['MY', 'PYTHON']"
            ]
          },
          "metadata": {},
          "execution_count": 4
        }
      ]
    },
    {
      "cell_type": "code",
      "source": [
        "# Sorting with lambda expression\n",
        "\n",
        "attendance=[12,53,10,89,65,36]\n",
        "\n",
        "print(sorted(attendance))\n",
        "print(attendance)\n",
        "print()\n",
        "attendance.sort(reverse=True)\n",
        "print(attendance)\n",
        "print()\n",
        "attendance.sort(key=lambda x:x*2)\n",
        "print(attendance)"
      ],
      "metadata": {
        "colab": {
          "base_uri": "https://localhost:8080/"
        },
        "id": "dPG3HVfctxs2",
        "outputId": "1fae36fa-73a7-4a79-d652-c4512e866582"
      },
      "execution_count": 15,
      "outputs": [
        {
          "output_type": "stream",
          "name": "stdout",
          "text": [
            "[10, 12, 36, 53, 65, 89]\n",
            "[12, 53, 10, 89, 65, 36]\n",
            "\n",
            "[89, 65, 53, 36, 12, 10]\n",
            "\n",
            "[10, 12, 36, 53, 65, 89]\n"
          ]
        }
      ]
    },
    {
      "cell_type": "code",
      "source": [
        "class_att=[('9A',35),('9B',37),('9C',30),('9D',32),('9E',34)]\n",
        "\n",
        "sorted(class_att,key=lambda x:x[1])"
      ],
      "metadata": {
        "colab": {
          "base_uri": "https://localhost:8080/"
        },
        "id": "ZV-tDX-ZuoA2",
        "outputId": "257ed7ad-04da-4f66-fcdb-6f29bd3becb6"
      },
      "execution_count": 16,
      "outputs": [
        {
          "output_type": "execute_result",
          "data": {
            "text/plain": [
              "[('9C', 30), ('9D', 32), ('9E', 34), ('9A', 35), ('9B', 37)]"
            ]
          },
          "metadata": {},
          "execution_count": 16
        }
      ]
    },
    {
      "cell_type": "code",
      "source": [
        "# Filter function with lambda expression\n",
        "\n",
        "attendance=[38,53,10,19,65,36,35]\n",
        "\n",
        "abv_avg_att=list(filter(lambda x:x>=35,attendance))\n",
        "abv_avg_att"
      ],
      "metadata": {
        "colab": {
          "base_uri": "https://localhost:8080/"
        },
        "id": "EBHJfUyEyL0q",
        "outputId": "89c31dbb-47c7-4eeb-e3b8-493c77f34fd7"
      },
      "execution_count": 19,
      "outputs": [
        {
          "output_type": "execute_result",
          "data": {
            "text/plain": [
              "[38, 53, 65, 36, 35]"
            ]
          },
          "metadata": {},
          "execution_count": 19
        }
      ]
    },
    {
      "cell_type": "code",
      "source": [
        "countries=['India','UK','USA','France','Iran']\n",
        "\n",
        "count_con=list(filter(lambda x:len(x)>3,countries))\n",
        "count_con"
      ],
      "metadata": {
        "colab": {
          "base_uri": "https://localhost:8080/"
        },
        "id": "7_iW_7y_zOt0",
        "outputId": "9ba304bc-78d5-4dbd-c7f8-8509986db968"
      },
      "execution_count": 20,
      "outputs": [
        {
          "output_type": "execute_result",
          "data": {
            "text/plain": [
              "['India', 'France', 'Iran']"
            ]
          },
          "metadata": {},
          "execution_count": 20
        }
      ]
    },
    {
      "cell_type": "code",
      "source": [
        "# Reduce function with lambda expression --> it returns single element\n",
        "\n",
        "from functools import reduce\n",
        "\n",
        "nums=[10,20,22,25,29,35]\n",
        "\n",
        "summed_up=reduce(lambda x,y:x+y,nums)\n",
        "summed_up"
      ],
      "metadata": {
        "colab": {
          "base_uri": "https://localhost:8080/"
        },
        "id": "zMhozSFSz-hM",
        "outputId": "5785c3bb-b1b0-4e40-d879-5c7ab98457e8"
      },
      "execution_count": 22,
      "outputs": [
        {
          "output_type": "execute_result",
          "data": {
            "text/plain": [
              "141"
            ]
          },
          "metadata": {},
          "execution_count": 22
        }
      ]
    },
    {
      "cell_type": "code",
      "source": [
        "nums=[10,20,22,25,29,35]\n",
        "\n",
        "max_val=reduce(lambda x,y:max(x,y),nums)\n",
        "print(max_val)\n",
        "print()\n",
        "\n",
        "min_val=reduce(lambda x,y:min(x,y),nums)\n",
        "print(min_val)"
      ],
      "metadata": {
        "colab": {
          "base_uri": "https://localhost:8080/"
        },
        "id": "CSypL6ky0rAS",
        "outputId": "00d247d4-545c-4ac6-dc44-a7b2e49dc134"
      },
      "execution_count": 24,
      "outputs": [
        {
          "output_type": "stream",
          "name": "stdout",
          "text": [
            "35\n",
            "\n",
            "10\n"
          ]
        }
      ]
    },
    {
      "cell_type": "code",
      "source": [
        "nums=[10,20,22,25,29,35]\n",
        "\n",
        "max_val=reduce(lambda x,y:x if x>y else y,nums)\n",
        "print(max_val)"
      ],
      "metadata": {
        "colab": {
          "base_uri": "https://localhost:8080/"
        },
        "id": "W8p3YFyf2cod",
        "outputId": "fce92b04-4142-49fa-a3b9-e70c40d7806d"
      },
      "execution_count": 25,
      "outputs": [
        {
          "output_type": "stream",
          "name": "stdout",
          "text": [
            "35\n"
          ]
        }
      ]
    },
    {
      "cell_type": "code",
      "source": [
        "# Lambda function on nested list\n",
        "\n",
        "scores=[[1,35,80],[2,32,75],[3,30,82],[4,33,75],[5,37,60]]\n",
        "\n",
        "abv_avg=35\n",
        "\n",
        "new_marks=list(map(lambda x:x[2]+2 if x[1]>abv_avg else x[2]-2,scores))\n",
        "new_marks"
      ],
      "metadata": {
        "colab": {
          "base_uri": "https://localhost:8080/"
        },
        "id": "xR7ZZFAZ3XsZ",
        "outputId": "814cd2e1-00e3-45f7-b484-a30d9098cd07"
      },
      "execution_count": 26,
      "outputs": [
        {
          "output_type": "execute_result",
          "data": {
            "text/plain": [
              "[78, 73, 80, 73, 62]"
            ]
          },
          "metadata": {},
          "execution_count": 26
        }
      ]
    },
    {
      "cell_type": "code",
      "source": [
        "# Lambda function on dictionary\n",
        "\n",
        "sales=[{'country':'India','sales':125},{'country':'US','sales':569},{'country':'Japan','sales':896}]\n",
        "\n",
        "country_key=list(map(lambda x:x['country'],sales))\n",
        "print(country_key)\n",
        "print()\n",
        "\n",
        "sale_val=list(map(lambda x:x['sales'],sales))\n",
        "print(sale_val)"
      ],
      "metadata": {
        "colab": {
          "base_uri": "https://localhost:8080/"
        },
        "id": "KAXF3Ynt5Te_",
        "outputId": "df1756ba-41ef-4310-ad28-36654699f652"
      },
      "execution_count": 27,
      "outputs": [
        {
          "output_type": "stream",
          "name": "stdout",
          "text": [
            "['India', 'US', 'Japan']\n",
            "\n",
            "[125, 569, 896]\n"
          ]
        }
      ]
    },
    {
      "cell_type": "code",
      "source": [
        "# Using filter on dictionary along with lambda\n",
        "sales=[{'country':'India','sales':125},{'country':'US','sales':569},{'country':'Japan','sales':896}]\n",
        "\n",
        "india_sale=list(filter(lambda x:x['country']=='India',sales))\n",
        "print(india_sale)\n",
        "print()\n",
        "\n",
        "high_sale=list(filter(lambda x:x['sales']>200,sales))\n",
        "print(high_sale)"
      ],
      "metadata": {
        "colab": {
          "base_uri": "https://localhost:8080/"
        },
        "id": "LEibrFDU7sp6",
        "outputId": "cdff43a1-38d9-4aca-af8d-517a5040644b"
      },
      "execution_count": 29,
      "outputs": [
        {
          "output_type": "stream",
          "name": "stdout",
          "text": [
            "[{'country': 'India', 'sales': 125}]\n",
            "\n",
            "[{'country': 'US', 'sales': 569}, {'country': 'Japan', 'sales': 896}]\n"
          ]
        }
      ]
    },
    {
      "cell_type": "code",
      "source": [
        "# Passing multiple list to lambda expressions\n",
        "\n",
        "list1=[12,52,36,49,89]\n",
        "list2=[45,26,35,98,14]\n",
        "\n",
        "list_addition=list(map(lambda x,y:x+y,list1,list2))\n",
        "list_addition"
      ],
      "metadata": {
        "colab": {
          "base_uri": "https://localhost:8080/"
        },
        "id": "_G0K0nKD8R6Y",
        "outputId": "a049c60e-8f10-4b43-b6f0-e5330c763a7b"
      },
      "execution_count": 32,
      "outputs": [
        {
          "output_type": "execute_result",
          "data": {
            "text/plain": [
              "[57, 78, 71, 147, 103]"
            ]
          },
          "metadata": {},
          "execution_count": 32
        }
      ]
    }
  ]
}