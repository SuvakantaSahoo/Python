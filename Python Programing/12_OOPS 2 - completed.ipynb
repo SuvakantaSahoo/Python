{
 "cells": [
  {
   "cell_type": "markdown",
   "id": "a83d6901",
   "metadata": {},
   "source": [
    "## Pillars of Object Oriented Programming Language\n",
    "\n",
    "1.Inheritance\n",
    "\n",
    "2.Polymorphism\n",
    "\n",
    "3.Abstraction\n",
    "\n",
    "4.Encapsulation"
   ]
  },
  {
   "cell_type": "markdown",
   "id": "2a59361a",
   "metadata": {},
   "source": [
    "### Inheritance\n",
    "\n",
    "Inheritance is the capability of one class to derive or inherit the properties from another class. The benefits of inheritance are:\n",
    "\n",
    "- It represents real-world relationships well.\n",
    "\n",
    "- It provides reusability of a code. We don’t have to write the same code again and again. Also, it allows us to add more features to a class without modifying it.\n",
    "\n",
    "\n",
    "Python allows below mentioned Inheritance concepts:\n",
    "\n",
    "1.Single Inheritance\n",
    "\n",
    "2.Multilevel Inheritance\n",
    "\n",
    "3.Multiple Inheritance (i.e. one child inheriting from multiple parents)\n",
    "\n",
    "4.Hierarchical Inheritance (i.e. two childs inheriting from single parent)\n",
    "\n",
    "5.Hybrid Inheritance (Combination of all above - Method Resolution Order i.e. MRO)\n",
    "\n",
    "MRO (C3 algo) - In hybrid inheritance, always the methods are resolved Depth first and Left to Right.\n",
    "\n",
    "You can use super() to access the constructor and methods of parent class.\n",
    "\n"
   ]
  },
  {
   "cell_type": "markdown",
   "id": "6df928ac",
   "metadata": {},
   "source": [
    "##### Sinlge Inheritance"
   ]
  },
  {
   "cell_type": "code",
   "execution_count": 1,
   "id": "3b889c80",
   "metadata": {},
   "outputs": [],
   "source": [
    "# Without Inheritance\n",
    "\n",
    "class A:\n",
    "    def m1(self):\n",
    "        pass\n",
    "    def m2(self):\n",
    "        pass\n",
    "    \n",
    "class B:\n",
    "    def m1(self):\n",
    "        pass\n",
    "    def m2(self):\n",
    "        pass\n",
    "    def m3(self):\n",
    "        pass\n",
    "    def m4(self):\n",
    "        pass"
   ]
  },
  {
   "cell_type": "code",
   "execution_count": 2,
   "id": "fa0db6a5",
   "metadata": {},
   "outputs": [],
   "source": [
    "# With Inheritance\n",
    "\n",
    "class A:\n",
    "    def m1(self):\n",
    "        print('Class-A : Method-1')\n",
    "    def m2(self):\n",
    "        print('Class-A : Method-2')\n",
    "    \n",
    "class B(A):\n",
    "    def m3(self):\n",
    "        print('Class-B : Method-3')\n",
    "    def m4(self):\n",
    "        print('Class-B : Method-4')"
   ]
  },
  {
   "cell_type": "code",
   "execution_count": 3,
   "id": "e45faa42",
   "metadata": {},
   "outputs": [
    {
     "name": "stdout",
     "output_type": "stream",
     "text": [
      "Class-A : Method-1\n"
     ]
    }
   ],
   "source": [
    "a = A()\n",
    "b = B()\n",
    "\n",
    "a.m1()\n"
   ]
  },
  {
   "cell_type": "code",
   "execution_count": 4,
   "id": "d9e38515",
   "metadata": {},
   "outputs": [
    {
     "name": "stdout",
     "output_type": "stream",
     "text": [
      "Class-A : Method-1\n"
     ]
    }
   ],
   "source": [
    "b.m1()\n"
   ]
  },
  {
   "cell_type": "code",
   "execution_count": 6,
   "id": "d4d45af4",
   "metadata": {},
   "outputs": [
    {
     "name": "stdout",
     "output_type": "stream",
     "text": [
      "Class-A : Method-2\n"
     ]
    }
   ],
   "source": [
    "b.m2()\n"
   ]
  },
  {
   "cell_type": "code",
   "execution_count": 8,
   "id": "3d58dd8d",
   "metadata": {},
   "outputs": [
    {
     "name": "stdout",
     "output_type": "stream",
     "text": [
      "Class-B : Method-3\n"
     ]
    }
   ],
   "source": [
    "b.m3()"
   ]
  },
  {
   "cell_type": "code",
   "execution_count": 9,
   "id": "ab3577e6",
   "metadata": {},
   "outputs": [
    {
     "name": "stdout",
     "output_type": "stream",
     "text": [
      "Class-B : Method-4\n"
     ]
    }
   ],
   "source": [
    "b.m4()"
   ]
  },
  {
   "cell_type": "code",
   "execution_count": 10,
   "id": "8fe4130e",
   "metadata": {},
   "outputs": [
    {
     "ename": "AttributeError",
     "evalue": "'A' object has no attribute 'm3'",
     "output_type": "error",
     "traceback": [
      "\u001b[1;31m---------------------------------------------------------------------------\u001b[0m",
      "\u001b[1;31mAttributeError\u001b[0m                            Traceback (most recent call last)",
      "\u001b[1;32mC:\\Users\\SWETHA~1\\AppData\\Local\\Temp/ipykernel_8016/4151267612.py\u001b[0m in \u001b[0;36m<module>\u001b[1;34m\u001b[0m\n\u001b[1;32m----> 1\u001b[1;33m \u001b[0ma\u001b[0m\u001b[1;33m.\u001b[0m\u001b[0mm3\u001b[0m\u001b[1;33m(\u001b[0m\u001b[1;33m)\u001b[0m\u001b[1;33m\u001b[0m\u001b[1;33m\u001b[0m\u001b[0m\n\u001b[0m",
      "\u001b[1;31mAttributeError\u001b[0m: 'A' object has no attribute 'm3'"
     ]
    }
   ],
   "source": [
    "a.m3()"
   ]
  },
  {
   "cell_type": "markdown",
   "id": "bc188eac",
   "metadata": {},
   "source": [
    "#### Multilevel Inheritance"
   ]
  },
  {
   "cell_type": "code",
   "execution_count": 11,
   "id": "93ddd86b",
   "metadata": {},
   "outputs": [],
   "source": [
    "# Without Inheritance\n",
    "\n",
    "class A:\n",
    "    def m1(self):\n",
    "        pass\n",
    "    def m2(self):\n",
    "        pass\n",
    "    \n",
    "class B:\n",
    "    def m1(self):\n",
    "        pass\n",
    "    def m2(self):\n",
    "        pass\n",
    "    def m3(self):\n",
    "        pass\n",
    "    def m4(self):\n",
    "        pass\n",
    "\n",
    "class C:\n",
    "    def m1(self):\n",
    "        pass\n",
    "    def m2(self):\n",
    "        pass\n",
    "    def m3(self):\n",
    "        pass\n",
    "    def m4(self):\n",
    "        pass\n",
    "    def m5(self):\n",
    "        pass\n",
    "    def m6(self):\n",
    "        pass\n"
   ]
  },
  {
   "cell_type": "code",
   "execution_count": 12,
   "id": "05bdfec6",
   "metadata": {},
   "outputs": [],
   "source": [
    "# With Inheritance\n",
    "\n",
    "class A:\n",
    "    def m1(self):\n",
    "        print('Class-A : Method-1')\n",
    "    def m2(self):\n",
    "        print('Class-A : Method-2')\n",
    "    \n",
    "class B(A):\n",
    "    def m3(self):\n",
    "        print('Class-B : Method-3')\n",
    "    def m4(self):\n",
    "        print('Class-B : Method-4')\n",
    "\n",
    "class C(B):\n",
    "    def m5(self):\n",
    "        print('Class-C : Method-5')\n",
    "    def m6(self):\n",
    "        print('Class-C : Method-6')"
   ]
  },
  {
   "cell_type": "code",
   "execution_count": 13,
   "id": "efe1c0f6",
   "metadata": {},
   "outputs": [],
   "source": [
    "a = A()\n",
    "b = B()\n",
    "c = C()"
   ]
  },
  {
   "cell_type": "code",
   "execution_count": 14,
   "id": "e806cf67",
   "metadata": {},
   "outputs": [
    {
     "name": "stdout",
     "output_type": "stream",
     "text": [
      "Class-A : Method-1\n"
     ]
    }
   ],
   "source": [
    "a.m1()\n"
   ]
  },
  {
   "cell_type": "code",
   "execution_count": 15,
   "id": "3140699d",
   "metadata": {},
   "outputs": [
    {
     "ename": "AttributeError",
     "evalue": "'A' object has no attribute 'm3'",
     "output_type": "error",
     "traceback": [
      "\u001b[1;31m---------------------------------------------------------------------------\u001b[0m",
      "\u001b[1;31mAttributeError\u001b[0m                            Traceback (most recent call last)",
      "\u001b[1;32mC:\\Users\\SWETHA~1\\AppData\\Local\\Temp/ipykernel_8016/2214831986.py\u001b[0m in \u001b[0;36m<module>\u001b[1;34m\u001b[0m\n\u001b[1;32m----> 1\u001b[1;33m \u001b[0ma\u001b[0m\u001b[1;33m.\u001b[0m\u001b[0mm3\u001b[0m\u001b[1;33m(\u001b[0m\u001b[1;33m)\u001b[0m\u001b[1;33m\u001b[0m\u001b[1;33m\u001b[0m\u001b[0m\n\u001b[0m",
      "\u001b[1;31mAttributeError\u001b[0m: 'A' object has no attribute 'm3'"
     ]
    }
   ],
   "source": [
    "a.m3()\n"
   ]
  },
  {
   "cell_type": "code",
   "execution_count": 16,
   "id": "c3c1f463",
   "metadata": {},
   "outputs": [
    {
     "name": "stdout",
     "output_type": "stream",
     "text": [
      "Class-A : Method-1\n"
     ]
    }
   ],
   "source": [
    "b.m1()\n"
   ]
  },
  {
   "cell_type": "code",
   "execution_count": 17,
   "id": "151f44df",
   "metadata": {},
   "outputs": [
    {
     "name": "stdout",
     "output_type": "stream",
     "text": [
      "Class-B : Method-4\n"
     ]
    }
   ],
   "source": [
    "b.m4()"
   ]
  },
  {
   "cell_type": "markdown",
   "id": "76083a31",
   "metadata": {},
   "source": [
    "#### Multiple Inheritance"
   ]
  },
  {
   "cell_type": "code",
   "execution_count": 18,
   "id": "c0e74a41",
   "metadata": {},
   "outputs": [],
   "source": [
    "class A:\n",
    "    def m1(self):\n",
    "        print('Class-A : Method-1')\n",
    "    def m2(self):\n",
    "        print('Class-A : Method-2')\n",
    "    \n",
    "class B:\n",
    "    def m3(self):\n",
    "        print('Class-B : Method-3')\n",
    "    def m4(self):\n",
    "        print('Class-B : Method-4')\n",
    "\n",
    "class C(A, B):\n",
    "    def m5(self):\n",
    "        print('Class-C : Method-5')\n",
    "    def m6(self):\n",
    "        print('Class-C : Method-6')\n"
   ]
  },
  {
   "cell_type": "code",
   "execution_count": 20,
   "id": "85560bc1",
   "metadata": {},
   "outputs": [],
   "source": [
    "a = A()\n",
    "b = B()\n",
    "c = C()\n",
    "\n"
   ]
  },
  {
   "cell_type": "code",
   "execution_count": 21,
   "id": "5584de3d",
   "metadata": {},
   "outputs": [
    {
     "name": "stdout",
     "output_type": "stream",
     "text": [
      "Class-A : Method-1\n"
     ]
    }
   ],
   "source": [
    "a.m1()\n"
   ]
  },
  {
   "cell_type": "code",
   "execution_count": 22,
   "id": "1e39d24c",
   "metadata": {},
   "outputs": [
    {
     "name": "stdout",
     "output_type": "stream",
     "text": [
      "Class-B : Method-3\n"
     ]
    }
   ],
   "source": [
    "b.m3()\n"
   ]
  },
  {
   "cell_type": "code",
   "execution_count": 23,
   "id": "ed2bf718",
   "metadata": {},
   "outputs": [
    {
     "name": "stdout",
     "output_type": "stream",
     "text": [
      "Class-C : Method-5\n"
     ]
    }
   ],
   "source": [
    "c.m5()\n"
   ]
  },
  {
   "cell_type": "code",
   "execution_count": 24,
   "id": "0f863de5",
   "metadata": {},
   "outputs": [
    {
     "name": "stdout",
     "output_type": "stream",
     "text": [
      "Class-A : Method-1\n"
     ]
    }
   ],
   "source": [
    "c.m1()\n"
   ]
  },
  {
   "cell_type": "code",
   "execution_count": 25,
   "id": "9f15bd84",
   "metadata": {},
   "outputs": [
    {
     "name": "stdout",
     "output_type": "stream",
     "text": [
      "Class-B : Method-3\n"
     ]
    }
   ],
   "source": [
    "c.m3()"
   ]
  },
  {
   "cell_type": "markdown",
   "id": "338e8cc6",
   "metadata": {},
   "source": [
    "#### Hierarchical Inheritance"
   ]
  },
  {
   "cell_type": "code",
   "execution_count": 26,
   "id": "cc2da02c",
   "metadata": {},
   "outputs": [],
   "source": [
    "class A:\n",
    "    def m1(self):\n",
    "        print('Class-A : Method-1')\n",
    "    def m2(self):\n",
    "        print('Class-A : Method-2')\n",
    "    \n",
    "class B(A):\n",
    "    def m3(self):\n",
    "        print('Class-B : Method-3')\n",
    "    def m4(self):\n",
    "        print('Class-B : Method-4')\n",
    "\n",
    "class C(A):\n",
    "    def m5(self):\n",
    "        print('Class-C : Method-5')\n",
    "    def m6(self):\n",
    "        print('Class-C : Method-6')"
   ]
  },
  {
   "cell_type": "code",
   "execution_count": 27,
   "id": "d59baa05",
   "metadata": {},
   "outputs": [],
   "source": [
    "a = A()\n",
    "b = B()\n",
    "c = C()\n",
    "\n"
   ]
  },
  {
   "cell_type": "code",
   "execution_count": 28,
   "id": "92a59cb4",
   "metadata": {},
   "outputs": [
    {
     "name": "stdout",
     "output_type": "stream",
     "text": [
      "Class-A : Method-1\n"
     ]
    }
   ],
   "source": [
    "a.m1()\n"
   ]
  },
  {
   "cell_type": "code",
   "execution_count": 29,
   "id": "94108e83",
   "metadata": {},
   "outputs": [
    {
     "name": "stdout",
     "output_type": "stream",
     "text": [
      "Class-A : Method-2\n"
     ]
    }
   ],
   "source": [
    "b.m2()\n"
   ]
  },
  {
   "cell_type": "code",
   "execution_count": 30,
   "id": "d9faa887",
   "metadata": {},
   "outputs": [
    {
     "name": "stdout",
     "output_type": "stream",
     "text": [
      "Class-B : Method-3\n"
     ]
    }
   ],
   "source": [
    "b.m3()\n"
   ]
  },
  {
   "cell_type": "code",
   "execution_count": 31,
   "id": "0c03b424",
   "metadata": {},
   "outputs": [
    {
     "name": "stdout",
     "output_type": "stream",
     "text": [
      "Class-C : Method-5\n"
     ]
    }
   ],
   "source": [
    "c.m5()\n"
   ]
  },
  {
   "cell_type": "code",
   "execution_count": 32,
   "id": "a0278d21",
   "metadata": {},
   "outputs": [
    {
     "name": "stdout",
     "output_type": "stream",
     "text": [
      "Class-A : Method-1\n"
     ]
    }
   ],
   "source": [
    "c.m1()\n"
   ]
  },
  {
   "cell_type": "code",
   "execution_count": 33,
   "id": "b4651bc8",
   "metadata": {},
   "outputs": [
    {
     "name": "stdout",
     "output_type": "stream",
     "text": [
      "Class-A : Method-2\n"
     ]
    }
   ],
   "source": [
    "c.m2()"
   ]
  },
  {
   "cell_type": "code",
   "execution_count": 34,
   "id": "eecbda1b",
   "metadata": {},
   "outputs": [
    {
     "ename": "AttributeError",
     "evalue": "'A' object has no attribute 'm5'",
     "output_type": "error",
     "traceback": [
      "\u001b[1;31m---------------------------------------------------------------------------\u001b[0m",
      "\u001b[1;31mAttributeError\u001b[0m                            Traceback (most recent call last)",
      "\u001b[1;32mC:\\Users\\SWETHA~1\\AppData\\Local\\Temp/ipykernel_8016/406389099.py\u001b[0m in \u001b[0;36m<module>\u001b[1;34m\u001b[0m\n\u001b[1;32m----> 1\u001b[1;33m \u001b[0ma\u001b[0m\u001b[1;33m.\u001b[0m\u001b[0mm5\u001b[0m\u001b[1;33m(\u001b[0m\u001b[1;33m)\u001b[0m\u001b[1;33m\u001b[0m\u001b[1;33m\u001b[0m\u001b[0m\n\u001b[0m",
      "\u001b[1;31mAttributeError\u001b[0m: 'A' object has no attribute 'm5'"
     ]
    }
   ],
   "source": [
    "a.m5()"
   ]
  },
  {
   "cell_type": "code",
   "execution_count": 35,
   "id": "2e67fa6f",
   "metadata": {},
   "outputs": [
    {
     "ename": "AttributeError",
     "evalue": "'C' object has no attribute 'm3'",
     "output_type": "error",
     "traceback": [
      "\u001b[1;31m---------------------------------------------------------------------------\u001b[0m",
      "\u001b[1;31mAttributeError\u001b[0m                            Traceback (most recent call last)",
      "\u001b[1;32mC:\\Users\\SWETHA~1\\AppData\\Local\\Temp/ipykernel_8016/3228424921.py\u001b[0m in \u001b[0;36m<module>\u001b[1;34m\u001b[0m\n\u001b[1;32m----> 1\u001b[1;33m \u001b[0mc\u001b[0m\u001b[1;33m.\u001b[0m\u001b[0mm3\u001b[0m\u001b[1;33m(\u001b[0m\u001b[1;33m)\u001b[0m\u001b[1;33m\u001b[0m\u001b[1;33m\u001b[0m\u001b[0m\n\u001b[0m",
      "\u001b[1;31mAttributeError\u001b[0m: 'C' object has no attribute 'm3'"
     ]
    }
   ],
   "source": [
    "c.m3()"
   ]
  },
  {
   "cell_type": "markdown",
   "id": "38e30dc0",
   "metadata": {},
   "source": [
    "#### Hybrid Inheritance"
   ]
  },
  {
   "cell_type": "code",
   "execution_count": 36,
   "id": "a20eb9b6",
   "metadata": {},
   "outputs": [],
   "source": [
    "class A:\n",
    "    pass\n",
    "\n",
    "class B(A):\n",
    "    pass\n",
    "\n",
    "class C(A):\n",
    "    pass\n",
    "\n",
    "class D(B, C):\n",
    "    pass\n",
    "\n",
    "# B & C are inheriting from A - Hierarchial\n",
    "# D is inheriting from B and C - Multiple"
   ]
  },
  {
   "cell_type": "code",
   "execution_count": 37,
   "id": "45165455",
   "metadata": {},
   "outputs": [
    {
     "name": "stdout",
     "output_type": "stream",
     "text": [
      "[<class '__main__.A'>, <class 'object'>]\n"
     ]
    }
   ],
   "source": [
    "print(A.mro())"
   ]
  },
  {
   "cell_type": "code",
   "execution_count": 38,
   "id": "496986ff",
   "metadata": {},
   "outputs": [
    {
     "name": "stdout",
     "output_type": "stream",
     "text": [
      "[<class '__main__.B'>, <class '__main__.A'>, <class 'object'>]\n"
     ]
    }
   ],
   "source": [
    "print(B.mro())"
   ]
  },
  {
   "cell_type": "code",
   "execution_count": 40,
   "id": "faaf9a6c",
   "metadata": {},
   "outputs": [
    {
     "name": "stdout",
     "output_type": "stream",
     "text": [
      "[<class '__main__.C'>, <class '__main__.A'>, <class 'object'>]\n"
     ]
    }
   ],
   "source": [
    "print(C.mro())"
   ]
  },
  {
   "cell_type": "code",
   "execution_count": 41,
   "id": "de9ae26c",
   "metadata": {},
   "outputs": [
    {
     "name": "stdout",
     "output_type": "stream",
     "text": [
      "[<class '__main__.D'>, <class '__main__.B'>, <class '__main__.C'>, <class '__main__.A'>, <class 'object'>]\n"
     ]
    }
   ],
   "source": [
    "print(D.mro())"
   ]
  },
  {
   "cell_type": "markdown",
   "id": "d22d39da",
   "metadata": {},
   "source": [
    "###### super()\n",
    "\n",
    "It is used to access the  constructor and methods of parent class inside the child class."
   ]
  },
  {
   "cell_type": "code",
   "execution_count": 42,
   "id": "ca314a34",
   "metadata": {},
   "outputs": [],
   "source": [
    "class A:\n",
    "    def m1(self):\n",
    "        print('Class-A - Method-1')\n",
    "    def m2(self):\n",
    "        print('Class-A - Method-2')\n",
    "        \n",
    "class B(A):\n",
    "    def m3(self):\n",
    "        super().m1()\n",
    "        print('Class-B - Method-3')\n",
    "    def m4(self):\n",
    "        super().m2()\n",
    "        print('Class-B - Method-4')\n"
   ]
  },
  {
   "cell_type": "code",
   "execution_count": 43,
   "id": "c7f98c71",
   "metadata": {},
   "outputs": [
    {
     "name": "stdout",
     "output_type": "stream",
     "text": [
      "Class-A - Method-1\n"
     ]
    }
   ],
   "source": [
    "a = A()\n",
    "\n",
    "a.m1()"
   ]
  },
  {
   "cell_type": "code",
   "execution_count": 45,
   "id": "f4f26793",
   "metadata": {},
   "outputs": [
    {
     "name": "stdout",
     "output_type": "stream",
     "text": [
      "Class-A - Method-2\n"
     ]
    }
   ],
   "source": [
    "a.m2()"
   ]
  },
  {
   "cell_type": "code",
   "execution_count": 46,
   "id": "5989c225",
   "metadata": {},
   "outputs": [
    {
     "ename": "AttributeError",
     "evalue": "'A' object has no attribute 'm3'",
     "output_type": "error",
     "traceback": [
      "\u001b[1;31m---------------------------------------------------------------------------\u001b[0m",
      "\u001b[1;31mAttributeError\u001b[0m                            Traceback (most recent call last)",
      "\u001b[1;32mC:\\Users\\SWETHA~1\\AppData\\Local\\Temp/ipykernel_8016/4151267612.py\u001b[0m in \u001b[0;36m<module>\u001b[1;34m\u001b[0m\n\u001b[1;32m----> 1\u001b[1;33m \u001b[0ma\u001b[0m\u001b[1;33m.\u001b[0m\u001b[0mm3\u001b[0m\u001b[1;33m(\u001b[0m\u001b[1;33m)\u001b[0m\u001b[1;33m\u001b[0m\u001b[1;33m\u001b[0m\u001b[0m\n\u001b[0m",
      "\u001b[1;31mAttributeError\u001b[0m: 'A' object has no attribute 'm3'"
     ]
    }
   ],
   "source": [
    "a.m3()"
   ]
  },
  {
   "cell_type": "code",
   "execution_count": 47,
   "id": "ed9bfc06",
   "metadata": {},
   "outputs": [],
   "source": [
    "b = B()"
   ]
  },
  {
   "cell_type": "code",
   "execution_count": 48,
   "id": "59b6803e",
   "metadata": {},
   "outputs": [
    {
     "name": "stdout",
     "output_type": "stream",
     "text": [
      "Class-A - Method-1\n",
      "Class-B - Method-3\n"
     ]
    }
   ],
   "source": [
    "b.m3()"
   ]
  },
  {
   "cell_type": "code",
   "execution_count": 49,
   "id": "f61a5c0a",
   "metadata": {},
   "outputs": [
    {
     "name": "stdout",
     "output_type": "stream",
     "text": [
      "Class-A - Method-2\n",
      "Class-B - Method-4\n"
     ]
    }
   ],
   "source": [
    "b.m4()"
   ]
  },
  {
   "cell_type": "markdown",
   "id": "717ca0ca",
   "metadata": {},
   "source": [
    "### Polymorphism\n",
    "\n",
    "Polymorphism means many forms.\n",
    "\n",
    "1.Dynamically typed or Duck Typing\n",
    "\n",
    "2.Overloading\n",
    "\n",
    "- Operator Overloading\n",
    "\n",
    "- Method Overloading (Not supported)\n",
    "\n",
    "- Constructor Overloading (Not supported)\n",
    "\n",
    "3.Overriding\n",
    "\n",
    "- Method Overriding\n",
    "\n",
    "- Constructor Overriding\n"
   ]
  },
  {
   "cell_type": "markdown",
   "id": "601a555c",
   "metadata": {},
   "source": [
    "#### 1. Dynamically typed or duck typing\n",
    "\n",
    "A single variable can take multiple types/ multiple forms"
   ]
  },
  {
   "cell_type": "code",
   "execution_count": 52,
   "id": "ab7fc45a",
   "metadata": {},
   "outputs": [],
   "source": [
    "a = 100   # a is an integer variable"
   ]
  },
  {
   "cell_type": "code",
   "execution_count": 53,
   "id": "4683b869",
   "metadata": {},
   "outputs": [],
   "source": [
    "a = 'sfdafdaf'   # a is an string variable"
   ]
  },
  {
   "cell_type": "code",
   "execution_count": 54,
   "id": "3db41579",
   "metadata": {},
   "outputs": [],
   "source": [
    "a = 5 + 6j   "
   ]
  },
  {
   "cell_type": "markdown",
   "id": "adc467cc",
   "metadata": {},
   "source": [
    "#### 2. Overloading\n",
    "\n",
    "##### Operator Overloading"
   ]
  },
  {
   "cell_type": "code",
   "execution_count": 55,
   "id": "aaa60f99",
   "metadata": {},
   "outputs": [
    {
     "ename": "TypeError",
     "evalue": "unsupported operand type(s) for +: 'A' and 'A'",
     "output_type": "error",
     "traceback": [
      "\u001b[1;31m---------------------------------------------------------------------------\u001b[0m",
      "\u001b[1;31mTypeError\u001b[0m                                 Traceback (most recent call last)",
      "\u001b[1;32mC:\\Users\\SWETHA~1\\AppData\\Local\\Temp/ipykernel_8016/36995710.py\u001b[0m in \u001b[0;36m<module>\u001b[1;34m\u001b[0m\n\u001b[0;32m      6\u001b[0m \u001b[0ma2\u001b[0m \u001b[1;33m=\u001b[0m \u001b[0mA\u001b[0m\u001b[1;33m(\u001b[0m\u001b[1;36m20\u001b[0m\u001b[1;33m)\u001b[0m\u001b[1;33m\u001b[0m\u001b[1;33m\u001b[0m\u001b[0m\n\u001b[0;32m      7\u001b[0m \u001b[1;33m\u001b[0m\u001b[0m\n\u001b[1;32m----> 8\u001b[1;33m \u001b[0mprint\u001b[0m\u001b[1;33m(\u001b[0m\u001b[0ma1\u001b[0m\u001b[1;33m+\u001b[0m\u001b[0ma2\u001b[0m\u001b[1;33m)\u001b[0m\u001b[1;33m\u001b[0m\u001b[1;33m\u001b[0m\u001b[0m\n\u001b[0m",
      "\u001b[1;31mTypeError\u001b[0m: unsupported operand type(s) for +: 'A' and 'A'"
     ]
    }
   ],
   "source": [
    "class A:\n",
    "    def __init__(self, num):\n",
    "        self.num = num\n",
    "        \n",
    "a1 = A(10)\n",
    "a2 = A(20)\n",
    "\n",
    "print(a1+a2)"
   ]
  },
  {
   "cell_type": "code",
   "execution_count": 56,
   "id": "b57dba4a",
   "metadata": {},
   "outputs": [
    {
     "name": "stdout",
     "output_type": "stream",
     "text": [
      "30\n"
     ]
    }
   ],
   "source": [
    "class A:\n",
    "    def __init__(self, num):\n",
    "        self.num = num\n",
    "    \n",
    "    def __add__(self, other):\n",
    "        return self.num + other.num\n",
    "        \n",
    "a1 = A(10)\n",
    "a2 = A(20)\n",
    "\n",
    "print(a1+a2)"
   ]
  },
  {
   "cell_type": "markdown",
   "id": "6e3d5276",
   "metadata": {},
   "source": [
    "#### Method Overloading(not supported)"
   ]
  },
  {
   "cell_type": "code",
   "execution_count": 58,
   "id": "5601b92e",
   "metadata": {},
   "outputs": [],
   "source": [
    "class A:\n",
    "    def m(self):\n",
    "        print('no-arg method')\n",
    "    \n",
    "    def m(self, a):\n",
    "        print('one arg method')\n",
    "    \n",
    "    def m(self, a, b):\n",
    "        print('two arg method')\n",
    "        \n",
    "a = A()"
   ]
  },
  {
   "cell_type": "code",
   "execution_count": 59,
   "id": "bff77f5b",
   "metadata": {},
   "outputs": [
    {
     "ename": "TypeError",
     "evalue": "m() missing 2 required positional arguments: 'a' and 'b'",
     "output_type": "error",
     "traceback": [
      "\u001b[1;31m---------------------------------------------------------------------------\u001b[0m",
      "\u001b[1;31mTypeError\u001b[0m                                 Traceback (most recent call last)",
      "\u001b[1;32mC:\\Users\\SWETHA~1\\AppData\\Local\\Temp/ipykernel_8016/2275246456.py\u001b[0m in \u001b[0;36m<module>\u001b[1;34m\u001b[0m\n\u001b[1;32m----> 1\u001b[1;33m \u001b[0ma\u001b[0m\u001b[1;33m.\u001b[0m\u001b[0mm\u001b[0m\u001b[1;33m(\u001b[0m\u001b[1;33m)\u001b[0m\u001b[1;33m\u001b[0m\u001b[1;33m\u001b[0m\u001b[0m\n\u001b[0m",
      "\u001b[1;31mTypeError\u001b[0m: m() missing 2 required positional arguments: 'a' and 'b'"
     ]
    }
   ],
   "source": [
    "a.m()"
   ]
  },
  {
   "cell_type": "code",
   "execution_count": 60,
   "id": "324c8f96",
   "metadata": {},
   "outputs": [
    {
     "ename": "TypeError",
     "evalue": "m() missing 1 required positional argument: 'b'",
     "output_type": "error",
     "traceback": [
      "\u001b[1;31m---------------------------------------------------------------------------\u001b[0m",
      "\u001b[1;31mTypeError\u001b[0m                                 Traceback (most recent call last)",
      "\u001b[1;32mC:\\Users\\SWETHA~1\\AppData\\Local\\Temp/ipykernel_8016/3588554113.py\u001b[0m in \u001b[0;36m<module>\u001b[1;34m\u001b[0m\n\u001b[1;32m----> 1\u001b[1;33m \u001b[0ma\u001b[0m\u001b[1;33m.\u001b[0m\u001b[0mm\u001b[0m\u001b[1;33m(\u001b[0m\u001b[1;36m10\u001b[0m\u001b[1;33m)\u001b[0m\u001b[1;33m\u001b[0m\u001b[1;33m\u001b[0m\u001b[0m\n\u001b[0m",
      "\u001b[1;31mTypeError\u001b[0m: m() missing 1 required positional argument: 'b'"
     ]
    }
   ],
   "source": [
    "a.m(10)"
   ]
  },
  {
   "cell_type": "code",
   "execution_count": 61,
   "id": "2527b360",
   "metadata": {},
   "outputs": [
    {
     "name": "stdout",
     "output_type": "stream",
     "text": [
      "two arg method\n"
     ]
    }
   ],
   "source": [
    "a.m(10, 20)"
   ]
  },
  {
   "cell_type": "markdown",
   "id": "943fe050",
   "metadata": {},
   "source": [
    "#### Constructor Overloading(not supported)"
   ]
  },
  {
   "cell_type": "code",
   "execution_count": 62,
   "id": "b4c8a532",
   "metadata": {},
   "outputs": [
    {
     "name": "stdout",
     "output_type": "stream",
     "text": [
      "constructor with no parameter\n"
     ]
    },
    {
     "ename": "TypeError",
     "evalue": "__init__() takes 1 positional argument but 3 were given",
     "output_type": "error",
     "traceback": [
      "\u001b[1;31m---------------------------------------------------------------------------\u001b[0m",
      "\u001b[1;31mTypeError\u001b[0m                                 Traceback (most recent call last)",
      "\u001b[1;32mC:\\Users\\SWETHA~1\\AppData\\Local\\Temp/ipykernel_8016/3771737295.py\u001b[0m in \u001b[0;36m<module>\u001b[1;34m\u001b[0m\n\u001b[0;32m      9\u001b[0m \u001b[0mm1\u001b[0m \u001b[1;33m=\u001b[0m \u001b[0mMyClass\u001b[0m\u001b[1;33m(\u001b[0m\u001b[1;33m)\u001b[0m\u001b[1;33m\u001b[0m\u001b[1;33m\u001b[0m\u001b[0m\n\u001b[0;32m     10\u001b[0m \u001b[1;33m\u001b[0m\u001b[0m\n\u001b[1;32m---> 11\u001b[1;33m \u001b[0mm2\u001b[0m \u001b[1;33m=\u001b[0m \u001b[0mMyClass\u001b[0m\u001b[1;33m(\u001b[0m\u001b[1;36m1\u001b[0m\u001b[1;33m,\u001b[0m \u001b[1;36m2\u001b[0m\u001b[1;33m)\u001b[0m\u001b[1;33m\u001b[0m\u001b[1;33m\u001b[0m\u001b[0m\n\u001b[0m",
      "\u001b[1;31mTypeError\u001b[0m: __init__() takes 1 positional argument but 3 were given"
     ]
    }
   ],
   "source": [
    "class MyClass:\n",
    "\n",
    "    def __init__(self, a, b):\n",
    "        print('parameterized')\n",
    "        \n",
    "    def __init__(self):\n",
    "        print('constructor with no parameter')\n",
    "        \n",
    "m1 = MyClass()\n",
    "\n",
    "m2 = MyClass(1, 2)"
   ]
  },
  {
   "cell_type": "code",
   "execution_count": 63,
   "id": "7e8a8299",
   "metadata": {},
   "outputs": [
    {
     "ename": "TypeError",
     "evalue": "__init__() missing 2 required positional arguments: 'a' and 'b'",
     "output_type": "error",
     "traceback": [
      "\u001b[1;31m---------------------------------------------------------------------------\u001b[0m",
      "\u001b[1;31mTypeError\u001b[0m                                 Traceback (most recent call last)",
      "\u001b[1;32mC:\\Users\\SWETHA~1\\AppData\\Local\\Temp/ipykernel_8016/3784641958.py\u001b[0m in \u001b[0;36m<module>\u001b[1;34m\u001b[0m\n\u001b[0;32m     15\u001b[0m         \u001b[0mprint\u001b[0m\u001b[1;33m(\u001b[0m\u001b[1;34m'Function is executed'\u001b[0m\u001b[1;33m)\u001b[0m\u001b[1;33m\u001b[0m\u001b[1;33m\u001b[0m\u001b[0m\n\u001b[0;32m     16\u001b[0m \u001b[1;33m\u001b[0m\u001b[0m\n\u001b[1;32m---> 17\u001b[1;33m \u001b[0mt1\u001b[0m \u001b[1;33m=\u001b[0m \u001b[0mTest\u001b[0m\u001b[1;33m(\u001b[0m\u001b[1;33m)\u001b[0m\u001b[1;33m\u001b[0m\u001b[1;33m\u001b[0m\u001b[0m\n\u001b[0m\u001b[0;32m     18\u001b[0m \u001b[0mt1\u001b[0m\u001b[1;33m.\u001b[0m\u001b[0mfun\u001b[0m\u001b[1;33m(\u001b[0m\u001b[1;33m)\u001b[0m\u001b[1;33m\u001b[0m\u001b[1;33m\u001b[0m\u001b[0m\n\u001b[0;32m     19\u001b[0m \u001b[1;33m\u001b[0m\u001b[0m\n",
      "\u001b[1;31mTypeError\u001b[0m: __init__() missing 2 required positional arguments: 'a' and 'b'"
     ]
    }
   ],
   "source": [
    "class Test:\n",
    "    def __init__(self):\n",
    "        print('Constructor-1 is executed')\n",
    "        \n",
    "    def __init__(self):\n",
    "        print('Constructor-2 is executed')\n",
    "        \n",
    "    def __init__(self, a):\n",
    "        print('Constructor-3 is executed')\n",
    "        \n",
    "    def __init__(self, a, b):\n",
    "        print('Constructor-4 is executed')\n",
    "        \n",
    "    def fun(self):\n",
    "        print('Function is executed')\n",
    "        \n",
    "t1 = Test()\n",
    "t1.fun()\n",
    "\n"
   ]
  },
  {
   "cell_type": "code",
   "execution_count": 64,
   "id": "e9cf2879",
   "metadata": {},
   "outputs": [
    {
     "name": "stdout",
     "output_type": "stream",
     "text": [
      "Constructor-4 is executed\n",
      "Function is executed\n"
     ]
    }
   ],
   "source": [
    "t2 = Test(5, 12)\n",
    "t2.fun()"
   ]
  },
  {
   "cell_type": "markdown",
   "id": "8104383a",
   "metadata": {},
   "source": [
    "### Overriding\n",
    "\n",
    "#### Method Overriding"
   ]
  },
  {
   "cell_type": "code",
   "execution_count": 65,
   "id": "d88f3e55",
   "metadata": {},
   "outputs": [],
   "source": [
    "class A:\n",
    "    def m1(self):\n",
    "        print('Class-A : Method-1')\n",
    "    def m2(self):\n",
    "        print('Class-A : Method-2')\n",
    "    \n",
    "class B(A):\n",
    "    def m1(self):\n",
    "        super().m1()\n",
    "        print('Class-B : Method-1')\n",
    "        "
   ]
  },
  {
   "cell_type": "code",
   "execution_count": 66,
   "id": "59e8e0b4",
   "metadata": {},
   "outputs": [
    {
     "name": "stdout",
     "output_type": "stream",
     "text": [
      "Class-A : Method-1\n",
      "Class-B : Method-1\n"
     ]
    }
   ],
   "source": [
    "b = B()\n",
    "\n",
    "b.m1()"
   ]
  },
  {
   "cell_type": "markdown",
   "id": "3db8fa10",
   "metadata": {},
   "source": [
    "#### Constructor Overriding"
   ]
  },
  {
   "cell_type": "code",
   "execution_count": 67,
   "id": "52ddae03",
   "metadata": {},
   "outputs": [
    {
     "name": "stdout",
     "output_type": "stream",
     "text": [
      "Parent Constructor\n",
      "Child Constructor\n"
     ]
    }
   ],
   "source": [
    "class A:\n",
    "    def __init__(self):\n",
    "        print('Parent Constructor')\n",
    "        \n",
    "class B(A):\n",
    "    def __init__(self):\n",
    "        super().__init__()\n",
    "        print('Child Constructor')\n",
    "        \n",
    "b = B()"
   ]
  },
  {
   "cell_type": "markdown",
   "id": "888ebc7d",
   "metadata": {},
   "source": [
    "### Abstraction"
   ]
  },
  {
   "cell_type": "code",
   "execution_count": 68,
   "id": "a9a7f8f6",
   "metadata": {},
   "outputs": [
    {
     "data": {
      "text/plain": [
       "'\\nProcess of highlighting the set of services & hiding the implementation\\nis called ABSTRACTION.\\n'"
      ]
     },
     "execution_count": 68,
     "metadata": {},
     "output_type": "execute_result"
    }
   ],
   "source": [
    "# Abstraction means HIDING.\n",
    "'''\n",
    "Process of highlighting the set of services & hiding the implementation\n",
    "is called ABSTRACTION.\n",
    "'''"
   ]
  },
  {
   "cell_type": "markdown",
   "id": "3db71aa3",
   "metadata": {},
   "source": [
    "### Encapsulation"
   ]
  },
  {
   "cell_type": "markdown",
   "id": "fe9d0147",
   "metadata": {},
   "source": [
    "#### Private Methods"
   ]
  },
  {
   "cell_type": "code",
   "execution_count": 69,
   "id": "d96f8e40",
   "metadata": {},
   "outputs": [
    {
     "name": "stdout",
     "output_type": "stream",
     "text": [
      "Updating Software....\n",
      "Driving\n"
     ]
    }
   ],
   "source": [
    "class Car:\n",
    "    def __init__(self):\n",
    "        self.__updateSoftware()\n",
    "        \n",
    "    def drive(self):\n",
    "        print('Driving')\n",
    "        \n",
    "    def __updateSoftware(self):\n",
    "        print('Updating Software....')\n",
    "        \n",
    "myCar = Car()\n",
    "\n",
    "myCar.drive()\n",
    "\n"
   ]
  },
  {
   "cell_type": "code",
   "execution_count": 70,
   "id": "2953ac8e",
   "metadata": {},
   "outputs": [
    {
     "ename": "NameError",
     "evalue": "name 'mycar' is not defined",
     "output_type": "error",
     "traceback": [
      "\u001b[1;31m---------------------------------------------------------------------------\u001b[0m",
      "\u001b[1;31mNameError\u001b[0m                                 Traceback (most recent call last)",
      "\u001b[1;32mC:\\Users\\SWETHA~1\\AppData\\Local\\Temp/ipykernel_8016/2796093171.py\u001b[0m in \u001b[0;36m<module>\u001b[1;34m\u001b[0m\n\u001b[1;32m----> 1\u001b[1;33m \u001b[0mmycar\u001b[0m\u001b[1;33m.\u001b[0m\u001b[0m__updateSoftware\u001b[0m\u001b[1;33m(\u001b[0m\u001b[1;33m)\u001b[0m\u001b[1;33m\u001b[0m\u001b[1;33m\u001b[0m\u001b[0m\n\u001b[0m",
      "\u001b[1;31mNameError\u001b[0m: name 'mycar' is not defined"
     ]
    }
   ],
   "source": [
    "mycar.__updateSoftware()"
   ]
  },
  {
   "cell_type": "markdown",
   "id": "d1ade607",
   "metadata": {},
   "source": [
    "### Private Variables"
   ]
  },
  {
   "cell_type": "code",
   "execution_count": 71,
   "id": "405ed5a7",
   "metadata": {},
   "outputs": [
    {
     "name": "stdout",
     "output_type": "stream",
     "text": [
      "Driving....maxSpeed is 200\n"
     ]
    }
   ],
   "source": [
    "class Car:\n",
    "    __maxSpeed = 0\n",
    "    __name = ''\n",
    "    \n",
    "    def __init__(self):\n",
    "        self.__maxSpeed = 200\n",
    "        self.__name = 'Super Car'\n",
    "        \n",
    "    def drive(self):\n",
    "        print('Driving....maxSpeed is', self.__maxSpeed)\n",
    "        \n",
    "myCar = Car()\n",
    "myCar.drive()\n",
    "\n"
   ]
  },
  {
   "cell_type": "code",
   "execution_count": 72,
   "id": "29644b46",
   "metadata": {},
   "outputs": [
    {
     "ename": "AttributeError",
     "evalue": "'Car' object has no attribute '__maxSpeed'",
     "output_type": "error",
     "traceback": [
      "\u001b[1;31m---------------------------------------------------------------------------\u001b[0m",
      "\u001b[1;31mAttributeError\u001b[0m                            Traceback (most recent call last)",
      "\u001b[1;32mC:\\Users\\SWETHA~1\\AppData\\Local\\Temp/ipykernel_8016/3650294317.py\u001b[0m in \u001b[0;36m<module>\u001b[1;34m\u001b[0m\n\u001b[1;32m----> 1\u001b[1;33m \u001b[0mprint\u001b[0m\u001b[1;33m(\u001b[0m\u001b[0mmyCar\u001b[0m\u001b[1;33m.\u001b[0m\u001b[0m__maxSpeed\u001b[0m\u001b[1;33m)\u001b[0m\u001b[1;33m\u001b[0m\u001b[1;33m\u001b[0m\u001b[0m\n\u001b[0m",
      "\u001b[1;31mAttributeError\u001b[0m: 'Car' object has no attribute '__maxSpeed'"
     ]
    }
   ],
   "source": [
    "print(myCar.__maxSpeed)"
   ]
  },
  {
   "cell_type": "code",
   "execution_count": 73,
   "id": "c9cc753d",
   "metadata": {},
   "outputs": [
    {
     "name": "stdout",
     "output_type": "stream",
     "text": [
      "Driving....maxSpeed is 200\n"
     ]
    }
   ],
   "source": [
    "class Car:\n",
    "    __maxSpeed = 0\n",
    "    __name = ''\n",
    "    \n",
    "    def __init__(self):\n",
    "        self.__maxSpeed = 200\n",
    "        self.__name = 'Super Car'\n",
    "        \n",
    "    def drive(self):\n",
    "        print('Driving....maxSpeed is', self.__maxSpeed)\n",
    "        \n",
    "myCar = Car()\n",
    "myCar.drive()\n",
    "\n"
   ]
  },
  {
   "cell_type": "code",
   "execution_count": 75,
   "id": "a0d65e41",
   "metadata": {},
   "outputs": [
    {
     "name": "stdout",
     "output_type": "stream",
     "text": [
      "Driving....maxSpeed is 200\n"
     ]
    }
   ],
   "source": [
    "myCar.__name = \"My Car\"\n",
    "myCar.__maxSpeed = 10\n",
    "myCar.drive()"
   ]
  },
  {
   "cell_type": "code",
   "execution_count": null,
   "id": "af32b837",
   "metadata": {},
   "outputs": [],
   "source": []
  }
 ],
 "metadata": {
  "kernelspec": {
   "display_name": "Python 3 (ipykernel)",
   "language": "python",
   "name": "python3"
  },
  "language_info": {
   "codemirror_mode": {
    "name": "ipython",
    "version": 3
   },
   "file_extension": ".py",
   "mimetype": "text/x-python",
   "name": "python",
   "nbconvert_exporter": "python",
   "pygments_lexer": "ipython3",
   "version": "3.9.7"
  }
 },
 "nbformat": 4,
 "nbformat_minor": 5
}
