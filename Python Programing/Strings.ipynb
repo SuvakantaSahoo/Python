{
 "cells": [
  {
   "cell_type": "markdown",
   "id": "21e23883",
   "metadata": {},
   "source": [
    "# way to create strings"
   ]
  },
  {
   "cell_type": "code",
   "execution_count": 3,
   "id": "c4153e5f",
   "metadata": {},
   "outputs": [],
   "source": [
    "string1='Python is a programming language'\n",
    "string2=\"Python\"\n",
    "string3='''Python is a \n",
    "programming language'''"
   ]
  },
  {
   "cell_type": "code",
   "execution_count": 5,
   "id": "e15902ff",
   "metadata": {},
   "outputs": [
    {
     "data": {
      "text/plain": [
       "'Python Python Python Python Python '"
      ]
     },
     "execution_count": 5,
     "metadata": {},
     "output_type": "execute_result"
    }
   ],
   "source": [
    "string4= 'Python '* 5\n",
    "string4"
   ]
  },
  {
   "cell_type": "code",
   "execution_count": 6,
   "id": "4200df2e",
   "metadata": {},
   "outputs": [
    {
     "name": "stdout",
     "output_type": "stream",
     "text": [
      "Python Python Python Python Python \n"
     ]
    }
   ],
   "source": [
    "string4= 'Python '* 5\n",
    "print(string4)"
   ]
  },
  {
   "cell_type": "markdown",
   "id": "1df2d089",
   "metadata": {},
   "source": [
    "# String Slicing/ String Indexing\n",
    "## Strings are immutable(not changeable)"
   ]
  },
  {
   "cell_type": "code",
   "execution_count": 8,
   "id": "f01f0c50",
   "metadata": {},
   "outputs": [
    {
     "data": {
      "text/plain": [
       "'n'"
      ]
     },
     "execution_count": 8,
     "metadata": {},
     "output_type": "execute_result"
    }
   ],
   "source": [
    "string='Python'\n",
    "string[5]"
   ]
  },
  {
   "cell_type": "code",
   "execution_count": 9,
   "id": "8fde2ba7",
   "metadata": {},
   "outputs": [
    {
     "data": {
      "text/plain": [
       "'n'"
      ]
     },
     "execution_count": 9,
     "metadata": {},
     "output_type": "execute_result"
    }
   ],
   "source": [
    "string='Python'\n",
    "string[-1]"
   ]
  },
  {
   "cell_type": "code",
   "execution_count": 13,
   "id": "02130cec",
   "metadata": {},
   "outputs": [
    {
     "data": {
      "text/plain": [
       "'Python'"
      ]
     },
     "execution_count": 13,
     "metadata": {},
     "output_type": "execute_result"
    }
   ],
   "source": [
    "string='Python Program'\n",
    "string[0:6]"
   ]
  },
  {
   "cell_type": "code",
   "execution_count": 15,
   "id": "a3e20d17",
   "metadata": {},
   "outputs": [
    {
     "data": {
      "text/plain": [
       "'Program'"
      ]
     },
     "execution_count": 15,
     "metadata": {},
     "output_type": "execute_result"
    }
   ],
   "source": [
    "string='Python Program'\n",
    "string[7:14]"
   ]
  },
  {
   "cell_type": "code",
   "execution_count": 17,
   "id": "2e58e0c3",
   "metadata": {},
   "outputs": [
    {
     "data": {
      "text/plain": [
       "'Program'"
      ]
     },
     "execution_count": 17,
     "metadata": {},
     "output_type": "execute_result"
    }
   ],
   "source": [
    "string='Python Program'\n",
    "new_string=string[7:14]\n",
    "new_string"
   ]
  },
  {
   "cell_type": "code",
   "execution_count": 18,
   "id": "d894867f",
   "metadata": {},
   "outputs": [
    {
     "data": {
      "text/plain": [
       "'Pto r'"
      ]
     },
     "execution_count": 18,
     "metadata": {},
     "output_type": "execute_result"
    }
   ],
   "source": [
    "string='Python Program'\n",
    "new_string=string[0:10:2]\n",
    "new_string"
   ]
  },
  {
   "cell_type": "code",
   "execution_count": 19,
   "id": "8c958a5d",
   "metadata": {},
   "outputs": [
    {
     "data": {
      "text/plain": [
       "'Python Program'"
      ]
     },
     "execution_count": 19,
     "metadata": {},
     "output_type": "execute_result"
    }
   ],
   "source": [
    "string='Python Program'\n",
    "new_string=string[:14]\n",
    "new_string"
   ]
  },
  {
   "cell_type": "code",
   "execution_count": 20,
   "id": "7b339254",
   "metadata": {},
   "outputs": [
    {
     "data": {
      "text/plain": [
       "'Python Program'"
      ]
     },
     "execution_count": 20,
     "metadata": {},
     "output_type": "execute_result"
    }
   ],
   "source": [
    "string='Python Program'\n",
    "new_string=string[:]\n",
    "new_string"
   ]
  },
  {
   "cell_type": "code",
   "execution_count": 22,
   "id": "55cc8592",
   "metadata": {},
   "outputs": [
    {
     "data": {
      "text/plain": [
       "'Program'"
      ]
     },
     "execution_count": 22,
     "metadata": {},
     "output_type": "execute_result"
    }
   ],
   "source": [
    "string='Python Program'\n",
    "new_string=string[7:]\n",
    "new_string"
   ]
  },
  {
   "cell_type": "code",
   "execution_count": 23,
   "id": "44228ce6",
   "metadata": {},
   "outputs": [
    {
     "data": {
      "text/plain": [
       "'Pto rga'"
      ]
     },
     "execution_count": 23,
     "metadata": {},
     "output_type": "execute_result"
    }
   ],
   "source": [
    "string='Python Program'\n",
    "new_string=string[0::2]\n",
    "new_string"
   ]
  },
  {
   "cell_type": "code",
   "execution_count": 24,
   "id": "c6592440",
   "metadata": {},
   "outputs": [
    {
     "data": {
      "text/plain": [
       "'Python Program'"
      ]
     },
     "execution_count": 24,
     "metadata": {},
     "output_type": "execute_result"
    }
   ],
   "source": [
    "string='Python Program'\n",
    "new_string=string[::1]\n",
    "new_string"
   ]
  },
  {
   "cell_type": "code",
   "execution_count": 25,
   "id": "cb2ba5fb",
   "metadata": {},
   "outputs": [
    {
     "data": {
      "text/plain": [
       "'margorP nohtyP'"
      ]
     },
     "execution_count": 25,
     "metadata": {},
     "output_type": "execute_result"
    }
   ],
   "source": [
    "string='Python Program'\n",
    "new_string=string[::-1]\n",
    "new_string"
   ]
  },
  {
   "cell_type": "code",
   "execution_count": 41,
   "id": "a643d90e",
   "metadata": {},
   "outputs": [
    {
     "data": {
      "text/plain": [
       "'margorP'"
      ]
     },
     "execution_count": 41,
     "metadata": {},
     "output_type": "execute_result"
    }
   ],
   "source": [
    "string='Python Program'\n",
    "new_string=string[13:6:-1]\n",
    "new_string=string[-1:-8:-1]\n",
    "new_string"
   ]
  },
  {
   "cell_type": "code",
   "execution_count": 40,
   "id": "b2673c19",
   "metadata": {},
   "outputs": [
    {
     "data": {
      "text/plain": [
       "'nohtyP'"
      ]
     },
     "execution_count": 40,
     "metadata": {},
     "output_type": "execute_result"
    }
   ],
   "source": [
    "string='Python Program'\n",
    "new_string=string[5::-1]\n",
    "new_string=string[-9:-15:-1]\n",
    "new_string"
   ]
  },
  {
   "cell_type": "code",
   "execution_count": 43,
   "id": "14989142",
   "metadata": {},
   "outputs": [
    {
     "data": {
      "text/plain": [
       "'python pragram'"
      ]
     },
     "execution_count": 43,
     "metadata": {},
     "output_type": "execute_result"
    }
   ],
   "source": [
    "string1='python'\n",
    "string2=' pragram'\n",
    "\n",
    "string1 + string2"
   ]
  },
  {
   "cell_type": "code",
   "execution_count": 45,
   "id": "2b02f350",
   "metadata": {},
   "outputs": [
    {
     "data": {
      "text/plain": [
       "'pp'"
      ]
     },
     "execution_count": 45,
     "metadata": {},
     "output_type": "execute_result"
    }
   ],
   "source": [
    "string1='python'\n",
    "string2='pragram'\n",
    "\n",
    "string1[0] + string2[0]"
   ]
  },
  {
   "cell_type": "code",
   "execution_count": 46,
   "id": "f61a6d72",
   "metadata": {},
   "outputs": [
    {
     "data": {
      "text/plain": [
       "'pypra'"
      ]
     },
     "execution_count": 46,
     "metadata": {},
     "output_type": "execute_result"
    }
   ],
   "source": [
    "string1='python'\n",
    "string2='pragram'\n",
    "\n",
    "string1[0:2] + string2[0:3]"
   ]
  },
  {
   "cell_type": "code",
   "execution_count": 47,
   "id": "1068fd3e",
   "metadata": {},
   "outputs": [
    {
     "data": {
      "text/plain": [
       "True"
      ]
     },
     "execution_count": 47,
     "metadata": {},
     "output_type": "execute_result"
    }
   ],
   "source": [
    "# To check for the string membership \n",
    "# use 'in' for this\n",
    "\n",
    "string='Python programming language'\n",
    "\n",
    "'language' in string"
   ]
  },
  {
   "cell_type": "code",
   "execution_count": 48,
   "id": "ad410b2c",
   "metadata": {},
   "outputs": [
    {
     "data": {
      "text/plain": [
       "False"
      ]
     },
     "execution_count": 48,
     "metadata": {},
     "output_type": "execute_result"
    }
   ],
   "source": [
    "string='Python programming language'\n",
    "\n",
    "'Language' in string"
   ]
  },
  {
   "cell_type": "code",
   "execution_count": 49,
   "id": "cad322fe",
   "metadata": {},
   "outputs": [
    {
     "data": {
      "text/plain": [
       "True"
      ]
     },
     "execution_count": 49,
     "metadata": {},
     "output_type": "execute_result"
    }
   ],
   "source": [
    "'lan' in string"
   ]
  },
  {
   "cell_type": "markdown",
   "id": "97e51bcf",
   "metadata": {},
   "source": [
    "# Methods or Built in functions"
   ]
  },
  {
   "cell_type": "code",
   "execution_count": 6,
   "id": "73bead9f",
   "metadata": {},
   "outputs": [],
   "source": [
    "var= 'Python Programing'"
   ]
  },
  {
   "cell_type": "code",
   "execution_count": 3,
   "id": "f98847f3",
   "metadata": {},
   "outputs": [
    {
     "data": {
      "text/plain": [
       "17"
      ]
     },
     "execution_count": 3,
     "metadata": {},
     "output_type": "execute_result"
    }
   ],
   "source": [
    "len(var) #To know the number of characters in a string"
   ]
  },
  {
   "cell_type": "code",
   "execution_count": 4,
   "id": "82176b67",
   "metadata": {},
   "outputs": [
    {
     "data": {
      "text/plain": [
       "'PYTHON PROGRAMING'"
      ]
     },
     "execution_count": 4,
     "metadata": {},
     "output_type": "execute_result"
    }
   ],
   "source": [
    "var.upper() #to make all the letters in a string to upper case"
   ]
  },
  {
   "cell_type": "code",
   "execution_count": 7,
   "id": "2fa6ef3c",
   "metadata": {},
   "outputs": [
    {
     "data": {
      "text/plain": [
       "'Python Programing'"
      ]
     },
     "execution_count": 7,
     "metadata": {},
     "output_type": "execute_result"
    }
   ],
   "source": [
    "var"
   ]
  },
  {
   "cell_type": "code",
   "execution_count": 8,
   "id": "e0c2ac87",
   "metadata": {},
   "outputs": [
    {
     "data": {
      "text/plain": [
       "'python programing'"
      ]
     },
     "execution_count": 8,
     "metadata": {},
     "output_type": "execute_result"
    }
   ],
   "source": [
    "var.lower() #to make all the letters in a string to lower case"
   ]
  },
  {
   "cell_type": "code",
   "execution_count": 1,
   "id": "2893406c",
   "metadata": {},
   "outputs": [],
   "source": [
    "var='maching learning'"
   ]
  },
  {
   "cell_type": "code",
   "execution_count": 11,
   "id": "4f7db8a7",
   "metadata": {},
   "outputs": [
    {
     "data": {
      "text/plain": [
       "'Maching learning'"
      ]
     },
     "execution_count": 11,
     "metadata": {},
     "output_type": "execute_result"
    }
   ],
   "source": [
    "var.capitalize() #to make the starting letter in the entire string capital"
   ]
  },
  {
   "cell_type": "code",
   "execution_count": 12,
   "id": "adc44beb",
   "metadata": {},
   "outputs": [
    {
     "data": {
      "text/plain": [
       "'Maching Learning'"
      ]
     },
     "execution_count": 12,
     "metadata": {},
     "output_type": "execute_result"
    }
   ],
   "source": [
    "var.title() #to make the starting letter of every word in a string capital"
   ]
  },
  {
   "cell_type": "code",
   "execution_count": 14,
   "id": "8bc4a5b0",
   "metadata": {},
   "outputs": [
    {
     "data": {
      "text/plain": [
       "'Maching Learning'"
      ]
     },
     "execution_count": 14,
     "metadata": {},
     "output_type": "execute_result"
    }
   ],
   "source": [
    "var=var.title()\n",
    "var"
   ]
  },
  {
   "cell_type": "code",
   "execution_count": 16,
   "id": "bd6a6c24",
   "metadata": {},
   "outputs": [
    {
     "data": {
      "text/plain": [
       "'Maching Learning'"
      ]
     },
     "execution_count": 16,
     "metadata": {},
     "output_type": "execute_result"
    }
   ],
   "source": [
    "var"
   ]
  },
  {
   "cell_type": "code",
   "execution_count": 17,
   "id": "a1c27f77",
   "metadata": {},
   "outputs": [
    {
     "data": {
      "text/plain": [
       "2"
      ]
     },
     "execution_count": 17,
     "metadata": {},
     "output_type": "execute_result"
    }
   ],
   "source": [
    "var.count('a') #to count the number of occurences of a sub string in the main string"
   ]
  },
  {
   "cell_type": "code",
   "execution_count": 18,
   "id": "f9371e1b",
   "metadata": {},
   "outputs": [
    {
     "data": {
      "text/plain": [
       "True"
      ]
     },
     "execution_count": 18,
     "metadata": {},
     "output_type": "execute_result"
    }
   ],
   "source": [
    "var.endswith('ng') #to check whether a string is ending in the given sub string"
   ]
  },
  {
   "cell_type": "code",
   "execution_count": 19,
   "id": "a81a2d13",
   "metadata": {},
   "outputs": [
    {
     "data": {
      "text/plain": [
       "False"
      ]
     },
     "execution_count": 19,
     "metadata": {},
     "output_type": "execute_result"
    }
   ],
   "source": [
    "var.endswith('ang')"
   ]
  },
  {
   "cell_type": "code",
   "execution_count": 21,
   "id": "ff204fa7",
   "metadata": {},
   "outputs": [
    {
     "data": {
      "text/plain": [
       "False"
      ]
     },
     "execution_count": 21,
     "metadata": {},
     "output_type": "execute_result"
    }
   ],
   "source": [
    "var.startswith('m') #to check whether a string starts with a given sequence"
   ]
  },
  {
   "cell_type": "code",
   "execution_count": 22,
   "id": "756ac271",
   "metadata": {},
   "outputs": [
    {
     "data": {
      "text/plain": [
       "True"
      ]
     },
     "execution_count": 22,
     "metadata": {},
     "output_type": "execute_result"
    }
   ],
   "source": [
    "var.startswith('M')"
   ]
  },
  {
   "cell_type": "code",
   "execution_count": 23,
   "id": "d98ae917",
   "metadata": {},
   "outputs": [
    {
     "data": {
      "text/plain": [
       "8"
      ]
     },
     "execution_count": 23,
     "metadata": {},
     "output_type": "execute_result"
    }
   ],
   "source": [
    "var.find('Learning')  #it returns the index position  of the starting character of the sub string"
   ]
  },
  {
   "cell_type": "code",
   "execution_count": 24,
   "id": "7043e3b8",
   "metadata": {},
   "outputs": [
    {
     "data": {
      "text/plain": [
       "'Learning'"
      ]
     },
     "execution_count": 24,
     "metadata": {},
     "output_type": "execute_result"
    }
   ],
   "source": [
    "var[8:]"
   ]
  },
  {
   "cell_type": "code",
   "execution_count": 25,
   "id": "bf0e15a5",
   "metadata": {},
   "outputs": [
    {
     "data": {
      "text/plain": [
       "-1"
      ]
     },
     "execution_count": 25,
     "metadata": {},
     "output_type": "execute_result"
    }
   ],
   "source": [
    "var.find('Research')"
   ]
  },
  {
   "cell_type": "code",
   "execution_count": 26,
   "id": "75b93d6c",
   "metadata": {},
   "outputs": [
    {
     "data": {
      "text/plain": [
       "8"
      ]
     },
     "execution_count": 26,
     "metadata": {},
     "output_type": "execute_result"
    }
   ],
   "source": [
    "var.index('Learning') # similar to fing()"
   ]
  },
  {
   "cell_type": "code",
   "execution_count": 28,
   "id": "646b9c7a",
   "metadata": {},
   "outputs": [
    {
     "data": {
      "text/plain": [
       "False"
      ]
     },
     "execution_count": 28,
     "metadata": {},
     "output_type": "execute_result"
    }
   ],
   "source": [
    "var.isdigit() #to check if the string contains numerics"
   ]
  },
  {
   "cell_type": "code",
   "execution_count": 3,
   "id": "56e6cc46",
   "metadata": {},
   "outputs": [
    {
     "data": {
      "text/plain": [
       "True"
      ]
     },
     "execution_count": 3,
     "metadata": {},
     "output_type": "execute_result"
    }
   ],
   "source": [
    "var1='5315'\n",
    "var1.isdigit()"
   ]
  },
  {
   "cell_type": "code",
   "execution_count": 4,
   "id": "1690b6a5",
   "metadata": {},
   "outputs": [
    {
     "data": {
      "text/plain": [
       "False"
      ]
     },
     "execution_count": 4,
     "metadata": {},
     "output_type": "execute_result"
    }
   ],
   "source": [
    "var1='innomatics'\n",
    "var1.isdigit()"
   ]
  },
  {
   "cell_type": "code",
   "execution_count": 30,
   "id": "c54757ef",
   "metadata": {},
   "outputs": [
    {
     "data": {
      "text/plain": [
       "'maching Learning'"
      ]
     },
     "execution_count": 30,
     "metadata": {},
     "output_type": "execute_result"
    }
   ],
   "source": [
    "var.replace('M','m') #if we want to replace part of a string with a replacement"
   ]
  },
  {
   "cell_type": "code",
   "execution_count": 34,
   "id": "ebf554a6",
   "metadata": {},
   "outputs": [],
   "source": [
    "var=var.replace('M','m')"
   ]
  },
  {
   "cell_type": "code",
   "execution_count": 32,
   "id": "3c42d3b3",
   "metadata": {},
   "outputs": [
    {
     "data": {
      "text/plain": [
       "'maching Learning'"
      ]
     },
     "execution_count": 32,
     "metadata": {},
     "output_type": "execute_result"
    }
   ],
   "source": [
    "var"
   ]
  },
  {
   "cell_type": "code",
   "execution_count": 1,
   "id": "4897c290",
   "metadata": {},
   "outputs": [],
   "source": [
    "var1='python program  '"
   ]
  },
  {
   "cell_type": "code",
   "execution_count": 2,
   "id": "74cca098",
   "metadata": {},
   "outputs": [
    {
     "data": {
      "text/plain": [
       "'python program'"
      ]
     },
     "execution_count": 2,
     "metadata": {},
     "output_type": "execute_result"
    }
   ],
   "source": [
    "var1.strip()"
   ]
  },
  {
   "cell_type": "code",
   "execution_count": 37,
   "id": "117d8ed0",
   "metadata": {},
   "outputs": [
    {
     "name": "stdout",
     "output_type": "stream",
     "text": [
      "enter the name: suvam  \n"
     ]
    }
   ],
   "source": [
    "name=input('enter the name: ').strip()"
   ]
  },
  {
   "cell_type": "code",
   "execution_count": 38,
   "id": "f7a8e939",
   "metadata": {},
   "outputs": [
    {
     "data": {
      "text/plain": [
       "'suvam'"
      ]
     },
     "execution_count": 38,
     "metadata": {},
     "output_type": "execute_result"
    }
   ],
   "source": [
    "name"
   ]
  },
  {
   "cell_type": "code",
   "execution_count": 39,
   "id": "c6fdabea",
   "metadata": {},
   "outputs": [
    {
     "name": "stdout",
     "output_type": "stream",
     "text": [
      "enter the name: suvam\n"
     ]
    }
   ],
   "source": [
    "name=input('enter the name: ').upper()"
   ]
  },
  {
   "cell_type": "code",
   "execution_count": 40,
   "id": "59737315",
   "metadata": {},
   "outputs": [
    {
     "data": {
      "text/plain": [
       "'SUVAM'"
      ]
     },
     "execution_count": 40,
     "metadata": {},
     "output_type": "execute_result"
    }
   ],
   "source": [
    "name"
   ]
  },
  {
   "cell_type": "code",
   "execution_count": 41,
   "id": "f2bddb7c",
   "metadata": {},
   "outputs": [
    {
     "name": "stdout",
     "output_type": "stream",
     "text": [
      "enter the name: suvam\n"
     ]
    }
   ],
   "source": [
    "name=input('enter the name: ').lower()"
   ]
  },
  {
   "cell_type": "code",
   "execution_count": 42,
   "id": "02b2437a",
   "metadata": {},
   "outputs": [
    {
     "data": {
      "text/plain": [
       "'suvam'"
      ]
     },
     "execution_count": 42,
     "metadata": {},
     "output_type": "execute_result"
    }
   ],
   "source": [
    "name"
   ]
  },
  {
   "cell_type": "code",
   "execution_count": 45,
   "id": "4e40a101",
   "metadata": {},
   "outputs": [
    {
     "data": {
      "text/plain": [
       "5"
      ]
     },
     "execution_count": 45,
     "metadata": {},
     "output_type": "execute_result"
    }
   ],
   "source": [
    "len(name)"
   ]
  },
  {
   "cell_type": "code",
   "execution_count": 48,
   "id": "4b9815a1",
   "metadata": {},
   "outputs": [
    {
     "name": "stdout",
     "output_type": "stream",
     "text": [
      "enter the name:    suvam\n"
     ]
    }
   ],
   "source": [
    "name=input('enter the name: ').strip().capitalize()"
   ]
  },
  {
   "cell_type": "code",
   "execution_count": 49,
   "id": "e172f146",
   "metadata": {},
   "outputs": [
    {
     "data": {
      "text/plain": [
       "'Suvam'"
      ]
     },
     "execution_count": 49,
     "metadata": {},
     "output_type": "execute_result"
    }
   ],
   "source": [
    "name"
   ]
  },
  {
   "cell_type": "code",
   "execution_count": 50,
   "id": "a455c312",
   "metadata": {},
   "outputs": [],
   "source": [
    "name=name.strip()"
   ]
  },
  {
   "cell_type": "code",
   "execution_count": 51,
   "id": "550e3cca",
   "metadata": {},
   "outputs": [
    {
     "data": {
      "text/plain": [
       "'Suvam'"
      ]
     },
     "execution_count": 51,
     "metadata": {},
     "output_type": "execute_result"
    }
   ],
   "source": [
    "name.capitalize()"
   ]
  },
  {
   "cell_type": "code",
   "execution_count": 54,
   "id": "17ee1abd",
   "metadata": {},
   "outputs": [
    {
     "data": {
      "text/plain": [
       "['Python', 'is', 'a', 'programing', 'language']"
      ]
     },
     "execution_count": 54,
     "metadata": {},
     "output_type": "execute_result"
    }
   ],
   "source": [
    "char='Python is a programing language'\n",
    "\n",
    "char.split() #spliting a string into sub string based on default delimiter(space)"
   ]
  },
  {
   "cell_type": "code",
   "execution_count": 55,
   "id": "36d33cc1",
   "metadata": {},
   "outputs": [
    {
     "data": {
      "text/plain": [
       "['Python', 'is', 'a', 'programing', 'language']"
      ]
     },
     "execution_count": 55,
     "metadata": {},
     "output_type": "execute_result"
    }
   ],
   "source": [
    "char='Python-is-a-programing-language'\n",
    "\n",
    "char.split('-')"
   ]
  },
  {
   "cell_type": "markdown",
   "id": "568bd670",
   "metadata": {},
   "source": [
    "# Format() \n",
    "> The format() method is used to make parts of a string dynamic"
   ]
  },
  {
   "cell_type": "code",
   "execution_count": 70,
   "id": "dff0b03a",
   "metadata": {},
   "outputs": [
    {
     "name": "stdout",
     "output_type": "stream",
     "text": [
      "Enter name suv\n"
     ]
    }
   ],
   "source": [
    "name=input('Enter name ')"
   ]
  },
  {
   "cell_type": "code",
   "execution_count": 71,
   "id": "74d38110",
   "metadata": {},
   "outputs": [
    {
     "name": "stdout",
     "output_type": "stream",
     "text": [
      "My name is suv\n"
     ]
    }
   ],
   "source": [
    "print('My name is {}'.format(name))"
   ]
  },
  {
   "cell_type": "code",
   "execution_count": 67,
   "id": "92af08c0",
   "metadata": {},
   "outputs": [
    {
     "name": "stdout",
     "output_type": "stream",
     "text": [
      "Enter name Suvam\n",
      "Enter age 22\n",
      "Enter num 15423\n"
     ]
    }
   ],
   "source": [
    "name=input('Enter name ')\n",
    "age=input('Enter age ')\n",
    "num=input('Enter num ')"
   ]
  },
  {
   "cell_type": "code",
   "execution_count": 68,
   "id": "40b65f1b",
   "metadata": {},
   "outputs": [
    {
     "name": "stdout",
     "output_type": "stream",
     "text": [
      "My name is Suvam, age is 22, and num is 15423\n"
     ]
    }
   ],
   "source": [
    "print('My name is {}, age is {}, and num is {}'.format(name,age,num))"
   ]
  },
  {
   "cell_type": "code",
   "execution_count": 69,
   "id": "0d1f85f9",
   "metadata": {},
   "outputs": [
    {
     "name": "stdout",
     "output_type": "stream",
     "text": [
      "My name is 15423, age is Suvam, and num is 22\n"
     ]
    }
   ],
   "source": [
    "print('My name is {2}, age is {0}, and num is {1}'.format(name,age,num))"
   ]
  },
  {
   "cell_type": "code",
   "execution_count": 72,
   "id": "6ec30780",
   "metadata": {},
   "outputs": [
    {
     "name": "stdout",
     "output_type": "stream",
     "text": [
      "My name is python, age is 22, and num is 53454\n"
     ]
    }
   ],
   "source": [
    "print('My name is {name}, age is {age}, and num is {num}'.format(name='python',age=22,num=53454))"
   ]
  },
  {
   "cell_type": "code",
   "execution_count": 73,
   "id": "d64257e8",
   "metadata": {},
   "outputs": [
    {
     "name": "stdout",
     "output_type": "stream",
     "text": [
      "False\n"
     ]
    }
   ],
   "source": [
    "string='My name is 25'\n",
    "print(string.isalnum())"
   ]
  },
  {
   "cell_type": "code",
   "execution_count": 74,
   "id": "152db78c",
   "metadata": {},
   "outputs": [
    {
     "name": "stdout",
     "output_type": "stream",
     "text": [
      "True\n"
     ]
    }
   ],
   "source": [
    "string='25'\n",
    "print(string.isalnum())"
   ]
  },
  {
   "cell_type": "code",
   "execution_count": 75,
   "id": "1e56c0ba",
   "metadata": {},
   "outputs": [
    {
     "name": "stdout",
     "output_type": "stream",
     "text": [
      "True\n"
     ]
    }
   ],
   "source": [
    "string='25'\n",
    "print(string.isdigit())"
   ]
  },
  {
   "cell_type": "code",
   "execution_count": 77,
   "id": "284b7274",
   "metadata": {},
   "outputs": [
    {
     "name": "stdout",
     "output_type": "stream",
     "text": [
      "False\n"
     ]
    }
   ],
   "source": [
    "string='My name is 25'\n",
    "print(string.isdigit())"
   ]
  },
  {
   "cell_type": "code",
   "execution_count": 3,
   "id": "b0b1f7b2",
   "metadata": {},
   "outputs": [
    {
     "data": {
      "text/plain": [
       "False"
      ]
     },
     "execution_count": 3,
     "metadata": {},
     "output_type": "execute_result"
    }
   ],
   "source": [
    "string='My name is 25'\n",
    "string.isdigit()\n"
   ]
  },
  {
   "cell_type": "code",
   "execution_count": 1,
   "id": "005586b6",
   "metadata": {},
   "outputs": [
    {
     "data": {
      "text/plain": [
       "['__add__',\n",
       " '__class__',\n",
       " '__contains__',\n",
       " '__delattr__',\n",
       " '__dir__',\n",
       " '__doc__',\n",
       " '__eq__',\n",
       " '__format__',\n",
       " '__ge__',\n",
       " '__getattribute__',\n",
       " '__getitem__',\n",
       " '__getnewargs__',\n",
       " '__gt__',\n",
       " '__hash__',\n",
       " '__init__',\n",
       " '__init_subclass__',\n",
       " '__iter__',\n",
       " '__le__',\n",
       " '__len__',\n",
       " '__lt__',\n",
       " '__mod__',\n",
       " '__mul__',\n",
       " '__ne__',\n",
       " '__new__',\n",
       " '__reduce__',\n",
       " '__reduce_ex__',\n",
       " '__repr__',\n",
       " '__rmod__',\n",
       " '__rmul__',\n",
       " '__setattr__',\n",
       " '__sizeof__',\n",
       " '__str__',\n",
       " '__subclasshook__',\n",
       " 'capitalize',\n",
       " 'casefold',\n",
       " 'center',\n",
       " 'count',\n",
       " 'encode',\n",
       " 'endswith',\n",
       " 'expandtabs',\n",
       " 'find',\n",
       " 'format',\n",
       " 'format_map',\n",
       " 'index',\n",
       " 'isalnum',\n",
       " 'isalpha',\n",
       " 'isascii',\n",
       " 'isdecimal',\n",
       " 'isdigit',\n",
       " 'isidentifier',\n",
       " 'islower',\n",
       " 'isnumeric',\n",
       " 'isprintable',\n",
       " 'isspace',\n",
       " 'istitle',\n",
       " 'isupper',\n",
       " 'join',\n",
       " 'ljust',\n",
       " 'lower',\n",
       " 'lstrip',\n",
       " 'maketrans',\n",
       " 'partition',\n",
       " 'removeprefix',\n",
       " 'removesuffix',\n",
       " 'replace',\n",
       " 'rfind',\n",
       " 'rindex',\n",
       " 'rjust',\n",
       " 'rpartition',\n",
       " 'rsplit',\n",
       " 'rstrip',\n",
       " 'split',\n",
       " 'splitlines',\n",
       " 'startswith',\n",
       " 'strip',\n",
       " 'swapcase',\n",
       " 'title',\n",
       " 'translate',\n",
       " 'upper',\n",
       " 'zfill']"
      ]
     },
     "execution_count": 1,
     "metadata": {},
     "output_type": "execute_result"
    }
   ],
   "source": [
    "str1=''\n",
    "dir(str1)"
   ]
  },
  {
   "cell_type": "code",
   "execution_count": null,
   "id": "b3486811",
   "metadata": {},
   "outputs": [],
   "source": []
  }
 ],
 "metadata": {
  "kernelspec": {
   "display_name": "Python 3 (ipykernel)",
   "language": "python",
   "name": "python3"
  },
  "language_info": {
   "codemirror_mode": {
    "name": "ipython",
    "version": 3
   },
   "file_extension": ".py",
   "mimetype": "text/x-python",
   "name": "python",
   "nbconvert_exporter": "python",
   "pygments_lexer": "ipython3",
   "version": "3.9.12"
  }
 },
 "nbformat": 4,
 "nbformat_minor": 5
}
