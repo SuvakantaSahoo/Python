{
 "cells": [
  {
   "cell_type": "markdown",
   "id": "e4098bf2",
   "metadata": {},
   "source": [
    "# Defining a list"
   ]
  },
  {
   "cell_type": "code",
   "execution_count": 4,
   "id": "cd6292de",
   "metadata": {},
   "outputs": [
    {
     "name": "stdout",
     "output_type": "stream",
     "text": [
      "[10, 20, 30, 'python', '  data science', True, [1, 2, 3, 4], (23, 45, 26)]\n"
     ]
    }
   ],
   "source": [
    "list1=[10,20,30,'python','  data science',True,[1,2,3,4],(23,45,26)]\n",
    "print(list1)\n"
   ]
  },
  {
   "cell_type": "code",
   "execution_count": 54,
   "id": "283c03a7",
   "metadata": {},
   "outputs": [
    {
     "data": {
      "text/plain": [
       "'data science'"
      ]
     },
     "execution_count": 54,
     "metadata": {},
     "output_type": "execute_result"
    }
   ],
   "source": [
    "list1[4].strip()"
   ]
  },
  {
   "cell_type": "code",
   "execution_count": 55,
   "id": "1f3f7d60",
   "metadata": {},
   "outputs": [
    {
     "name": "stdout",
     "output_type": "stream",
     "text": [
      "[10, 11, 12, 13, 14, 15, 16, 17, 18, 19, 20, 21, 22, 23, 24, 25, 26, 27, 28, 29, 30]\n"
     ]
    }
   ],
   "source": [
    "list2=list(range(10,31))\n",
    "print(list2)"
   ]
  },
  {
   "cell_type": "code",
   "execution_count": 56,
   "id": "67afe31f",
   "metadata": {},
   "outputs": [
    {
     "data": {
      "text/plain": [
       "['python', 'is', 'a', 'prpogramming', 'language']"
      ]
     },
     "execution_count": 56,
     "metadata": {},
     "output_type": "execute_result"
    }
   ],
   "source": [
    "string='python is a prpogramming language'\n",
    "list3=string.split()\n",
    "list3"
   ]
  },
  {
   "cell_type": "code",
   "execution_count": 1,
   "id": "23a3bafb",
   "metadata": {},
   "outputs": [
    {
     "name": "stdout",
     "output_type": "stream",
     "text": [
      "['D', 'o', 'n', \"'\", 't', ' ', 'p', 'a', 'n', 'i', 'c', '!']\n"
     ]
    }
   ],
   "source": [
    "phrase1=\"Don't panic!\"\n",
    "print([*phrase1])   #convert text into list"
   ]
  },
  {
   "cell_type": "code",
   "execution_count": 2,
   "id": "5601aad7",
   "metadata": {},
   "outputs": [
    {
     "name": "stdout",
     "output_type": "stream",
     "text": [
      "['D', 'o', 'n', \"'\", 't', ' ', 'p', 'a', 'n', 'i', 'c', '!']\n"
     ]
    }
   ],
   "source": [
    "phrase1=\"Don't panic!\"\n",
    "list1=[]\n",
    "list1.extend(phrase1)\n",
    "print(list1)"
   ]
  },
  {
   "cell_type": "code",
   "execution_count": 1,
   "id": "cdb52179",
   "metadata": {},
   "outputs": [
    {
     "name": "stdout",
     "output_type": "stream",
     "text": [
      "['D', 'o', 'n', \"'\", 't', ' ', 'p', 'a', 'n', 'i', 'c', '!']\n"
     ]
    }
   ],
   "source": [
    "phrase1=\"Don't panic!\"\n",
    "phrase2=list(phrase1)\n",
    "print(phrase2)"
   ]
  },
  {
   "cell_type": "code",
   "execution_count": 3,
   "id": "e90af301",
   "metadata": {},
   "outputs": [
    {
     "name": "stdout",
     "output_type": "stream",
     "text": [
      "panDa\n"
     ]
    }
   ],
   "source": [
    "lists=['p', 'a', 'n', 'D', 'a']\n",
    "s= ''.join(lists)  #join all element of a list\n",
    "print(s)"
   ]
  },
  {
   "cell_type": "code",
   "execution_count": 4,
   "id": "baa0fcbe",
   "metadata": {},
   "outputs": [
    {
     "name": "stdout",
     "output_type": "stream",
     "text": [
      "p,a,n,D,a\n"
     ]
    }
   ],
   "source": [
    "lists=['p', 'a', 'n', 'D', 'a']\n",
    "s= ','.join(lists)  #join all element of a list\n",
    "print(s)"
   ]
  },
  {
   "cell_type": "code",
   "execution_count": 5,
   "id": "d50b6939",
   "metadata": {},
   "outputs": [
    {
     "name": "stdout",
     "output_type": "stream",
     "text": [
      "p-a-n-D-a\n"
     ]
    }
   ],
   "source": [
    "lists=['p', 'a', 'n', 'D', 'a']\n",
    "s= '-'.join(lists)  #join all element of a list\n",
    "print(s)"
   ]
  },
  {
   "cell_type": "code",
   "execution_count": 6,
   "id": "162a1b9d",
   "metadata": {},
   "outputs": [
    {
     "name": "stdout",
     "output_type": "stream",
     "text": [
      "p\n",
      "a\n",
      "n\n",
      "D\n",
      "a\n"
     ]
    }
   ],
   "source": [
    "lists=['p', 'a', 'n', 'D', 'a']\n",
    "s= '\\n'.join(lists)  #join all element of a list\n",
    "print(s)"
   ]
  },
  {
   "cell_type": "code",
   "execution_count": 6,
   "id": "1182d964",
   "metadata": {},
   "outputs": [],
   "source": [
    "list4=[[5,25],[12,64],[54,49,65]] #2D list"
   ]
  },
  {
   "cell_type": "markdown",
   "id": "2d2d3e0f",
   "metadata": {},
   "source": [
    "# Indexing a list"
   ]
  },
  {
   "cell_type": "code",
   "execution_count": 5,
   "id": "30acbedf",
   "metadata": {},
   "outputs": [
    {
     "name": "stdout",
     "output_type": "stream",
     "text": [
      "[10, 20, 30, 'python', '  data science', True, [1, 2, 3, 4], (23, 45, 26)]\n"
     ]
    }
   ],
   "source": [
    "print(list1)"
   ]
  },
  {
   "cell_type": "code",
   "execution_count": 8,
   "id": "23e44423",
   "metadata": {},
   "outputs": [
    {
     "data": {
      "text/plain": [
       "'python'"
      ]
     },
     "execution_count": 8,
     "metadata": {},
     "output_type": "execute_result"
    }
   ],
   "source": [
    "list1[3]"
   ]
  },
  {
   "cell_type": "code",
   "execution_count": 10,
   "id": "074cf789",
   "metadata": {},
   "outputs": [
    {
     "data": {
      "text/plain": [
       "[1, 2, 3, 4]"
      ]
     },
     "execution_count": 10,
     "metadata": {},
     "output_type": "execute_result"
    }
   ],
   "source": [
    "list1[-2]"
   ]
  },
  {
   "cell_type": "code",
   "execution_count": 81,
   "id": "a6ea384b",
   "metadata": {},
   "outputs": [
    {
     "name": "stdout",
     "output_type": "stream",
     "text": [
      "[10, 20, 30, 4, 60, 5, 5, 5, 'data science', 'deep learning', [1, 3.6, 65, 4], (23, 45, 26)]\n"
     ]
    }
   ],
   "source": [
    "list1[-2][1] #double indexing\n",
    "list1[-2][1]=3.6\n",
    "print(list1)"
   ]
  },
  {
   "cell_type": "code",
   "execution_count": 12,
   "id": "b1dca798",
   "metadata": {},
   "outputs": [
    {
     "data": {
      "text/plain": [
       "[2, 3, 4]"
      ]
     },
     "execution_count": 12,
     "metadata": {},
     "output_type": "execute_result"
    }
   ],
   "source": [
    "list1[-2][1:]"
   ]
  },
  {
   "cell_type": "code",
   "execution_count": 13,
   "id": "abf18666",
   "metadata": {},
   "outputs": [
    {
     "data": {
      "text/plain": [
       "'data science'"
      ]
     },
     "execution_count": 13,
     "metadata": {},
     "output_type": "execute_result"
    }
   ],
   "source": [
    "list1[4]"
   ]
  },
  {
   "cell_type": "code",
   "execution_count": 14,
   "id": "9ff28f06",
   "metadata": {},
   "outputs": [
    {
     "data": {
      "text/plain": [
       "'data'"
      ]
     },
     "execution_count": 14,
     "metadata": {},
     "output_type": "execute_result"
    }
   ],
   "source": [
    "list1[4][:4]"
   ]
  },
  {
   "cell_type": "code",
   "execution_count": 15,
   "id": "9e482025",
   "metadata": {},
   "outputs": [
    {
     "data": {
      "text/plain": [
       "'DATA'"
      ]
     },
     "execution_count": 15,
     "metadata": {},
     "output_type": "execute_result"
    }
   ],
   "source": [
    "list1[4][:4].upper()"
   ]
  },
  {
   "cell_type": "code",
   "execution_count": 16,
   "id": "9b08c76b",
   "metadata": {},
   "outputs": [
    {
     "data": {
      "text/plain": [
       "[20, 30, 'python', 'data science', True]"
      ]
     },
     "execution_count": 16,
     "metadata": {},
     "output_type": "execute_result"
    }
   ],
   "source": [
    "list1[1:6]"
   ]
  },
  {
   "cell_type": "code",
   "execution_count": 17,
   "id": "41118930",
   "metadata": {},
   "outputs": [
    {
     "data": {
      "text/plain": [
       "[10, 20, 30, 45, 'data science', True, [1, 2, 3, 4], (23, 45, 26)]"
      ]
     },
     "execution_count": 17,
     "metadata": {},
     "output_type": "execute_result"
    }
   ],
   "source": [
    "list1[3]=45\n",
    "list1"
   ]
  },
  {
   "cell_type": "code",
   "execution_count": 18,
   "id": "63422782",
   "metadata": {},
   "outputs": [
    {
     "data": {
      "text/plain": [
       "[10, 20, 30, 45, 'data science', 'deep learning', [1, 2, 3, 4], (23, 45, 26)]"
      ]
     },
     "execution_count": 18,
     "metadata": {},
     "output_type": "execute_result"
    }
   ],
   "source": [
    "list1[5]='deep learning'\n",
    "list1"
   ]
  },
  {
   "cell_type": "code",
   "execution_count": 24,
   "id": "78426b6a",
   "metadata": {},
   "outputs": [
    {
     "name": "stdout",
     "output_type": "stream",
     "text": [
      "[10, 20, 30, 4, 5, 5, 5, 'data science', 'deep learning', [1, 2, 3, 4], (23, 45, 26)]\n"
     ]
    }
   ],
   "source": [
    "list1[3:4]=4,5\n",
    "print(list1)"
   ]
  },
  {
   "cell_type": "code",
   "execution_count": 25,
   "id": "c1bc4591",
   "metadata": {},
   "outputs": [
    {
     "name": "stdout",
     "output_type": "stream",
     "text": [
      "[10, 20, 30, 4, 60, 5, 5, 5, 'data science', 'deep learning', [1, 2, 3, 4], (23, 45, 26)]\n"
     ]
    }
   ],
   "source": [
    "list1[3:4]=4,60\n",
    "print(list1)"
   ]
  },
  {
   "cell_type": "code",
   "execution_count": 7,
   "id": "5a0360ad",
   "metadata": {},
   "outputs": [
    {
     "ename": "TypeError",
     "evalue": "'tuple' object does not support item assignment",
     "output_type": "error",
     "traceback": [
      "\u001b[1;31m---------------------------------------------------------------------------\u001b[0m",
      "\u001b[1;31mTypeError\u001b[0m                                 Traceback (most recent call last)",
      "Input \u001b[1;32mIn [7]\u001b[0m, in \u001b[0;36m<cell line: 1>\u001b[1;34m()\u001b[0m\n\u001b[1;32m----> 1\u001b[0m list1[\u001b[38;5;241m7\u001b[39m][\u001b[38;5;241m2\u001b[39m]\u001b[38;5;241m=\u001b[39m\u001b[38;5;241m65\u001b[39m\n\u001b[0;32m      2\u001b[0m \u001b[38;5;28mprint\u001b[39m(list1)\n",
      "\u001b[1;31mTypeError\u001b[0m: 'tuple' object does not support item assignment"
     ]
    }
   ],
   "source": [
    "list1[7][2]=65\n",
    "print(list1)"
   ]
  },
  {
   "cell_type": "code",
   "execution_count": 34,
   "id": "d9dff792",
   "metadata": {},
   "outputs": [
    {
     "data": {
      "text/plain": [
       "[10, 4, 5, 'deep learning']"
      ]
     },
     "execution_count": 34,
     "metadata": {},
     "output_type": "execute_result"
    }
   ],
   "source": [
    "list1[::3]"
   ]
  },
  {
   "cell_type": "code",
   "execution_count": 5,
   "id": "28ca8521",
   "metadata": {},
   "outputs": [
    {
     "name": "stdout",
     "output_type": "stream",
     "text": [
      "[10, 20, 30, 'python', '  data science', True, [1, 2, 3, 4], (23, 45, 26)]\n"
     ]
    }
   ],
   "source": [
    "list1[::-1]\n",
    "print(list1)"
   ]
  },
  {
   "cell_type": "markdown",
   "id": "b84c7cd9",
   "metadata": {},
   "source": [
    "# Built in function"
   ]
  },
  {
   "cell_type": "code",
   "execution_count": 5,
   "id": "3d500943",
   "metadata": {},
   "outputs": [],
   "source": [
    "lists=[10,20,30,40,50,60]"
   ]
  },
  {
   "cell_type": "code",
   "execution_count": 7,
   "id": "e8eb6e2e",
   "metadata": {},
   "outputs": [
    {
     "data": {
      "text/plain": [
       "[10, 20, 30, 40, 50, 60, 70]"
      ]
     },
     "execution_count": 7,
     "metadata": {},
     "output_type": "execute_result"
    }
   ],
   "source": [
    "lists.append(70) #to add a new a element in a list\n",
    "\n",
    "lists"
   ]
  },
  {
   "cell_type": "code",
   "execution_count": 8,
   "id": "b52fa206",
   "metadata": {},
   "outputs": [
    {
     "data": {
      "text/plain": [
       "[10, 20, 30, 40, 50, 60, 70]"
      ]
     },
     "execution_count": 8,
     "metadata": {},
     "output_type": "execute_result"
    }
   ],
   "source": [
    "lists"
   ]
  },
  {
   "cell_type": "code",
   "execution_count": 54,
   "id": "9832cec3",
   "metadata": {},
   "outputs": [],
   "source": [
    "list2=[80,90,100]"
   ]
  },
  {
   "cell_type": "code",
   "execution_count": 55,
   "id": "df08dcae",
   "metadata": {},
   "outputs": [
    {
     "data": {
      "text/plain": [
       "[10, 20, 30, 40, 50, 60, 70, [80, 90, 100]]"
      ]
     },
     "execution_count": 55,
     "metadata": {},
     "output_type": "execute_result"
    }
   ],
   "source": [
    "lists.append(list2)\n",
    "\n",
    "lists"
   ]
  },
  {
   "cell_type": "code",
   "execution_count": 9,
   "id": "859e893e",
   "metadata": {},
   "outputs": [
    {
     "ename": "TypeError",
     "evalue": "list.append() takes exactly one argument (2 given)",
     "output_type": "error",
     "traceback": [
      "\u001b[1;31m---------------------------------------------------------------------------\u001b[0m",
      "\u001b[1;31mTypeError\u001b[0m                                 Traceback (most recent call last)",
      "Input \u001b[1;32mIn [9]\u001b[0m, in \u001b[0;36m<cell line: 1>\u001b[1;34m()\u001b[0m\n\u001b[1;32m----> 1\u001b[0m \u001b[43mlists\u001b[49m\u001b[38;5;241;43m.\u001b[39;49m\u001b[43mappend\u001b[49m\u001b[43m(\u001b[49m\u001b[38;5;241;43m70\u001b[39;49m\u001b[43m,\u001b[49m\u001b[38;5;241;43m80\u001b[39;49m\u001b[43m)\u001b[49m\n",
      "\u001b[1;31mTypeError\u001b[0m: list.append() takes exactly one argument (2 given)"
     ]
    }
   ],
   "source": [
    "lists.append(70,80)"
   ]
  },
  {
   "cell_type": "code",
   "execution_count": 15,
   "id": "a0917ed6",
   "metadata": {},
   "outputs": [
    {
     "data": {
      "text/plain": [
       "[10, 20, 30, 40, 50, 60, 70, [456, 66], [456, 66]]"
      ]
     },
     "execution_count": 15,
     "metadata": {},
     "output_type": "execute_result"
    }
   ],
   "source": [
    "lists.append([456,66])\n",
    "lists"
   ]
  },
  {
   "cell_type": "code",
   "execution_count": 16,
   "id": "fbf29f9b",
   "metadata": {},
   "outputs": [],
   "source": [
    "list3=[45,59,9]"
   ]
  },
  {
   "cell_type": "code",
   "execution_count": 17,
   "id": "06766329",
   "metadata": {},
   "outputs": [],
   "source": [
    "list4=[1564,4684,65,96546]"
   ]
  },
  {
   "cell_type": "code",
   "execution_count": 18,
   "id": "007b50f3",
   "metadata": {},
   "outputs": [
    {
     "name": "stdout",
     "output_type": "stream",
     "text": [
      "[45, 59, 9, 1564, 4684, 65, 96546]\n"
     ]
    }
   ],
   "source": [
    "list3.extend(list4)\n",
    "\n",
    "print(list3)"
   ]
  },
  {
   "cell_type": "code",
   "execution_count": 19,
   "id": "86353bbc",
   "metadata": {},
   "outputs": [
    {
     "name": "stdout",
     "output_type": "stream",
     "text": [
      "[45, 59, 9, 1564, 4684, 65, 96546, 1564, 4684, 65, 96546]\n"
     ]
    }
   ],
   "source": [
    "list5= list3+list4 #concatenate\n",
    "\n",
    "print(list5)"
   ]
  },
  {
   "cell_type": "code",
   "execution_count": 20,
   "id": "74f9f49d",
   "metadata": {},
   "outputs": [
    {
     "name": "stdout",
     "output_type": "stream",
     "text": [
      "[45, 59, 10.5, 9, 1564, 4684, 65, 96546, 1564, 4684, 65, 96546]\n"
     ]
    }
   ],
   "source": [
    "list5.insert(2,10.5)\n",
    "\n",
    "print(list5)"
   ]
  },
  {
   "cell_type": "code",
   "execution_count": 21,
   "id": "0ec76b5b",
   "metadata": {},
   "outputs": [],
   "source": [
    "list5[1:2]=(2.3,436)"
   ]
  },
  {
   "cell_type": "code",
   "execution_count": 22,
   "id": "c609c390",
   "metadata": {},
   "outputs": [
    {
     "name": "stdout",
     "output_type": "stream",
     "text": [
      "[45, 2.3, 436, 10.5, 9, 1564, 4684, 65, 96546, 1564, 4684, 65, 96546]\n"
     ]
    }
   ],
   "source": [
    "print(list5)"
   ]
  },
  {
   "cell_type": "code",
   "execution_count": 12,
   "id": "9822c2e7",
   "metadata": {},
   "outputs": [
    {
     "ename": "NameError",
     "evalue": "name 'list5' is not defined",
     "output_type": "error",
     "traceback": [
      "\u001b[1;31m---------------------------------------------------------------------------\u001b[0m",
      "\u001b[1;31mNameError\u001b[0m                                 Traceback (most recent call last)",
      "Input \u001b[1;32mIn [12]\u001b[0m, in \u001b[0;36m<cell line: 1>\u001b[1;34m()\u001b[0m\n\u001b[1;32m----> 1\u001b[0m \u001b[43mlist5\u001b[49m\u001b[38;5;241m.\u001b[39mremove(\u001b[38;5;241m45\u001b[39m)\n\u001b[0;32m      2\u001b[0m \u001b[38;5;28mprint\u001b[39m(list5)\n",
      "\u001b[1;31mNameError\u001b[0m: name 'list5' is not defined"
     ]
    }
   ],
   "source": [
    "list5.remove(45)\n",
    "print(list5)"
   ]
  },
  {
   "cell_type": "code",
   "execution_count": 11,
   "id": "aa16f0ed",
   "metadata": {},
   "outputs": [
    {
     "ename": "NameError",
     "evalue": "name 'list5' is not defined",
     "output_type": "error",
     "traceback": [
      "\u001b[1;31m---------------------------------------------------------------------------\u001b[0m",
      "\u001b[1;31mNameError\u001b[0m                                 Traceback (most recent call last)",
      "Input \u001b[1;32mIn [11]\u001b[0m, in \u001b[0;36m<cell line: 1>\u001b[1;34m()\u001b[0m\n\u001b[1;32m----> 1\u001b[0m \u001b[43mlist5\u001b[49m\u001b[38;5;241m.\u001b[39mremove(\u001b[38;5;241m2\u001b[39m)\n",
      "\u001b[1;31mNameError\u001b[0m: name 'list5' is not defined"
     ]
    }
   ],
   "source": [
    "list5.remove(2)"
   ]
  },
  {
   "cell_type": "code",
   "execution_count": 48,
   "id": "d88260fa",
   "metadata": {},
   "outputs": [
    {
     "name": "stdout",
     "output_type": "stream",
     "text": [
      "[59, 1564, 4684, 65, 96546]\n"
     ]
    }
   ],
   "source": [
    "list3=list3+list4\n",
    "print(list3)"
   ]
  },
  {
   "cell_type": "code",
   "execution_count": 49,
   "id": "fcf31830",
   "metadata": {},
   "outputs": [
    {
     "name": "stdout",
     "output_type": "stream",
     "text": [
      "[59, 4684, 65, 96546]\n"
     ]
    }
   ],
   "source": [
    "list3.remove(1564)\n",
    "print(list3)"
   ]
  },
  {
   "cell_type": "code",
   "execution_count": 50,
   "id": "7101c5fc",
   "metadata": {},
   "outputs": [
    {
     "ename": "ValueError",
     "evalue": "list.remove(x): x not in list",
     "output_type": "error",
     "traceback": [
      "\u001b[1;31m---------------------------------------------------------------------------\u001b[0m",
      "\u001b[1;31mValueError\u001b[0m                                Traceback (most recent call last)",
      "Input \u001b[1;32mIn [50]\u001b[0m, in \u001b[0;36m<cell line: 1>\u001b[1;34m()\u001b[0m\n\u001b[1;32m----> 1\u001b[0m \u001b[43mlist3\u001b[49m\u001b[38;5;241;43m.\u001b[39;49m\u001b[43mremove\u001b[49m\u001b[43m(\u001b[49m\u001b[38;5;241;43m45\u001b[39;49m\u001b[43m)\u001b[49m\n\u001b[0;32m      2\u001b[0m \u001b[38;5;28mprint\u001b[39m(list3)\n",
      "\u001b[1;31mValueError\u001b[0m: list.remove(x): x not in list"
     ]
    }
   ],
   "source": [
    "list3.remove(45)\n",
    "print(list3)"
   ]
  },
  {
   "cell_type": "code",
   "execution_count": 51,
   "id": "24ccf41c",
   "metadata": {},
   "outputs": [
    {
     "data": {
      "text/plain": [
       "4684"
      ]
     },
     "execution_count": 51,
     "metadata": {},
     "output_type": "execute_result"
    }
   ],
   "source": [
    "list3.pop(1)"
   ]
  },
  {
   "cell_type": "code",
   "execution_count": 52,
   "id": "bf811cfa",
   "metadata": {},
   "outputs": [
    {
     "data": {
      "text/plain": [
       "65"
      ]
     },
     "execution_count": 52,
     "metadata": {},
     "output_type": "execute_result"
    }
   ],
   "source": [
    "remove_item=list3.pop(1)\n",
    "\n",
    "remove_item"
   ]
  },
  {
   "cell_type": "code",
   "execution_count": 44,
   "id": "288bcdc2",
   "metadata": {},
   "outputs": [
    {
     "data": {
      "text/plain": [
       "[59]"
      ]
     },
     "execution_count": 44,
     "metadata": {},
     "output_type": "execute_result"
    }
   ],
   "source": [
    "list3"
   ]
  },
  {
   "cell_type": "code",
   "execution_count": 29,
   "id": "9e70073f",
   "metadata": {},
   "outputs": [],
   "source": [
    "del list3[1::2]"
   ]
  },
  {
   "cell_type": "code",
   "execution_count": 30,
   "id": "bab52c96",
   "metadata": {},
   "outputs": [
    {
     "data": {
      "text/plain": [
       "[59, 96546, 4684, 96546]"
      ]
     },
     "execution_count": 30,
     "metadata": {},
     "output_type": "execute_result"
    }
   ],
   "source": [
    "list3"
   ]
  },
  {
   "cell_type": "code",
   "execution_count": 31,
   "id": "a6a189d0",
   "metadata": {},
   "outputs": [],
   "source": [
    "list_1=[10,20,30]\n",
    "list_2=[10,20,30]\n",
    "\n",
    "list_3=list_2"
   ]
  },
  {
   "cell_type": "code",
   "execution_count": 32,
   "id": "58f5171a",
   "metadata": {},
   "outputs": [
    {
     "data": {
      "text/plain": [
       "2256048569472"
      ]
     },
     "execution_count": 32,
     "metadata": {},
     "output_type": "execute_result"
    }
   ],
   "source": [
    "id(list_1)"
   ]
  },
  {
   "cell_type": "code",
   "execution_count": 33,
   "id": "5b8081b0",
   "metadata": {},
   "outputs": [
    {
     "data": {
      "text/plain": [
       "2256047796992"
      ]
     },
     "execution_count": 33,
     "metadata": {},
     "output_type": "execute_result"
    }
   ],
   "source": [
    "id(list_2)"
   ]
  },
  {
   "cell_type": "code",
   "execution_count": 34,
   "id": "ba810c77",
   "metadata": {},
   "outputs": [
    {
     "data": {
      "text/plain": [
       "[10, 20, 30, 40]"
      ]
     },
     "execution_count": 34,
     "metadata": {},
     "output_type": "execute_result"
    }
   ],
   "source": [
    "list_3.append(40)\n",
    "\n",
    "list_3"
   ]
  },
  {
   "cell_type": "code",
   "execution_count": 35,
   "id": "b5de32f8",
   "metadata": {},
   "outputs": [
    {
     "data": {
      "text/plain": [
       "[10, 20, 30, 40]"
      ]
     },
     "execution_count": 35,
     "metadata": {},
     "output_type": "execute_result"
    }
   ],
   "source": [
    "list_2"
   ]
  },
  {
   "cell_type": "markdown",
   "id": "9a6a21c0",
   "metadata": {},
   "source": [
    "# Copy & Deepcopy"
   ]
  },
  {
   "cell_type": "code",
   "execution_count": 99,
   "id": "a29924a9",
   "metadata": {},
   "outputs": [
    {
     "name": "stdout",
     "output_type": "stream",
     "text": [
      "[1, 2, 3, 4]\n",
      "[1, 2, 3, 5]\n"
     ]
    }
   ],
   "source": [
    "import copy\n",
    "list1=[1,2,3,4]\n",
    "list2=copy.copy(list1)\n",
    "list2[3]=5\n",
    "\n",
    "print(list1)\n",
    "print(list2)"
   ]
  },
  {
   "cell_type": "code",
   "execution_count": 100,
   "id": "fdf1d9f0",
   "metadata": {},
   "outputs": [
    {
     "name": "stdout",
     "output_type": "stream",
     "text": [
      "[1, 2, 3, 4, [12, 15]]\n",
      "[1, 2, 3, 5, [12, 15]]\n"
     ]
    }
   ],
   "source": [
    "import copy\n",
    "list1=[1,2,3,4,[12,15]]\n",
    "list2=copy.copy(list1)\n",
    "list2[3]=5\n",
    "\n",
    "print(list1)\n",
    "print(list2)"
   ]
  },
  {
   "cell_type": "code",
   "execution_count": 101,
   "id": "af574420",
   "metadata": {},
   "outputs": [
    {
     "name": "stdout",
     "output_type": "stream",
     "text": [
      "[1, 2, 3, 4, [12, 15]]\n",
      "[1, 2, 3, 4, [500, 15]]\n"
     ]
    }
   ],
   "source": [
    "import copy\n",
    "list1=[1,2,3,4,[12,15]]\n",
    "list2=copy.deepcopy(list1)\n",
    "list2[4][0]=500\n",
    "\n",
    "print(list1)\n",
    "print(list2)"
   ]
  },
  {
   "cell_type": "code",
   "execution_count": 102,
   "id": "91a07ab4",
   "metadata": {},
   "outputs": [
    {
     "data": {
      "text/plain": [
       "[1, 2, 3, 4, [12, 15]]"
      ]
     },
     "execution_count": 102,
     "metadata": {},
     "output_type": "execute_result"
    }
   ],
   "source": [
    "list1"
   ]
  },
  {
   "cell_type": "markdown",
   "id": "734a1b3a",
   "metadata": {},
   "source": [
    "# Clear()\n"
   ]
  },
  {
   "cell_type": "code",
   "execution_count": 103,
   "id": "3ded47ed",
   "metadata": {},
   "outputs": [
    {
     "data": {
      "text/plain": [
       "[]"
      ]
     },
     "execution_count": 103,
     "metadata": {},
     "output_type": "execute_result"
    }
   ],
   "source": [
    "list1.clear() #clear everything\n",
    "\n",
    "list1"
   ]
  },
  {
   "cell_type": "code",
   "execution_count": 112,
   "id": "9734e530",
   "metadata": {},
   "outputs": [],
   "source": [
    "list1=[1,2,3,4,[12,15]]"
   ]
  },
  {
   "cell_type": "code",
   "execution_count": 113,
   "id": "96c3bf42",
   "metadata": {},
   "outputs": [],
   "source": [
    "del list1"
   ]
  },
  {
   "cell_type": "code",
   "execution_count": 114,
   "id": "d45cf19b",
   "metadata": {},
   "outputs": [
    {
     "ename": "NameError",
     "evalue": "name 'list1' is not defined",
     "output_type": "error",
     "traceback": [
      "\u001b[1;31m---------------------------------------------------------------------------\u001b[0m",
      "\u001b[1;31mNameError\u001b[0m                                 Traceback (most recent call last)",
      "Input \u001b[1;32mIn [114]\u001b[0m, in \u001b[0;36m<cell line: 1>\u001b[1;34m()\u001b[0m\n\u001b[1;32m----> 1\u001b[0m \u001b[43mlist1\u001b[49m\n",
      "\u001b[1;31mNameError\u001b[0m: name 'list1' is not defined"
     ]
    }
   ],
   "source": [
    "list1"
   ]
  },
  {
   "cell_type": "code",
   "execution_count": 115,
   "id": "26c61358",
   "metadata": {},
   "outputs": [
    {
     "ename": "NameError",
     "evalue": "name 'list1' is not defined",
     "output_type": "error",
     "traceback": [
      "\u001b[1;31m---------------------------------------------------------------------------\u001b[0m",
      "\u001b[1;31mNameError\u001b[0m                                 Traceback (most recent call last)",
      "Input \u001b[1;32mIn [115]\u001b[0m, in \u001b[0;36m<cell line: 1>\u001b[1;34m()\u001b[0m\n\u001b[1;32m----> 1\u001b[0m \u001b[38;5;28;01mdel\u001b[39;00m list1\n",
      "\u001b[1;31mNameError\u001b[0m: name 'list1' is not defined"
     ]
    }
   ],
   "source": [
    "del list1"
   ]
  },
  {
   "cell_type": "code",
   "execution_count": 116,
   "id": "57f5be20",
   "metadata": {},
   "outputs": [
    {
     "ename": "NameError",
     "evalue": "name 'list1' is not defined",
     "output_type": "error",
     "traceback": [
      "\u001b[1;31m---------------------------------------------------------------------------\u001b[0m",
      "\u001b[1;31mNameError\u001b[0m                                 Traceback (most recent call last)",
      "Input \u001b[1;32mIn [116]\u001b[0m, in \u001b[0;36m<cell line: 1>\u001b[1;34m()\u001b[0m\n\u001b[1;32m----> 1\u001b[0m \u001b[43mlist1\u001b[49m\n",
      "\u001b[1;31mNameError\u001b[0m: name 'list1' is not defined"
     ]
    }
   ],
   "source": [
    "list1"
   ]
  },
  {
   "cell_type": "markdown",
   "id": "0d038639",
   "metadata": {},
   "source": [
    "# Count()"
   ]
  },
  {
   "cell_type": "code",
   "execution_count": 88,
   "id": "02489e6b",
   "metadata": {},
   "outputs": [
    {
     "data": {
      "text/plain": [
       "1"
      ]
     },
     "execution_count": 88,
     "metadata": {},
     "output_type": "execute_result"
    }
   ],
   "source": [
    "list3=[4,5,6,7,8,9]\n",
    "\n",
    "list3.count(5)"
   ]
  },
  {
   "cell_type": "markdown",
   "id": "50cc80f0",
   "metadata": {},
   "source": [
    "# Index()"
   ]
  },
  {
   "cell_type": "code",
   "execution_count": 37,
   "id": "2a067fa7",
   "metadata": {},
   "outputs": [],
   "source": [
    "list3=[4,5,6,7,8,9]\n"
   ]
  },
  {
   "cell_type": "code",
   "execution_count": 38,
   "id": "80f59532",
   "metadata": {},
   "outputs": [
    {
     "data": {
      "text/plain": [
       "1"
      ]
     },
     "execution_count": 38,
     "metadata": {},
     "output_type": "execute_result"
    }
   ],
   "source": [
    "list3.index(5) # it returns the index position of the list"
   ]
  },
  {
   "cell_type": "markdown",
   "id": "77c44983",
   "metadata": {},
   "source": [
    "# Reverse()"
   ]
  },
  {
   "cell_type": "code",
   "execution_count": 40,
   "id": "9de1436b",
   "metadata": {},
   "outputs": [
    {
     "data": {
      "text/plain": [
       "[9, 8, 7, 6, 5, 4]"
      ]
     },
     "execution_count": 40,
     "metadata": {},
     "output_type": "execute_result"
    }
   ],
   "source": [
    "list3=[4,5,6,7,8,9]\n",
    "\n",
    "list3.reverse()\n",
    "\n",
    "list3"
   ]
  },
  {
   "cell_type": "code",
   "execution_count": 4,
   "id": "94ae200b",
   "metadata": {},
   "outputs": [
    {
     "name": "stdout",
     "output_type": "stream",
     "text": [
      "Using reverse()  [15, 14, 13, 12, 11, 10]\n",
      "Using reversed()  [10, 11, 12, 13, 14, 15]\n"
     ]
    }
   ],
   "source": [
    "lst = [10, 11, 12, 13, 14, 15]\n",
    "lst.reverse()\n",
    "print(\"Using reverse() \", lst)\n",
    " \n",
    "print(\"Using reversed() \", list(reversed(lst)))"
   ]
  },
  {
   "cell_type": "markdown",
   "id": "0924a9aa",
   "metadata": {},
   "source": [
    "# Sort()"
   ]
  },
  {
   "cell_type": "code",
   "execution_count": 41,
   "id": "0a00ffd2",
   "metadata": {},
   "outputs": [
    {
     "data": {
      "text/plain": [
       "[1, 2.6, 3, 4, 535]"
      ]
     },
     "execution_count": 41,
     "metadata": {},
     "output_type": "execute_result"
    }
   ],
   "source": [
    "list4=[4,535,1,3,2.6]\n",
    "\n",
    "list4.sort()\n",
    "\n",
    "list4"
   ]
  },
  {
   "cell_type": "code",
   "execution_count": 43,
   "id": "a1a011e9",
   "metadata": {},
   "outputs": [
    {
     "data": {
      "text/plain": [
       "[535, 4, 3, 2.6, 1]"
      ]
     },
     "execution_count": 43,
     "metadata": {},
     "output_type": "execute_result"
    }
   ],
   "source": [
    "list4.sort(reverse=True)\n",
    "\n",
    "list4"
   ]
  },
  {
   "cell_type": "code",
   "execution_count": 45,
   "id": "8b1b80ad",
   "metadata": {},
   "outputs": [
    {
     "name": "stdout",
     "output_type": "stream",
     "text": [
      "[1, 2.6, 3, 4, 535]\n",
      "[4, 535, 1, 3, 2.6]\n"
     ]
    }
   ],
   "source": [
    "list5=[4,535,1,3,2.6]\n",
    "\n",
    "sorted_list=sorted(list5)\n",
    "\n",
    "print(sorted_list)\n",
    "print(list5)"
   ]
  },
  {
   "cell_type": "code",
   "execution_count": 47,
   "id": "07a34302",
   "metadata": {},
   "outputs": [
    {
     "name": "stdout",
     "output_type": "stream",
     "text": [
      "[535, 4, 3, 2.6, 1]\n",
      "[4, 535, 1, 3, 2.6]\n"
     ]
    }
   ],
   "source": [
    "list5=[4,535,1,3,2.6]\n",
    "\n",
    "sorted_list=sorted(list5,reverse=True)\n",
    "\n",
    "print(sorted_list)\n",
    "print(list5)"
   ]
  },
  {
   "cell_type": "code",
   "execution_count": 48,
   "id": "1b559b2b",
   "metadata": {},
   "outputs": [
    {
     "data": {
      "text/plain": [
       "['__add__',\n",
       " '__class__',\n",
       " '__class_getitem__',\n",
       " '__contains__',\n",
       " '__delattr__',\n",
       " '__delitem__',\n",
       " '__dir__',\n",
       " '__doc__',\n",
       " '__eq__',\n",
       " '__format__',\n",
       " '__ge__',\n",
       " '__getattribute__',\n",
       " '__getitem__',\n",
       " '__gt__',\n",
       " '__hash__',\n",
       " '__iadd__',\n",
       " '__imul__',\n",
       " '__init__',\n",
       " '__init_subclass__',\n",
       " '__iter__',\n",
       " '__le__',\n",
       " '__len__',\n",
       " '__lt__',\n",
       " '__mul__',\n",
       " '__ne__',\n",
       " '__new__',\n",
       " '__reduce__',\n",
       " '__reduce_ex__',\n",
       " '__repr__',\n",
       " '__reversed__',\n",
       " '__rmul__',\n",
       " '__setattr__',\n",
       " '__setitem__',\n",
       " '__sizeof__',\n",
       " '__str__',\n",
       " '__subclasshook__',\n",
       " 'append',\n",
       " 'clear',\n",
       " 'copy',\n",
       " 'count',\n",
       " 'extend',\n",
       " 'index',\n",
       " 'insert',\n",
       " 'pop',\n",
       " 'remove',\n",
       " 'reverse',\n",
       " 'sort']"
      ]
     },
     "execution_count": 48,
     "metadata": {},
     "output_type": "execute_result"
    }
   ],
   "source": [
    "list6=[]\n",
    "\n",
    "dir(list6)"
   ]
  },
  {
   "cell_type": "markdown",
   "id": "53797b5a",
   "metadata": {},
   "source": [
    "# Tuple(Immutable)"
   ]
  },
  {
   "cell_type": "markdown",
   "id": "182e61db",
   "metadata": {},
   "source": [
    "### Declaration of tuple "
   ]
  },
  {
   "cell_type": "code",
   "execution_count": 49,
   "id": "88b4d4e9",
   "metadata": {},
   "outputs": [
    {
     "data": {
      "text/plain": [
       "tuple"
      ]
     },
     "execution_count": 49,
     "metadata": {},
     "output_type": "execute_result"
    }
   ],
   "source": [
    "t1=()\n",
    "\n",
    "type(t1)"
   ]
  },
  {
   "cell_type": "code",
   "execution_count": 50,
   "id": "7c074949",
   "metadata": {},
   "outputs": [
    {
     "data": {
      "text/plain": [
       "int"
      ]
     },
     "execution_count": 50,
     "metadata": {},
     "output_type": "execute_result"
    }
   ],
   "source": [
    "t1=(1)\n",
    "\n",
    "type(t1)"
   ]
  },
  {
   "cell_type": "code",
   "execution_count": 51,
   "id": "b7884a7d",
   "metadata": {},
   "outputs": [
    {
     "data": {
      "text/plain": [
       "tuple"
      ]
     },
     "execution_count": 51,
     "metadata": {},
     "output_type": "execute_result"
    }
   ],
   "source": [
    "t1=(1,)\n",
    "\n",
    "type(t1)"
   ]
  },
  {
   "cell_type": "code",
   "execution_count": 52,
   "id": "da2d2020",
   "metadata": {},
   "outputs": [
    {
     "data": {
      "text/plain": [
       "tuple"
      ]
     },
     "execution_count": 52,
     "metadata": {},
     "output_type": "execute_result"
    }
   ],
   "source": [
    "t1=1,\n",
    "\n",
    "type(t1)"
   ]
  },
  {
   "cell_type": "code",
   "execution_count": 55,
   "id": "e869dd55",
   "metadata": {},
   "outputs": [
    {
     "data": {
      "text/plain": [
       "tuple"
      ]
     },
     "execution_count": 55,
     "metadata": {},
     "output_type": "execute_result"
    }
   ],
   "source": [
    "t1=1,2\n",
    "\n",
    "type(t1)"
   ]
  },
  {
   "cell_type": "code",
   "execution_count": 57,
   "id": "d77a243a",
   "metadata": {},
   "outputs": [
    {
     "data": {
      "text/plain": [
       "(1, 2, 3, 'python', [656, 65546, 646], (653, 4, 9))"
      ]
     },
     "execution_count": 57,
     "metadata": {},
     "output_type": "execute_result"
    }
   ],
   "source": [
    "t2=(1,2,3,'python',[656,65546,646],(653,4,9))\n",
    "\n",
    "t2"
   ]
  },
  {
   "cell_type": "code",
   "execution_count": 58,
   "id": "3ee9257f",
   "metadata": {},
   "outputs": [],
   "source": [
    "t2=((),())"
   ]
  },
  {
   "cell_type": "markdown",
   "id": "09143bd3",
   "metadata": {},
   "source": [
    "### How to add elements in tuple"
   ]
  },
  {
   "cell_type": "code",
   "execution_count": 60,
   "id": "543266e2",
   "metadata": {},
   "outputs": [
    {
     "data": {
      "text/plain": [
       "(565, 6546, 64, 54, 5, 7)"
      ]
     },
     "execution_count": 60,
     "metadata": {},
     "output_type": "execute_result"
    }
   ],
   "source": [
    "t1=(565,6546,64)\n",
    "t2=(54,5,7)\n",
    "\n",
    "t3=t1+t2\n",
    "\n",
    "t3"
   ]
  },
  {
   "cell_type": "code",
   "execution_count": 61,
   "id": "ca8bd78c",
   "metadata": {},
   "outputs": [
    {
     "data": {
      "text/plain": [
       "(565, 6546, 64)"
      ]
     },
     "execution_count": 61,
     "metadata": {},
     "output_type": "execute_result"
    }
   ],
   "source": [
    "t1"
   ]
  },
  {
   "cell_type": "code",
   "execution_count": 62,
   "id": "f920a32d",
   "metadata": {},
   "outputs": [
    {
     "data": {
      "text/plain": [
       "(54, 5, 7)"
      ]
     },
     "execution_count": 62,
     "metadata": {},
     "output_type": "execute_result"
    }
   ],
   "source": [
    "t2"
   ]
  },
  {
   "cell_type": "markdown",
   "id": "3695e547",
   "metadata": {},
   "source": [
    "### Packing and Unpacking"
   ]
  },
  {
   "cell_type": "code",
   "execution_count": 63,
   "id": "0f705da3",
   "metadata": {},
   "outputs": [
    {
     "data": {
      "text/plain": [
       "(10, 20, 30)"
      ]
     },
     "execution_count": 63,
     "metadata": {},
     "output_type": "execute_result"
    }
   ],
   "source": [
    "num1=10\n",
    "num2=20\n",
    "num3=30\n",
    "\n",
    "tuple4=(num1,num2,num3)\n",
    "tuple4"
   ]
  },
  {
   "cell_type": "code",
   "execution_count": 65,
   "id": "90c087e6",
   "metadata": {},
   "outputs": [
    {
     "data": {
      "text/plain": [
       "(10, 20, 30)"
      ]
     },
     "execution_count": 65,
     "metadata": {},
     "output_type": "execute_result"
    }
   ],
   "source": [
    "var1,var2,var3=tuple4\n",
    "\n",
    "tuple4"
   ]
  },
  {
   "cell_type": "code",
   "execution_count": 66,
   "id": "ebdd0d2e",
   "metadata": {},
   "outputs": [
    {
     "data": {
      "text/plain": [
       "20"
      ]
     },
     "execution_count": 66,
     "metadata": {},
     "output_type": "execute_result"
    }
   ],
   "source": [
    "var2"
   ]
  },
  {
   "cell_type": "code",
   "execution_count": 67,
   "id": "e75ea839",
   "metadata": {},
   "outputs": [
    {
     "name": "stdout",
     "output_type": "stream",
     "text": [
      "3\n",
      "30\n",
      "10\n",
      "60\n"
     ]
    }
   ],
   "source": [
    "print(len(tuple4))\n",
    "print(max(tuple4))\n",
    "print(min(tuple4))\n",
    "print(sum(tuple4))\n"
   ]
  },
  {
   "cell_type": "markdown",
   "id": "15fddd14",
   "metadata": {},
   "source": [
    "### Tuple Indexing"
   ]
  },
  {
   "cell_type": "code",
   "execution_count": 7,
   "id": "ee7202d9",
   "metadata": {},
   "outputs": [],
   "source": [
    "t2=(1,2,3,'python',[656,65546,646],(653,4,9))"
   ]
  },
  {
   "cell_type": "code",
   "execution_count": 8,
   "id": "40e30a94",
   "metadata": {},
   "outputs": [
    {
     "data": {
      "text/plain": [
       "65546"
      ]
     },
     "execution_count": 8,
     "metadata": {},
     "output_type": "execute_result"
    }
   ],
   "source": [
    "t2[4][1]"
   ]
  },
  {
   "cell_type": "code",
   "execution_count": 10,
   "id": "d1900406",
   "metadata": {},
   "outputs": [
    {
     "data": {
      "text/plain": [
       "(1, 2, 3, 'python', [656, 31, 646], (653, 4, 9))"
      ]
     },
     "execution_count": 10,
     "metadata": {},
     "output_type": "execute_result"
    }
   ],
   "source": [
    "t2[4][1]=31\n",
    "\n",
    "t2"
   ]
  },
  {
   "cell_type": "code",
   "execution_count": 75,
   "id": "afe2d29e",
   "metadata": {},
   "outputs": [
    {
     "data": {
      "text/plain": [
       "'PYTHON'"
      ]
     },
     "execution_count": 75,
     "metadata": {},
     "output_type": "execute_result"
    }
   ],
   "source": [
    "t2[3].upper()"
   ]
  },
  {
   "cell_type": "code",
   "execution_count": 76,
   "id": "af1dad7e",
   "metadata": {},
   "outputs": [
    {
     "data": {
      "text/plain": [
       "'Python'"
      ]
     },
     "execution_count": 76,
     "metadata": {},
     "output_type": "execute_result"
    }
   ],
   "source": [
    "t2[3].capitalize()"
   ]
  },
  {
   "cell_type": "code",
   "execution_count": 83,
   "id": "c0093774",
   "metadata": {},
   "outputs": [
    {
     "data": {
      "text/plain": [
       "(1, 2, 3, 'python', [656, 31, 646], (653, 4, 9))"
      ]
     },
     "execution_count": 83,
     "metadata": {},
     "output_type": "execute_result"
    }
   ],
   "source": [
    "t2"
   ]
  },
  {
   "cell_type": "code",
   "execution_count": 80,
   "id": "cfab05e1",
   "metadata": {},
   "outputs": [
    {
     "data": {
      "text/plain": [
       "((653, 4, 9), [656, 31, 646], 'python', 3, 2, 1)"
      ]
     },
     "execution_count": 80,
     "metadata": {},
     "output_type": "execute_result"
    }
   ],
   "source": [
    "t2[::-1]"
   ]
  },
  {
   "cell_type": "code",
   "execution_count": 89,
   "id": "e42fd7bd",
   "metadata": {},
   "outputs": [
    {
     "data": {
      "text/plain": [
       "1"
      ]
     },
     "execution_count": 89,
     "metadata": {},
     "output_type": "execute_result"
    }
   ],
   "source": [
    "t2.count(2)"
   ]
  },
  {
   "cell_type": "code",
   "execution_count": 90,
   "id": "66caf869",
   "metadata": {},
   "outputs": [
    {
     "data": {
      "text/plain": [
       "1"
      ]
     },
     "execution_count": 90,
     "metadata": {},
     "output_type": "execute_result"
    }
   ],
   "source": [
    "t2.count('python')"
   ]
  },
  {
   "cell_type": "code",
   "execution_count": 91,
   "id": "1b6c5174",
   "metadata": {},
   "outputs": [
    {
     "data": {
      "text/plain": [
       "6"
      ]
     },
     "execution_count": 91,
     "metadata": {},
     "output_type": "execute_result"
    }
   ],
   "source": [
    "len(t2)"
   ]
  },
  {
   "cell_type": "code",
   "execution_count": 11,
   "id": "7f04a0bc",
   "metadata": {},
   "outputs": [
    {
     "data": {
      "text/plain": [
       "(40, 50)"
      ]
     },
     "execution_count": 11,
     "metadata": {},
     "output_type": "execute_result"
    }
   ],
   "source": [
    "tpl =[(10, 20, 40), (40, 50, 60), (70, 80, 90)]\n",
    "tpl[1][:-1]"
   ]
  },
  {
   "cell_type": "code",
   "execution_count": 12,
   "id": "2767b99f",
   "metadata": {},
   "outputs": [
    {
     "data": {
      "text/plain": [
       "[(10, 20, 40), (40, 50, 60)]"
      ]
     },
     "execution_count": 12,
     "metadata": {},
     "output_type": "execute_result"
    }
   ],
   "source": [
    "tpl =[(10, 20, 40), (40, 50, 60), (70, 80, 90)]\n",
    "tpl[:-1]"
   ]
  },
  {
   "cell_type": "code",
   "execution_count": 11,
   "id": "0502a3f2",
   "metadata": {},
   "outputs": [
    {
     "data": {
      "text/plain": [
       "(40, 50, 60, 100)"
      ]
     },
     "execution_count": 11,
     "metadata": {},
     "output_type": "execute_result"
    }
   ],
   "source": [
    "tpl =[(10, 20, 40), (40, 50, 60), (70, 80, 90)]\n",
    "tpl[1][:]+(100,)  #adding element"
   ]
  },
  {
   "cell_type": "code",
   "execution_count": 81,
   "id": "a4aefdd4",
   "metadata": {},
   "outputs": [
    {
     "data": {
      "text/plain": [
       "['__add__',\n",
       " '__class__',\n",
       " '__class_getitem__',\n",
       " '__contains__',\n",
       " '__delattr__',\n",
       " '__dir__',\n",
       " '__doc__',\n",
       " '__eq__',\n",
       " '__format__',\n",
       " '__ge__',\n",
       " '__getattribute__',\n",
       " '__getitem__',\n",
       " '__getnewargs__',\n",
       " '__gt__',\n",
       " '__hash__',\n",
       " '__init__',\n",
       " '__init_subclass__',\n",
       " '__iter__',\n",
       " '__le__',\n",
       " '__len__',\n",
       " '__lt__',\n",
       " '__mul__',\n",
       " '__ne__',\n",
       " '__new__',\n",
       " '__reduce__',\n",
       " '__reduce_ex__',\n",
       " '__repr__',\n",
       " '__rmul__',\n",
       " '__setattr__',\n",
       " '__sizeof__',\n",
       " '__str__',\n",
       " '__subclasshook__',\n",
       " 'count',\n",
       " 'index']"
      ]
     },
     "execution_count": 81,
     "metadata": {},
     "output_type": "execute_result"
    }
   ],
   "source": [
    "tuple1=()\n",
    "dir(tuple1)"
   ]
  },
  {
   "cell_type": "code",
   "execution_count": null,
   "id": "2a76d128",
   "metadata": {},
   "outputs": [],
   "source": []
  }
 ],
 "metadata": {
  "kernelspec": {
   "display_name": "Python 3 (ipykernel)",
   "language": "python",
   "name": "python3"
  },
  "language_info": {
   "codemirror_mode": {
    "name": "ipython",
    "version": 3
   },
   "file_extension": ".py",
   "mimetype": "text/x-python",
   "name": "python",
   "nbconvert_exporter": "python",
   "pygments_lexer": "ipython3",
   "version": "3.9.12"
  }
 },
 "nbformat": 4,
 "nbformat_minor": 5
}
