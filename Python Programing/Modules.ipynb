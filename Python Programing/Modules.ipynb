{
 "cells": [
  {
   "cell_type": "markdown",
   "id": "b2ef8de6",
   "metadata": {},
   "source": [
    "### How to import module"
   ]
  },
  {
   "cell_type": "code",
   "execution_count": 1,
   "id": "62a1dd3a",
   "metadata": {},
   "outputs": [
    {
     "data": {
      "text/plain": [
       "120"
      ]
     },
     "execution_count": 1,
     "metadata": {},
     "output_type": "execute_result"
    }
   ],
   "source": [
    "import math\n",
    "math.factorial(5)"
   ]
  },
  {
   "cell_type": "code",
   "execution_count": 4,
   "id": "acc715a2",
   "metadata": {},
   "outputs": [
    {
     "data": {
      "text/plain": [
       "23.790754506740637"
      ]
     },
     "execution_count": 4,
     "metadata": {},
     "output_type": "execute_result"
    }
   ],
   "source": [
    "math.sqrt(566)"
   ]
  },
  {
   "cell_type": "code",
   "execution_count": 5,
   "id": "241a5830",
   "metadata": {},
   "outputs": [],
   "source": [
    "from math import factorial,sqrt,isqrt"
   ]
  },
  {
   "cell_type": "code",
   "execution_count": 8,
   "id": "c28ebec9",
   "metadata": {},
   "outputs": [
    {
     "data": {
      "text/plain": [
       "720"
      ]
     },
     "execution_count": 8,
     "metadata": {},
     "output_type": "execute_result"
    }
   ],
   "source": [
    "factorial(6)"
   ]
  },
  {
   "cell_type": "code",
   "execution_count": 6,
   "id": "f0c9e637",
   "metadata": {},
   "outputs": [],
   "source": [
    "import math as m"
   ]
  },
  {
   "cell_type": "code",
   "execution_count": 7,
   "id": "729487b8",
   "metadata": {},
   "outputs": [
    {
     "data": {
      "text/plain": [
       "75"
      ]
     },
     "execution_count": 7,
     "metadata": {},
     "output_type": "execute_result"
    }
   ],
   "source": [
    "m.isqrt(5644)"
   ]
  },
  {
   "cell_type": "code",
   "execution_count": 9,
   "id": "01063e6d",
   "metadata": {},
   "outputs": [
    {
     "data": {
      "text/plain": [
       "['__doc__',\n",
       " '__loader__',\n",
       " '__name__',\n",
       " '__package__',\n",
       " '__spec__',\n",
       " 'acos',\n",
       " 'acosh',\n",
       " 'asin',\n",
       " 'asinh',\n",
       " 'atan',\n",
       " 'atan2',\n",
       " 'atanh',\n",
       " 'ceil',\n",
       " 'comb',\n",
       " 'copysign',\n",
       " 'cos',\n",
       " 'cosh',\n",
       " 'degrees',\n",
       " 'dist',\n",
       " 'e',\n",
       " 'erf',\n",
       " 'erfc',\n",
       " 'exp',\n",
       " 'expm1',\n",
       " 'fabs',\n",
       " 'factorial',\n",
       " 'floor',\n",
       " 'fmod',\n",
       " 'frexp',\n",
       " 'fsum',\n",
       " 'gamma',\n",
       " 'gcd',\n",
       " 'hypot',\n",
       " 'inf',\n",
       " 'isclose',\n",
       " 'isfinite',\n",
       " 'isinf',\n",
       " 'isnan',\n",
       " 'isqrt',\n",
       " 'lcm',\n",
       " 'ldexp',\n",
       " 'lgamma',\n",
       " 'log',\n",
       " 'log10',\n",
       " 'log1p',\n",
       " 'log2',\n",
       " 'modf',\n",
       " 'nan',\n",
       " 'nextafter',\n",
       " 'perm',\n",
       " 'pi',\n",
       " 'pow',\n",
       " 'prod',\n",
       " 'radians',\n",
       " 'remainder',\n",
       " 'sin',\n",
       " 'sinh',\n",
       " 'sqrt',\n",
       " 'tan',\n",
       " 'tanh',\n",
       " 'tau',\n",
       " 'trunc',\n",
       " 'ulp']"
      ]
     },
     "execution_count": 9,
     "metadata": {},
     "output_type": "execute_result"
    }
   ],
   "source": [
    "dir(math)"
   ]
  },
  {
   "cell_type": "markdown",
   "id": "b4ba919b",
   "metadata": {},
   "source": [
    "### datetime module"
   ]
  },
  {
   "cell_type": "code",
   "execution_count": 10,
   "id": "9d12d736",
   "metadata": {},
   "outputs": [],
   "source": [
    "from datetime import date"
   ]
  },
  {
   "cell_type": "code",
   "execution_count": 11,
   "id": "c06f8765",
   "metadata": {},
   "outputs": [
    {
     "name": "stdout",
     "output_type": "stream",
     "text": [
      "2022-08-29\n",
      "29\n",
      "8\n",
      "2022\n"
     ]
    }
   ],
   "source": [
    "today=date.today()\n",
    "\n",
    "print(today)\n",
    "print(today.day)\n",
    "print(today.month)\n",
    "print(today.year)"
   ]
  },
  {
   "cell_type": "code",
   "execution_count": 42,
   "id": "9aac1e68",
   "metadata": {},
   "outputs": [
    {
     "name": "stdout",
     "output_type": "stream",
     "text": [
      "1970-01-01 09:48:04\n"
     ]
    }
   ],
   "source": [
    "from datetime import datetime\n",
    "\n",
    "print(datetime.fromtimestamp(15484))"
   ]
  },
  {
   "cell_type": "code",
   "execution_count": 48,
   "id": "4f7621f8",
   "metadata": {},
   "outputs": [
    {
     "name": "stdout",
     "output_type": "stream",
     "text": [
      "2016-07-31 16:37:46\n"
     ]
    }
   ],
   "source": [
    "from datetime import datetime\n",
    "\n",
    "print(datetime.fromtimestamp(1469963266))"
   ]
  },
  {
   "cell_type": "code",
   "execution_count": 16,
   "id": "1dd80e95",
   "metadata": {},
   "outputs": [
    {
     "name": "stdout",
     "output_type": "stream",
     "text": [
      "2022-08-29\n"
     ]
    }
   ],
   "source": [
    "today=date.today()\n",
    "Str=date.isoformat(today) #change the date to string\n",
    "print(Str)"
   ]
  },
  {
   "cell_type": "code",
   "execution_count": 22,
   "id": "dd899aac",
   "metadata": {},
   "outputs": [
    {
     "name": "stdout",
     "output_type": "stream",
     "text": [
      "2012-01-23 00:00:00\n",
      "2012-01-23 13:15:14\n"
     ]
    }
   ],
   "source": [
    "from datetime import datetime\n",
    "a=datetime(2012,1,23)\n",
    "print(a)\n",
    "b=datetime(2012,1,23,13,15,14)\n",
    "print(b)"
   ]
  },
  {
   "cell_type": "code",
   "execution_count": 24,
   "id": "fb3efe03",
   "metadata": {},
   "outputs": [
    {
     "name": "stdout",
     "output_type": "stream",
     "text": [
      "2022-08-29 11:16:42.791603\n"
     ]
    }
   ],
   "source": [
    "currenttime=datetime.now()\n",
    "print(currenttime)"
   ]
  },
  {
   "cell_type": "markdown",
   "id": "482b19bc",
   "metadata": {},
   "source": [
    "### Random Module"
   ]
  },
  {
   "cell_type": "code",
   "execution_count": 26,
   "id": "2691c330",
   "metadata": {},
   "outputs": [
    {
     "data": {
      "text/plain": [
       "0.31776711942207936"
      ]
     },
     "execution_count": 26,
     "metadata": {},
     "output_type": "execute_result"
    }
   ],
   "source": [
    "import random\n",
    "\n",
    "random.random() #returns value between 0.0 to 1.0"
   ]
  },
  {
   "cell_type": "code",
   "execution_count": 28,
   "id": "f88afd6c",
   "metadata": {},
   "outputs": [
    {
     "data": {
      "text/plain": [
       "13"
      ]
     },
     "execution_count": 28,
     "metadata": {},
     "output_type": "execute_result"
    }
   ],
   "source": [
    "random.randint(10,20)"
   ]
  },
  {
   "cell_type": "code",
   "execution_count": 31,
   "id": "e869b350",
   "metadata": {},
   "outputs": [
    {
     "data": {
      "text/plain": [
       "13.88734687816115"
      ]
     },
     "execution_count": 31,
     "metadata": {},
     "output_type": "execute_result"
    }
   ],
   "source": [
    "random.uniform(10,20)"
   ]
  },
  {
   "cell_type": "code",
   "execution_count": 38,
   "id": "c18ac72e",
   "metadata": {},
   "outputs": [
    {
     "data": {
      "text/plain": [
       "15"
      ]
     },
     "execution_count": 38,
     "metadata": {},
     "output_type": "execute_result"
    }
   ],
   "source": [
    "random.randrange(10,50,5)"
   ]
  },
  {
   "cell_type": "code",
   "execution_count": 40,
   "id": "3ef966fe",
   "metadata": {},
   "outputs": [
    {
     "data": {
      "text/plain": [
       "-8"
      ]
     },
     "execution_count": 40,
     "metadata": {},
     "output_type": "execute_result"
    }
   ],
   "source": [
    "lists=list(range(-20,20,2))\n",
    "random.choice(lists)"
   ]
  },
  {
   "cell_type": "code",
   "execution_count": null,
   "id": "47bfbb23",
   "metadata": {},
   "outputs": [],
   "source": []
  }
 ],
 "metadata": {
  "kernelspec": {
   "display_name": "Python 3 (ipykernel)",
   "language": "python",
   "name": "python3"
  },
  "language_info": {
   "codemirror_mode": {
    "name": "ipython",
    "version": 3
   },
   "file_extension": ".py",
   "mimetype": "text/x-python",
   "name": "python",
   "nbconvert_exporter": "python",
   "pygments_lexer": "ipython3",
   "version": "3.9.12"
  }
 },
 "nbformat": 4,
 "nbformat_minor": 5
}
